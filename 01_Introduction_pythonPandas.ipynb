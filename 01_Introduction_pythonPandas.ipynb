{
  "nbformat": 4,
  "nbformat_minor": 0,
  "metadata": {
    "colab": {
      "name": "01_Introduction_pythonPandas.ipynb",
      "provenance": [],
      "collapsed_sections": [],
      "include_colab_link": true
    },
    "kernelspec": {
      "display_name": "Python 3",
      "language": "python",
      "name": "python3"
    },
    "language_info": {
      "codemirror_mode": {
        "name": "ipython",
        "version": 3
      },
      "file_extension": ".py",
      "mimetype": "text/x-python",
      "name": "python",
      "nbconvert_exporter": "python",
      "pygments_lexer": "ipython3",
      "version": "3.7.3"
    }
  },
  "cells": [
    {
      "cell_type": "markdown",
      "metadata": {
        "id": "view-in-github",
        "colab_type": "text"
      },
      "source": [
        "<a href=\"https://colab.research.google.com/github/annemariet/tutorials/blob/master/01_Introduction_pythonPandas.ipynb\" target=\"_parent\"><img src=\"https://colab.research.google.com/assets/colab-badge.svg\" alt=\"Open In Colab\"/></a>"
      ]
    },
    {
      "cell_type": "markdown",
      "metadata": {
        "id": "CumKKJoF7Q4I",
        "colab_type": "text"
      },
      "source": [
        "#Introduction"
      ]
    },
    {
      "cell_type": "markdown",
      "metadata": {
        "id": "ynOUsvs57U9c",
        "colab_type": "text"
      },
      "source": [
        "This notebook gives some reminders on the [Pandas DataFrames and Series structures](https://pandas.pydata.org/docs/getting_started/dsintro.html)."
      ]
    },
    {
      "cell_type": "markdown",
      "metadata": {
        "colab_type": "text",
        "id": "qsXifYOK_qzQ"
      },
      "source": [
        "## Series"
      ]
    },
    {
      "cell_type": "markdown",
      "metadata": {
        "colab_type": "text",
        "id": "fHS_DlpsBPz-"
      },
      "source": [
        "\n",
        "`Series`structures can be created from the following data types:\n",
        "- scalar values \n",
        "- Python native dictionaries\n",
        "- multidimensional arrays (called ndarrays)."
      ]
    },
    {
      "cell_type": "markdown",
      "metadata": {
        "colab_type": "text",
        "id": "oTWAzavQ_hhX"
      },
      "source": [
        "A series is a vector of values taken by a variable. Usually it would represent the values taken by a variable for different observations (or individuals)."
      ]
    },
    {
      "cell_type": "code",
      "metadata": {
        "colab_type": "code",
        "id": "mur79hd2-hU3",
        "colab": {}
      },
      "source": [
        "import pandas as pd"
      ],
      "execution_count": 0,
      "outputs": []
    },
    {
      "cell_type": "markdown",
      "metadata": {
        "colab_type": "text",
        "id": "vfS7ZHiKCszP"
      },
      "source": [
        " ### from scalar values"
      ]
    },
    {
      "cell_type": "code",
      "metadata": {
        "colab_type": "code",
        "id": "kVhGBMAp_R9G",
        "colab": {}
      },
      "source": [
        "# Program to Create series with scalar values  \n",
        "data_points =[1, 3, 4, 5, 6, 2, 9]  # Numeric data \n",
        "  \n",
        "# Creating series with default index values \n",
        "s = pd.Series(data_points) \n"
      ],
      "execution_count": 0,
      "outputs": []
    },
    {
      "cell_type": "code",
      "metadata": {
        "colab_type": "code",
        "id": "KN--893MALN8",
        "colab": {}
      },
      "source": [
        "# predefined index values \n",
        "index =['a', 'b', 'c', 'd', 'e', 'f', 'g']  \n",
        "  \n",
        "# Creating series with predefined index values \n",
        "si = pd.Series(data_points, index) "
      ],
      "execution_count": 0,
      "outputs": []
    },
    {
      "cell_type": "code",
      "metadata": {
        "colab_type": "code",
        "id": "DObd2AGVAE1x",
        "outputId": "3205fc6d-d71c-4e0c-a832-85b3507bf267",
        "colab": {
          "base_uri": "https://localhost:8080/",
          "height": 156
        }
      },
      "source": [
        "si"
      ],
      "execution_count": 0,
      "outputs": [
        {
          "output_type": "execute_result",
          "data": {
            "text/plain": [
              "a    1\n",
              "b    3\n",
              "c    4\n",
              "d    5\n",
              "e    6\n",
              "f    2\n",
              "g    9\n",
              "dtype: int64"
            ]
          },
          "metadata": {
            "tags": []
          },
          "execution_count": 4
        }
      ]
    },
    {
      "cell_type": "code",
      "metadata": {
        "colab_type": "code",
        "id": "ZRrfd_mi_TXS",
        "outputId": "5d7d0d9d-fbd9-4dcd-b150-c623649d3df4",
        "colab": {
          "base_uri": "https://localhost:8080/",
          "height": 35
        }
      },
      "source": [
        "si['f']  # direct indexing"
      ],
      "execution_count": 0,
      "outputs": [
        {
          "output_type": "execute_result",
          "data": {
            "text/plain": [
              "2"
            ]
          },
          "metadata": {
            "tags": []
          },
          "execution_count": 7
        }
      ]
    },
    {
      "cell_type": "markdown",
      "metadata": {
        "colab_type": "text",
        "id": "qFVVSr5sDV4Z"
      },
      "source": [
        "### from a dictionary\n",
        "\n",
        "A dictionary is a key-value mapping. Where values are indexed by their position in a list, here values are indexed by a key (which can take any hashable type, for instance alpha-numerical characters)."
      ]
    },
    {
      "cell_type": "code",
      "metadata": {
        "colab_type": "code",
        "id": "oXepXx0VDdCw",
        "outputId": "5d1f570e-ed4e-4a78-c8df-ee19a2c445e3",
        "colab": {
          "base_uri": "https://localhost:8080/",
          "height": 121
        }
      },
      "source": [
        "# Program to Create Dictionary series \n",
        "dictionary ={'a':1, 'b':2, 'c':3, 'd':4, 'e':5}  \n",
        "  \n",
        "# Creating series of Dictionary type \n",
        "sd = pd.Series(dictionary)\n",
        "sd"
      ],
      "execution_count": 0,
      "outputs": [
        {
          "output_type": "execute_result",
          "data": {
            "text/plain": [
              "a    1\n",
              "b    2\n",
              "c    3\n",
              "d    4\n",
              "e    5\n",
              "dtype: int64"
            ]
          },
          "metadata": {
            "tags": []
          },
          "execution_count": 8
        }
      ]
    },
    {
      "cell_type": "markdown",
      "metadata": {
        "colab_type": "text",
        "id": "V64KXAoQRQ_R"
      },
      "source": [
        "###  from a Ndarray"
      ]
    },
    {
      "cell_type": "code",
      "metadata": {
        "colab_type": "code",
        "id": "rh1E2Gj_DjAy",
        "colab": {}
      },
      "source": [
        "import pandas as pd\n",
        "# Program to Create ndarray series \n",
        "nddata =[[2, 3, 4], [5, 6, 7]]  # Defining 2darray \n",
        "  \n",
        "# Creating series of 2darray \n",
        "snd = pd.Series(nddata) "
      ],
      "execution_count": 0,
      "outputs": []
    },
    {
      "cell_type": "code",
      "metadata": {
        "colab_type": "code",
        "id": "mv6Y_i-l3aXL",
        "outputId": "6bd25285-af07-4043-c7b8-ba0d926a9cd3",
        "colab": {
          "base_uri": "https://localhost:8080/",
          "height": 35
        }
      },
      "source": [
        "nddata, nddata[0][1]"
      ],
      "execution_count": 0,
      "outputs": [
        {
          "output_type": "execute_result",
          "data": {
            "text/plain": [
              "([[2, 3, 4], [5, 6, 7]], 3)"
            ]
          },
          "metadata": {
            "tags": []
          },
          "execution_count": 11
        }
      ]
    },
    {
      "cell_type": "code",
      "metadata": {
        "colab_type": "code",
        "id": "0EkWmcBrRkXJ",
        "outputId": "ced5bae3-8448-4cb1-d53f-f568d9f73a6c",
        "colab": {
          "base_uri": "https://localhost:8080/",
          "height": 35
        }
      },
      "source": [
        "snd[1][1]"
      ],
      "execution_count": 0,
      "outputs": [
        {
          "output_type": "execute_result",
          "data": {
            "text/plain": [
              "6"
            ]
          },
          "metadata": {
            "tags": []
          },
          "execution_count": 13
        }
      ]
    },
    {
      "cell_type": "markdown",
      "metadata": {
        "colab_type": "text",
        "id": "30qZORvWRtRE"
      },
      "source": [
        "## DataFrames\n",
        "\n",
        "A DataFrame is a 2-dimensional data structure : several columns contain the variables, with their observations indexed on the rows.\n",
        "\n",
        "It can be built from the same kind of data as `Series`:\n",
        "- one or more scalar vectors\n",
        "- one or more dictionaries\n",
        "- 2D-numpy ndarray"
      ]
    },
    {
      "cell_type": "code",
      "metadata": {
        "colab_type": "code",
        "id": "VUSzYgpKRvQA",
        "colab": {}
      },
      "source": [
        "# Program to Create Data Frame with two dictionaries \n",
        "dict1 ={'a':1, 'b':2, 'c':3, 'd':4}        # Define Dictionary 1 \n",
        "dict2 ={'a':5, 'b':6, 'c':7, 'd':8, 'e':9} # Define Dictionary 2 \n",
        "data = {'first':dict1, 'second':dict2}  # Define Data with dict1 and dict2 \n",
        "df = pd.DataFrame(data)  # Create DataFrame "
      ],
      "execution_count": 0,
      "outputs": []
    },
    {
      "cell_type": "code",
      "metadata": {
        "colab_type": "code",
        "id": "Ys6HSN4lS_bS",
        "outputId": "e3e9677a-1535-45bc-c50b-1b2322b27a36",
        "colab": {
          "base_uri": "https://localhost:8080/",
          "height": 202
        }
      },
      "source": [
        "df  # note that the missing value is filled with a NaN by default (Not a Number)"
      ],
      "execution_count": 0,
      "outputs": [
        {
          "output_type": "execute_result",
          "data": {
            "text/html": [
              "<div>\n",
              "<style scoped>\n",
              "    .dataframe tbody tr th:only-of-type {\n",
              "        vertical-align: middle;\n",
              "    }\n",
              "\n",
              "    .dataframe tbody tr th {\n",
              "        vertical-align: top;\n",
              "    }\n",
              "\n",
              "    .dataframe thead th {\n",
              "        text-align: right;\n",
              "    }\n",
              "</style>\n",
              "<table border=\"1\" class=\"dataframe\">\n",
              "  <thead>\n",
              "    <tr style=\"text-align: right;\">\n",
              "      <th></th>\n",
              "      <th>first</th>\n",
              "      <th>second</th>\n",
              "    </tr>\n",
              "  </thead>\n",
              "  <tbody>\n",
              "    <tr>\n",
              "      <th>a</th>\n",
              "      <td>1.0</td>\n",
              "      <td>5</td>\n",
              "    </tr>\n",
              "    <tr>\n",
              "      <th>b</th>\n",
              "      <td>2.0</td>\n",
              "      <td>6</td>\n",
              "    </tr>\n",
              "    <tr>\n",
              "      <th>c</th>\n",
              "      <td>3.0</td>\n",
              "      <td>7</td>\n",
              "    </tr>\n",
              "    <tr>\n",
              "      <th>d</th>\n",
              "      <td>4.0</td>\n",
              "      <td>8</td>\n",
              "    </tr>\n",
              "    <tr>\n",
              "      <th>e</th>\n",
              "      <td>NaN</td>\n",
              "      <td>9</td>\n",
              "    </tr>\n",
              "  </tbody>\n",
              "</table>\n",
              "</div>"
            ],
            "text/plain": [
              "   first  second\n",
              "a    1.0       5\n",
              "b    2.0       6\n",
              "c    3.0       7\n",
              "d    4.0       8\n",
              "e    NaN       9"
            ]
          },
          "metadata": {
            "tags": []
          },
          "execution_count": 16
        }
      ]
    },
    {
      "cell_type": "markdown",
      "metadata": {
        "colab_type": "text",
        "id": "ojUAgNzDTLp5"
      },
      "source": [
        "###  from Series\n",
        "\n",
        "A DataFrame can also be created from a set of series, for instance as follows:"
      ]
    },
    {
      "cell_type": "code",
      "metadata": {
        "colab_type": "code",
        "id": "ol-tmKMwTrvs",
        "colab": {}
      },
      "source": [
        "# Program to create Dataframe of three series  \n",
        "import pandas as pd \n",
        "  \n",
        "s1 = pd.Series([1, 3, 4, 5, 6, 2, 9])           # Define series 1 \n",
        "s2 = pd.Series([1.1, 3.5, 4.7, 5.8, 2.9, 9.3]) # Define series 2 \n",
        "s3 = pd.Series(['a', 'b', 'c', 'd', 'e'])     # Define series 3 \n",
        "  \n",
        "  \n",
        "Data ={'first':s1, 'second':s2, 'third':s3} # Define Data \n",
        "dfseries = pd.DataFrame(Data)              # Create DataFrame "
      ],
      "execution_count": 0,
      "outputs": []
    },
    {
      "cell_type": "markdown",
      "metadata": {
        "colab_type": "text",
        "id": "3L60pT0tT9LF"
      },
      "source": [
        "### from 2D-numpy ndarray"
      ]
    },
    {
      "cell_type": "code",
      "metadata": {
        "colab_type": "code",
        "id": "ti6tCCtET18E",
        "colab": {}
      },
      "source": [
        "# Program to create DataFrame from 2D array \n",
        "import pandas as pd # Import Library \n",
        "d1 =[[2, 3, 4], [5, 6, 7]] # Define 2d array 1 \n",
        "d2 =[[2, 4, 8], [1, 3, 9]] # Define 2d array 2 \n",
        "Data ={'first': d1, 'second': d2} # Define Data  \n",
        "df2d = pd.DataFrame(Data)    # Create DataFrame "
      ],
      "execution_count": 0,
      "outputs": []
    },
    {
      "cell_type": "code",
      "metadata": {
        "colab_type": "code",
        "id": "owvl4Iis4HXk",
        "outputId": "6ebcbb1f-9f85-42f2-d43f-996f3957e5fc",
        "colab": {
          "base_uri": "https://localhost:8080/",
          "height": 110
        }
      },
      "source": [
        "df2d"
      ],
      "execution_count": 0,
      "outputs": [
        {
          "output_type": "execute_result",
          "data": {
            "text/html": [
              "<div>\n",
              "<style scoped>\n",
              "    .dataframe tbody tr th:only-of-type {\n",
              "        vertical-align: middle;\n",
              "    }\n",
              "\n",
              "    .dataframe tbody tr th {\n",
              "        vertical-align: top;\n",
              "    }\n",
              "\n",
              "    .dataframe thead th {\n",
              "        text-align: right;\n",
              "    }\n",
              "</style>\n",
              "<table border=\"1\" class=\"dataframe\">\n",
              "  <thead>\n",
              "    <tr style=\"text-align: right;\">\n",
              "      <th></th>\n",
              "      <th>first</th>\n",
              "      <th>second</th>\n",
              "    </tr>\n",
              "  </thead>\n",
              "  <tbody>\n",
              "    <tr>\n",
              "      <th>0</th>\n",
              "      <td>[2, 3, 4]</td>\n",
              "      <td>[2, 4, 8]</td>\n",
              "    </tr>\n",
              "    <tr>\n",
              "      <th>1</th>\n",
              "      <td>[5, 6, 7]</td>\n",
              "      <td>[1, 3, 9]</td>\n",
              "    </tr>\n",
              "  </tbody>\n",
              "</table>\n",
              "</div>"
            ],
            "text/plain": [
              "       first     second\n",
              "0  [2, 3, 4]  [2, 4, 8]\n",
              "1  [5, 6, 7]  [1, 3, 9]"
            ]
          },
          "metadata": {
            "tags": []
          },
          "execution_count": 20
        }
      ]
    },
    {
      "cell_type": "markdown",
      "metadata": {
        "id": "zJjzvQccfKiY",
        "colab_type": "text"
      },
      "source": [
        "## Tidy data\n",
        "\n",
        "It is useful to organize a DataFrame as [_tidy data_](https://vita.had.co.nz/papers/tidy-data.pdf):\n",
        "\n",
        "\"A dataset is a collection of **values**, usually either numbers (if quantitative) or strings (if\n",
        "qualitative). Values are organised in two ways. Every value belongs to a **variable** and an\n",
        "**observation**. A variable contains all values that measure the same underlying attribute (like\n",
        "height, temperature, duration) across units. An observation contains all values measured on\n",
        "the same unit (like a person, or a day, or a race) across attributes.\"\n",
        "\n",
        "In tidy data:\n",
        "1. Each variable forms a column.\n",
        "2. Each observation forms a row.\n",
        "3. Each type of observational unit forms a table\"\n"
      ]
    },
    {
      "cell_type": "markdown",
      "metadata": {
        "colab_type": "text",
        "id": "KapNngHa4OdJ"
      },
      "source": [
        "# Exercise \n",
        "\n",
        "We are going to play with an automobile dataset, in which each column gives a different feature of a car, such as body shape, motor type, price, etc.\n",
        "\n",
        "You can download the data at [this url](https://github.com/annemariet/tutorials/blob/master/data/Automobile_data.csv). \n",
        "\n"
      ]
    },
    {
      "cell_type": "markdown",
      "metadata": {
        "colab_type": "text",
        "id": "HpiRbf-b4kfb"
      },
      "source": [
        "\n",
        "Load the dataframe and print the first 10 and last 10 lines:\n",
        "\n",
        "- use the github \"raw\" button to get the link to the raw content\n",
        "- pandas read_csv can read from urls\n",
        "- use `head` and `tail` methods."
      ]
    },
    {
      "cell_type": "code",
      "metadata": {
        "colab_type": "code",
        "id": "Naq_yaYJ4SNR",
        "colab": {}
      },
      "source": [
        "# load df"
      ],
      "execution_count": 0,
      "outputs": []
    },
    {
      "cell_type": "code",
      "metadata": {
        "id": "DwJ_SkAMoAwg",
        "colab_type": "code",
        "colab": {}
      },
      "source": [
        "# head"
      ],
      "execution_count": 0,
      "outputs": []
    },
    {
      "cell_type": "code",
      "metadata": {
        "id": "D6pNhWlyncwk",
        "colab_type": "code",
        "colab": {}
      },
      "source": [
        "# tail"
      ],
      "execution_count": 0,
      "outputs": []
    },
    {
      "cell_type": "markdown",
      "metadata": {
        "id": "EvuvHR-DoJ43",
        "colab_type": "text"
      },
      "source": [
        "You can access to the content of a column by indexing the dataframe with the column name, which returns a `pd.Series`. You can view the list of columns with `df.columns`."
      ]
    },
    {
      "cell_type": "code",
      "metadata": {
        "id": "fgMMk63_3ce5",
        "colab_type": "code",
        "outputId": "1c2699f6-eec8-4bb1-dee6-19579e5f1ef4",
        "colab": {
          "base_uri": "https://localhost:8080/",
          "height": 225
        }
      },
      "source": [
        "d1=df['company']\n",
        "d1"
      ],
      "execution_count": 4,
      "outputs": [
        {
          "output_type": "execute_result",
          "data": {
            "text/plain": [
              "0     alfa-romero\n",
              "1     alfa-romero\n",
              "2     alfa-romero\n",
              "3            audi\n",
              "4            audi\n",
              "         ...     \n",
              "56     volkswagen\n",
              "57     volkswagen\n",
              "58     volkswagen\n",
              "59          volvo\n",
              "60          volvo\n",
              "Name: company, Length: 61, dtype: object"
            ]
          },
          "metadata": {
            "tags": []
          },
          "execution_count": 4
        }
      ]
    },
    {
      "cell_type": "code",
      "metadata": {
        "id": "n1dyl7pt3ce_",
        "colab_type": "code",
        "outputId": "88472a1b-b141-4bf1-cd87-392f9809ac57",
        "colab": {
          "base_uri": "https://localhost:8080/",
          "height": 69
        }
      },
      "source": [
        "df.columns"
      ],
      "execution_count": 5,
      "outputs": [
        {
          "output_type": "execute_result",
          "data": {
            "text/plain": [
              "Index(['index', 'company', 'body-style', 'wheel-base', 'length', 'engine-type',\n",
              "       'num-of-cylinders', 'horsepower', 'average-mileage', 'price'],\n",
              "      dtype='object')"
            ]
          },
          "metadata": {
            "tags": []
          },
          "execution_count": 5
        }
      ]
    },
    {
      "cell_type": "markdown",
      "metadata": {
        "colab_type": "text",
        "id": "964Nbl9c4pNh"
      },
      "source": [
        "What is the company with the most expensive car?\n",
        "- using and filtering, you can select rows for which a predicate is true, eg: `df[df[\"<column>\"]==<value>]`.\n",
        "- using `df.loc[<index>]` you can select rows at the given indexes.\n",
        "- pandas offers both `max` and `idxmax` methods."
      ]
    },
    {
      "cell_type": "code",
      "metadata": {
        "colab_type": "code",
        "id": "1cNB7Nyu5QmO",
        "colab": {}
      },
      "source": [
        "# answer"
      ],
      "execution_count": 0,
      "outputs": []
    },
    {
      "cell_type": "markdown",
      "metadata": {
        "colab_type": "text",
        "id": "5cZ0vdmG5R3S"
      },
      "source": [
        "Print the details of all the Toyota cars\n",
        "\n",
        "\n"
      ]
    },
    {
      "cell_type": "code",
      "metadata": {
        "colab_type": "code",
        "id": "H6jt9q0H5mZ1",
        "outputId": "367e2bfe-621e-4b2b-8315-ae04eceb2d52",
        "colab": {
          "base_uri": "https://localhost:8080/",
          "height": 263
        }
      },
      "source": [
        "# answer\n",
        "df[df[\"company\"]==\"toyota\"]"
      ],
      "execution_count": 13,
      "outputs": [
        {
          "output_type": "execute_result",
          "data": {
            "text/html": [
              "<div>\n",
              "<style scoped>\n",
              "    .dataframe tbody tr th:only-of-type {\n",
              "        vertical-align: middle;\n",
              "    }\n",
              "\n",
              "    .dataframe tbody tr th {\n",
              "        vertical-align: top;\n",
              "    }\n",
              "\n",
              "    .dataframe thead th {\n",
              "        text-align: right;\n",
              "    }\n",
              "</style>\n",
              "<table border=\"1\" class=\"dataframe\">\n",
              "  <thead>\n",
              "    <tr style=\"text-align: right;\">\n",
              "      <th></th>\n",
              "      <th>index</th>\n",
              "      <th>company</th>\n",
              "      <th>body-style</th>\n",
              "      <th>wheel-base</th>\n",
              "      <th>length</th>\n",
              "      <th>engine-type</th>\n",
              "      <th>num-of-cylinders</th>\n",
              "      <th>horsepower</th>\n",
              "      <th>average-mileage</th>\n",
              "      <th>price</th>\n",
              "    </tr>\n",
              "  </thead>\n",
              "  <tbody>\n",
              "    <tr>\n",
              "      <th>48</th>\n",
              "      <td>66</td>\n",
              "      <td>toyota</td>\n",
              "      <td>hatchback</td>\n",
              "      <td>95.7</td>\n",
              "      <td>158.7</td>\n",
              "      <td>ohc</td>\n",
              "      <td>four</td>\n",
              "      <td>62</td>\n",
              "      <td>35</td>\n",
              "      <td>5348.0</td>\n",
              "    </tr>\n",
              "    <tr>\n",
              "      <th>49</th>\n",
              "      <td>67</td>\n",
              "      <td>toyota</td>\n",
              "      <td>hatchback</td>\n",
              "      <td>95.7</td>\n",
              "      <td>158.7</td>\n",
              "      <td>ohc</td>\n",
              "      <td>four</td>\n",
              "      <td>62</td>\n",
              "      <td>31</td>\n",
              "      <td>6338.0</td>\n",
              "    </tr>\n",
              "    <tr>\n",
              "      <th>50</th>\n",
              "      <td>68</td>\n",
              "      <td>toyota</td>\n",
              "      <td>hatchback</td>\n",
              "      <td>95.7</td>\n",
              "      <td>158.7</td>\n",
              "      <td>ohc</td>\n",
              "      <td>four</td>\n",
              "      <td>62</td>\n",
              "      <td>31</td>\n",
              "      <td>6488.0</td>\n",
              "    </tr>\n",
              "    <tr>\n",
              "      <th>51</th>\n",
              "      <td>69</td>\n",
              "      <td>toyota</td>\n",
              "      <td>wagon</td>\n",
              "      <td>95.7</td>\n",
              "      <td>169.7</td>\n",
              "      <td>ohc</td>\n",
              "      <td>four</td>\n",
              "      <td>62</td>\n",
              "      <td>31</td>\n",
              "      <td>6918.0</td>\n",
              "    </tr>\n",
              "    <tr>\n",
              "      <th>52</th>\n",
              "      <td>70</td>\n",
              "      <td>toyota</td>\n",
              "      <td>wagon</td>\n",
              "      <td>95.7</td>\n",
              "      <td>169.7</td>\n",
              "      <td>ohc</td>\n",
              "      <td>four</td>\n",
              "      <td>62</td>\n",
              "      <td>27</td>\n",
              "      <td>7898.0</td>\n",
              "    </tr>\n",
              "    <tr>\n",
              "      <th>53</th>\n",
              "      <td>71</td>\n",
              "      <td>toyota</td>\n",
              "      <td>wagon</td>\n",
              "      <td>95.7</td>\n",
              "      <td>169.7</td>\n",
              "      <td>ohc</td>\n",
              "      <td>four</td>\n",
              "      <td>62</td>\n",
              "      <td>27</td>\n",
              "      <td>8778.0</td>\n",
              "    </tr>\n",
              "    <tr>\n",
              "      <th>54</th>\n",
              "      <td>79</td>\n",
              "      <td>toyota</td>\n",
              "      <td>wagon</td>\n",
              "      <td>104.5</td>\n",
              "      <td>187.8</td>\n",
              "      <td>dohc</td>\n",
              "      <td>six</td>\n",
              "      <td>156</td>\n",
              "      <td>19</td>\n",
              "      <td>15750.0</td>\n",
              "    </tr>\n",
              "  </tbody>\n",
              "</table>\n",
              "</div>"
            ],
            "text/plain": [
              "    index company body-style  ...  horsepower  average-mileage    price\n",
              "48     66  toyota  hatchback  ...          62               35   5348.0\n",
              "49     67  toyota  hatchback  ...          62               31   6338.0\n",
              "50     68  toyota  hatchback  ...          62               31   6488.0\n",
              "51     69  toyota      wagon  ...          62               31   6918.0\n",
              "52     70  toyota      wagon  ...          62               27   7898.0\n",
              "53     71  toyota      wagon  ...          62               27   8778.0\n",
              "54     79  toyota      wagon  ...         156               19  15750.0\n",
              "\n",
              "[7 rows x 10 columns]"
            ]
          },
          "metadata": {
            "tags": []
          },
          "execution_count": 13
        }
      ]
    },
    {
      "cell_type": "markdown",
      "metadata": {
        "colab_type": "text",
        "id": "4qMXSMN-5vJk"
      },
      "source": [
        "You can use `<Series>.value_counts()` to count the number of cars per company."
      ]
    },
    {
      "cell_type": "code",
      "metadata": {
        "colab_type": "code",
        "id": "LMO-Ynt85xdX",
        "colab": {}
      },
      "source": [
        "# counts"
      ],
      "execution_count": 0,
      "outputs": []
    },
    {
      "cell_type": "markdown",
      "metadata": {
        "colab_type": "text",
        "id": "xLgVfIXF5x9R"
      },
      "source": [
        "Find the most expensive car for each company. For this you can use the `groupby` method."
      ]
    },
    {
      "cell_type": "code",
      "metadata": {
        "colab_type": "code",
        "id": "kFa0miuy6E62",
        "colab": {}
      },
      "source": [
        "# code"
      ],
      "execution_count": 0,
      "outputs": []
    },
    {
      "cell_type": "markdown",
      "metadata": {
        "colab_type": "text",
        "id": "N5Gr0dal6FhW"
      },
      "source": [
        "Groupbys allow for a variety of aggregation functions. Can you compute the average mileage by company?"
      ]
    },
    {
      "cell_type": "code",
      "metadata": {
        "id": "p9JF9oHZ3cff",
        "colab_type": "code",
        "colab": {}
      },
      "source": [
        "# code"
      ],
      "execution_count": 0,
      "outputs": []
    },
    {
      "cell_type": "markdown",
      "metadata": {
        "colab_type": "text",
        "id": "OXRq11sd6cPY"
      },
      "source": [
        "Sort all cars by decreasing price, using the `sort_values` method."
      ]
    },
    {
      "cell_type": "code",
      "metadata": {
        "colab_type": "code",
        "id": "OdfCxcCE6k-U",
        "colab": {}
      },
      "source": [
        "# code"
      ],
      "execution_count": 0,
      "outputs": []
    },
    {
      "cell_type": "markdown",
      "metadata": {
        "colab_type": "text",
        "id": "2QiQD19O6kG0"
      },
      "source": [
        "Pandas gives you access to merge and concatenate functions. Create two dataframes from the following dictionaries and merge them to get a single dataframe with 3 columns: Company, Price, horsepower, and 4 lines."
      ]
    },
    {
      "cell_type": "code",
      "metadata": {
        "colab_type": "code",
        "id": "L7A9FiBp7VjV",
        "colab": {}
      },
      "source": [
        "Car_Price = {'Company': ['Toyota', 'Honda', 'BMV', 'Audi'], 'Price': [23845, 17995, 135925 , 71400]}\n",
        "car_Horsepower = {'Company': ['Toyota', 'Honda', 'BMV', 'Audi'], 'horsepower': [141, 80, 182 , 160]}"
      ],
      "execution_count": 0,
      "outputs": []
    },
    {
      "cell_type": "code",
      "metadata": {
        "id": "zFp26L1Y3cf6",
        "colab_type": "code",
        "colab": {}
      },
      "source": [
        "# code"
      ],
      "execution_count": 0,
      "outputs": []
    },
    {
      "cell_type": "markdown",
      "metadata": {
        "id": "H_bvUruz3cgP",
        "colab_type": "text"
      },
      "source": [
        "- write a program to change the order of a pandas Series. Create a series indexed with 'A', 'B', 'C'... like this:\n",
        "- A 1\n",
        "- B 2\n",
        "- C 3\n",
        "- D 4\n",
        "- E 5\n",
        "\n",
        "and reorder using a new list such as 'B', 'D', 'E'..., using `reindex`."
      ]
    },
    {
      "cell_type": "code",
      "metadata": {
        "id": "D_3VJNg53cgQ",
        "colab_type": "code",
        "colab": {}
      },
      "source": [
        "# code"
      ],
      "execution_count": 0,
      "outputs": []
    },
    {
      "cell_type": "markdown",
      "metadata": {
        "colab_type": "text",
        "id": "vxAibBOPUcIt"
      },
      "source": [
        "# NumPy"
      ]
    },
    {
      "cell_type": "markdown",
      "metadata": {
        "colab_type": "text",
        "id": "A44Bef82UhgZ"
      },
      "source": [
        "The numpy library (http://www.numpy.org/) is the go-to library for numerical analysis in Python;"
      ]
    },
    {
      "cell_type": "code",
      "metadata": {
        "colab_type": "code",
        "id": "jEJEPQcFGEw8",
        "colab": {}
      },
      "source": [
        "import numpy as np"
      ],
      "execution_count": 0,
      "outputs": []
    },
    {
      "cell_type": "code",
      "metadata": {
        "id": "18cLa1hP3cge",
        "colab_type": "code",
        "outputId": "9ee41808-1e1a-438c-fc32-d0f32930ca4a",
        "colab": {
          "base_uri": "https://localhost:8080/",
          "height": 35
        }
      },
      "source": [
        "np.pi"
      ],
      "execution_count": 26,
      "outputs": [
        {
          "output_type": "execute_result",
          "data": {
            "text/plain": [
              "3.141592653589793"
            ]
          },
          "metadata": {
            "tags": []
          },
          "execution_count": 26
        }
      ]
    },
    {
      "cell_type": "markdown",
      "metadata": {
        "id": "LOHQLCxD3cgk",
        "colab_type": "text"
      },
      "source": [
        "## Arrays with numpy.array()"
      ]
    },
    {
      "cell_type": "markdown",
      "metadata": {
        "id": "jijaJxfy3cgk",
        "colab_type": "text"
      },
      "source": [
        "### Creation\n",
        "You can create an array from a list (1-d vector), or a list of lists of the same lengths (2-d matrix).\n",
        "You can also create empty arrays, arrays of zeros and ones, or random arrays of any given size and value type (int, float...). "
      ]
    },
    {
      "cell_type": "code",
      "metadata": {
        "id": "CgVAGrKu3cgm",
        "colab_type": "code",
        "colab": {}
      },
      "source": [
        "a = np.array([[1, 2, 3], [4, 5, 6]])"
      ],
      "execution_count": 0,
      "outputs": []
    },
    {
      "cell_type": "code",
      "metadata": {
        "id": "V7QyINXm3cgr",
        "colab_type": "code",
        "outputId": "5fc11904-9df4-471b-9ea2-86ba33811071",
        "colab": {
          "base_uri": "https://localhost:8080/",
          "height": 52
        }
      },
      "source": [
        "a"
      ],
      "execution_count": 28,
      "outputs": [
        {
          "output_type": "execute_result",
          "data": {
            "text/plain": [
              "array([[1, 2, 3],\n",
              "       [4, 5, 6]])"
            ]
          },
          "metadata": {
            "tags": []
          },
          "execution_count": 28
        }
      ]
    },
    {
      "cell_type": "code",
      "metadata": {
        "id": "W9DCAjY_3cgx",
        "colab_type": "code",
        "outputId": "a025c7cb-ec28-4e2e-e7c1-b6dd62fca4ab",
        "colab": {
          "base_uri": "https://localhost:8080/",
          "height": 35
        }
      },
      "source": [
        "type(a), a.dtype\n"
      ],
      "execution_count": 30,
      "outputs": [
        {
          "output_type": "execute_result",
          "data": {
            "text/plain": [
              "(numpy.ndarray, dtype('int64'))"
            ]
          },
          "metadata": {
            "tags": []
          },
          "execution_count": 30
        }
      ]
    },
    {
      "cell_type": "markdown",
      "metadata": {
        "id": "E1MUOxmK3cg0",
        "colab_type": "text"
      },
      "source": [
        "\n",
        "### Accessing elements"
      ]
    },
    {
      "cell_type": "code",
      "metadata": {
        "id": "NIwIl8bO3cg1",
        "colab_type": "code",
        "outputId": "41d73c46-5e79-416d-dbf1-23526e18290b",
        "colab": {}
      },
      "source": [
        "a[0,1]"
      ],
      "execution_count": 0,
      "outputs": [
        {
          "output_type": "execute_result",
          "data": {
            "text/plain": [
              "2"
            ]
          },
          "metadata": {
            "tags": []
          },
          "execution_count": 7
        }
      ]
    },
    {
      "cell_type": "code",
      "metadata": {
        "id": "rzJTUkt13cg4",
        "colab_type": "code",
        "colab": {}
      },
      "source": [
        "a[1,2]"
      ],
      "execution_count": 0,
      "outputs": []
    },
    {
      "cell_type": "markdown",
      "metadata": {
        "id": "7vZZWvT83cg9",
        "colab_type": "text"
      },
      "source": [
        "### numpy.arange()\n",
        "\n",
        "`numpy.arange` gives you a range from a to b (excluded), increasing with the given step (defaulting to 1)."
      ]
    },
    {
      "cell_type": "code",
      "metadata": {
        "id": "FSmzCa2G3cg_",
        "colab_type": "code",
        "colab": {
          "base_uri": "https://localhost:8080/",
          "height": 35
        },
        "outputId": "42da03a9-ac32-41ac-ae09-5455d8d6dc3e"
      },
      "source": [
        "m = np.arange(3, 15, 2)\n",
        "m"
      ],
      "execution_count": 35,
      "outputs": [
        {
          "output_type": "execute_result",
          "data": {
            "text/plain": [
              "array([ 3,  5,  7,  9, 11, 13])"
            ]
          },
          "metadata": {
            "tags": []
          },
          "execution_count": 35
        }
      ]
    },
    {
      "cell_type": "markdown",
      "metadata": {
        "id": "biWgV4JE3chC",
        "colab_type": "text"
      },
      "source": [
        "Note the difference between `numpy.arange()` and native Python `range()`:\n",
        "\n",
        "- `numpy.arange()` returns a numpy.ndarray.\n",
        "- `range()` returns an object of type `range`, which is an iterator."
      ]
    },
    {
      "cell_type": "code",
      "metadata": {
        "id": "lQ0fauKJxfG_",
        "colab_type": "code",
        "colab": {
          "base_uri": "https://localhost:8080/",
          "height": 35
        },
        "outputId": "ecbe941e-dc9c-4b25-cbca-47a0ac75ad94"
      },
      "source": [
        "type(m)"
      ],
      "execution_count": 36,
      "outputs": [
        {
          "output_type": "execute_result",
          "data": {
            "text/plain": [
              "numpy.ndarray"
            ]
          },
          "metadata": {
            "tags": []
          },
          "execution_count": 36
        }
      ]
    },
    {
      "cell_type": "code",
      "metadata": {
        "id": "11YCBoux3chD",
        "colab_type": "code",
        "outputId": "c8899770-9da0-4e21-f9aa-bdd4eee7ab33",
        "colab": {
          "base_uri": "https://localhost:8080/",
          "height": 35
        }
      },
      "source": [
        "n = range(3, 15, 2)\n",
        "type(n)"
      ],
      "execution_count": 32,
      "outputs": [
        {
          "output_type": "execute_result",
          "data": {
            "text/plain": [
              "range"
            ]
          },
          "metadata": {
            "tags": []
          },
          "execution_count": 32
        }
      ]
    },
    {
      "cell_type": "markdown",
      "metadata": {
        "id": "qdtk6anJ3chH",
        "colab_type": "text"
      },
      "source": [
        "`numpy.arange()` accepts non-integer inputs."
      ]
    },
    {
      "cell_type": "code",
      "metadata": {
        "id": "CHL-Un4i3chI",
        "colab_type": "code",
        "outputId": "fabfaf83-4e2d-43d3-d099-0b7229b69865",
        "colab": {
          "base_uri": "https://localhost:8080/",
          "height": 69
        }
      },
      "source": [
        "np.arange(0, 11*np.pi, np.pi)"
      ],
      "execution_count": 33,
      "outputs": [
        {
          "output_type": "execute_result",
          "data": {
            "text/plain": [
              "array([ 0.        ,  3.14159265,  6.28318531,  9.42477796, 12.56637061,\n",
              "       15.70796327, 18.84955592, 21.99114858, 25.13274123, 28.27433388,\n",
              "       31.41592654])"
            ]
          },
          "metadata": {
            "tags": []
          },
          "execution_count": 33
        }
      ]
    },
    {
      "cell_type": "markdown",
      "metadata": {
        "id": "mTmvydh43chL",
        "colab_type": "text"
      },
      "source": [
        "### numpy.linspace()\n",
        "`numpy.linspace()` has a differnt API: it takes a range [a, b] (b included) and a number of values rather than a step."
      ]
    },
    {
      "cell_type": "code",
      "metadata": {
        "id": "Tw4S7jqb3chN",
        "colab_type": "code",
        "colab": {
          "base_uri": "https://localhost:8080/",
          "height": 52
        },
        "outputId": "215bc944-e491-4320-e775-5e8d7496a352"
      },
      "source": [
        "np.linspace(3, 9, 10)"
      ],
      "execution_count": 34,
      "outputs": [
        {
          "output_type": "execute_result",
          "data": {
            "text/plain": [
              "array([3.        , 3.66666667, 4.33333333, 5.        , 5.66666667,\n",
              "       6.33333333, 7.        , 7.66666667, 8.33333333, 9.        ])"
            ]
          },
          "metadata": {
            "tags": []
          },
          "execution_count": 34
        }
      ]
    },
    {
      "cell_type": "markdown",
      "metadata": {
        "id": "y_FSH-l-3chR",
        "colab_type": "text"
      },
      "source": [
        "## Applying mathematical functions\n",
        "\n",
        "`numpy`gives you a number of mathematical functions, which can be applied to numpy arrays, ie to each element individually: `sin`, `cos`, `log` `exp`...\n"
      ]
    },
    {
      "cell_type": "code",
      "metadata": {
        "id": "zcBDAhxM3chR",
        "colab_type": "code",
        "outputId": "3fc71b06-5f56-4151-dcf2-0786deb1c031",
        "colab": {
          "base_uri": "https://localhost:8080/",
          "height": 35
        }
      },
      "source": [
        "x = np.linspace(-np.pi/2, np.pi/2, 3)\n",
        "y = np.sin(x)\n",
        "y"
      ],
      "execution_count": 37,
      "outputs": [
        {
          "output_type": "execute_result",
          "data": {
            "text/plain": [
              "array([-1.,  0.,  1.])"
            ]
          },
          "metadata": {
            "tags": []
          },
          "execution_count": 37
        }
      ]
    },
    {
      "cell_type": "markdown",
      "metadata": {
        "id": "_fnxZ8Nj3chU",
        "colab_type": "text"
      },
      "source": [
        "# Exercise"
      ]
    },
    {
      "cell_type": "markdown",
      "metadata": {
        "id": "eTm3CbPp3chU",
        "colab_type": "text"
      },
      "source": [
        "Create a 4x2 integer array (of type unsigned int16) and print the following attributes:\n",
        "- the shape `shape`,\n",
        "- the number of dimensions `ndims`,\n",
        "- the size in bytes of each element `itemsize`.\n",
        "\n",
        "Compare also with `nbytes` and `size`."
      ]
    },
    {
      "cell_type": "code",
      "metadata": {
        "id": "NHjAShZj3chY",
        "colab_type": "code",
        "outputId": "fd2d6b18-e600-42d2-8043-9075cb39f25f",
        "colab": {}
      },
      "source": [
        "# code"
      ],
      "execution_count": 0,
      "outputs": [
        {
          "output_type": "stream",
          "text": [
            "Printing Array\n",
            "[[0 0]\n",
            " [0 0]\n",
            " [0 0]\n",
            " [0 0]]\n",
            "Printing numpy array Attributes\n",
            "1> Array Shape is:  (4, 2)\n",
            "2>. Array dimensions are  2\n",
            "3>. Length of each element of array in bytes is  2\n"
          ],
          "name": "stdout"
        }
      ]
    },
    {
      "cell_type": "markdown",
      "metadata": {
        "id": "aMRcSlgd3chc",
        "colab_type": "text"
      },
      "source": [
        "- Create an array of size 5x2, with values ranging from 100 to 200, such that the different between two consecutive elements is 10. You can use `arange` and `reshape`."
      ]
    },
    {
      "cell_type": "code",
      "metadata": {
        "id": "om_DrX4Z3chc",
        "colab_type": "code",
        "outputId": "aebba76f-3ec0-4e49-90f9-fe366707dcf2",
        "colab": {}
      },
      "source": [
        "#### YourCode"
      ],
      "execution_count": 0,
      "outputs": [
        {
          "output_type": "stream",
          "text": [
            "Creating 5X2 array using numpy.arange\n",
            "[[100 110]\n",
            " [120 130]\n",
            " [140 150]\n",
            " [160 170]\n",
            " [180 190]]\n"
          ],
          "name": "stdout"
        }
      ]
    },
    {
      "cell_type": "markdown",
      "metadata": {
        "id": "FzwNdWyL3chf",
        "colab_type": "text"
      },
      "source": [
        "Given the following array, can you print the third column only?\n"
      ]
    },
    {
      "cell_type": "code",
      "metadata": {
        "id": "LTMjqkJ43chg",
        "colab_type": "code",
        "colab": {}
      },
      "source": [
        "import numpy\n",
        "sampleArray = numpy.array([[11 ,22, 33], [44, 55, 66], [77, 88, 99]])"
      ],
      "execution_count": 0,
      "outputs": []
    },
    {
      "cell_type": "code",
      "metadata": {
        "id": "PTlIO9AN3chj",
        "colab_type": "code",
        "outputId": "d329297c-9996-4833-d3df-e5326671ac27",
        "colab": {}
      },
      "source": [
        "# code"
      ],
      "execution_count": 0,
      "outputs": [
        {
          "output_type": "stream",
          "text": [
            "Printing Input Array\n",
            "[[11 22 33]\n",
            " [44 55 66]\n",
            " [77 88 99]]\n",
            "\n",
            " Printing array of items in the third column from all rows\n",
            "[33 66 99]\n"
          ],
          "name": "stdout"
        }
      ]
    },
    {
      "cell_type": "markdown",
      "metadata": {
        "id": "hEungCKw3cht",
        "colab_type": "text"
      },
      "source": [
        "Given the following array, can you return only odd rows and even columns? (considering the mathematical numbering with row 1 at index 0). \n"
      ]
    },
    {
      "cell_type": "code",
      "metadata": {
        "id": "T1EaD3yJ3chv",
        "colab_type": "code",
        "colab": {}
      },
      "source": [
        "import numpy\n",
        "sampleArray = numpy.array([[3 ,6, 9, 12], [15 ,18, 21, 24], \n",
        "[27 ,30, 33, 36], [39 ,42, 45, 48], [51 ,54, 57, 60]])"
      ],
      "execution_count": 0,
      "outputs": []
    },
    {
      "cell_type": "code",
      "metadata": {
        "id": "7q_uusxp3ch1",
        "colab_type": "code",
        "outputId": "b190c5a5-242e-4cae-adc7-c59134c5cc7d",
        "colab": {
          "base_uri": "https://localhost:8080/",
          "height": 208
        }
      },
      "source": [
        "# code"
      ],
      "execution_count": 39,
      "outputs": [
        {
          "output_type": "stream",
          "text": [
            "Printing Input Array\n",
            "[[ 3  6  9 12]\n",
            " [15 18 21 24]\n",
            " [27 30 33 36]\n",
            " [39 42 45 48]\n",
            " [51 54 57 60]]\n",
            "\n",
            " Printing array of odd rows and even columns\n",
            "[[ 6 12]\n",
            " [30 36]\n",
            " [54 60]]\n"
          ],
          "name": "stdout"
        }
      ]
    },
    {
      "cell_type": "markdown",
      "metadata": {
        "id": "OMIkoroA3ch6",
        "colab_type": "text"
      },
      "source": [
        "Let A, B be two array of the same size, compute C such that $c_i = \\sqrt{a_i + b_i}$."
      ]
    },
    {
      "cell_type": "code",
      "metadata": {
        "id": "Go16IUW83ch7",
        "colab_type": "code",
        "colab": {}
      },
      "source": [
        "import numpy\n",
        "arrayOne = numpy.array([[5, 6, 9], [21 ,18, 27]])\n",
        "arrayTwo = numpy.array([[15 ,33, 24], [4 ,7, 1]])"
      ],
      "execution_count": 0,
      "outputs": []
    },
    {
      "cell_type": "code",
      "metadata": {
        "id": "Fl67BK6n3ch_",
        "colab_type": "code",
        "outputId": "cf5917f8-03a1-44d7-d719-6359147a8fbb",
        "colab": {}
      },
      "source": [
        "#### YourCode"
      ],
      "execution_count": 0,
      "outputs": [
        {
          "output_type": "stream",
          "text": [
            "addition of two arrays is \n",
            "\n",
            "[[20 39 33]\n",
            " [25 25 28]]\n",
            "\n",
            "Result array after calculating the square root of all elements\n",
            "\n",
            "[[4.47213595 6.244998   5.74456265]\n",
            " [5.         5.         5.29150262]]\n"
          ],
          "name": "stdout"
        }
      ]
    },
    {
      "cell_type": "markdown",
      "metadata": {
        "id": "CaAbFwRO3ciF",
        "colab_type": "text"
      },
      "source": [
        "Create a new integer array of size 8x3, with values ranging from 10 to 34 with step size=1. Split the array into 4 subarrays (using `split`).\n"
      ]
    },
    {
      "cell_type": "code",
      "metadata": {
        "id": "uW6BKaQF3ciG",
        "colab_type": "code",
        "outputId": "c2a6ae16-fe85-41f7-e782-20d0ce34eb7f",
        "colab": {}
      },
      "source": [
        "# code"
      ],
      "execution_count": 0,
      "outputs": [
        {
          "output_type": "stream",
          "text": [
            "Creating 8X3 array using numpy.arange\n",
            "[[10 11 12]\n",
            " [13 14 15]\n",
            " [16 17 18]\n",
            " [19 20 21]\n",
            " [22 23 24]\n",
            " [25 26 27]\n",
            " [28 29 30]\n",
            " [31 32 33]]\n",
            "\n",
            "Dividing 8X3 array into 4 sub array\n",
            "\n",
            "[array([[10, 11, 12],\n",
            "       [13, 14, 15]]), array([[16, 17, 18],\n",
            "       [19, 20, 21]]), array([[22, 23, 24],\n",
            "       [25, 26, 27]]), array([[28, 29, 30],\n",
            "       [31, 32, 33]])]\n"
          ],
          "name": "stdout"
        }
      ]
    },
    {
      "cell_type": "markdown",
      "metadata": {
        "id": "SSoJjaqO3ciL",
        "colab_type": "text"
      },
      "source": [
        "Sort the array:\n",
        "- along the second row\n",
        "- along the second column"
      ]
    },
    {
      "cell_type": "code",
      "metadata": {
        "id": "M_q6wsne3ciM",
        "colab_type": "code",
        "colab": {}
      },
      "source": [
        "import numpy\n",
        "sampleArray = numpy.array([[34,43,73],[82,22,12],[53,94,66]])"
      ],
      "execution_count": 0,
      "outputs": []
    },
    {
      "cell_type": "code",
      "metadata": {
        "id": "mFhTACKZ3ciP",
        "colab_type": "code",
        "outputId": "542bcbd1-b344-424b-ef7b-32c79ef8c869",
        "colab": {}
      },
      "source": [
        "# code"
      ],
      "execution_count": 0,
      "outputs": [
        {
          "output_type": "stream",
          "text": [
            "Printing Original array\n",
            "[[34 43 73]\n",
            " [82 22 12]\n",
            " [53 94 66]]\n",
            "Sorting Original array by secoond row\n",
            "[[73 43 34]\n",
            " [12 22 82]\n",
            " [66 94 53]]\n",
            "Sorting Original array by secoond column\n",
            "[[82 22 12]\n",
            " [34 43 73]\n",
            " [53 94 66]]\n"
          ],
          "name": "stdout"
        }
      ]
    },
    {
      "cell_type": "markdown",
      "metadata": {
        "id": "lUD4sieL3ciR",
        "colab_type": "text"
      },
      "source": [
        "Given the following array, print the max along axis 0 and the min along axis 1."
      ]
    },
    {
      "cell_type": "code",
      "metadata": {
        "id": "k6As4ku63ciS",
        "colab_type": "code",
        "colab": {}
      },
      "source": [
        "import numpy\n",
        "sampleArray = numpy.array([[34,43,73],[82,22,12],[53,94,66]])"
      ],
      "execution_count": 0,
      "outputs": []
    },
    {
      "cell_type": "code",
      "metadata": {
        "id": "cYa8awfS3ciW",
        "colab_type": "code",
        "outputId": "5dfc07ed-cad9-4c16-e392-6ad048035c64",
        "colab": {}
      },
      "source": [
        "# code"
      ],
      "execution_count": 0,
      "outputs": [
        {
          "output_type": "stream",
          "text": [
            "Printing Original array\n",
            "[[34 43 73]\n",
            " [82 22 12]\n",
            " [53 94 66]]\n",
            "Printing amin Of Axis 1\n",
            "[34 12 53]\n",
            "Printing amax Of Axis 0\n",
            "[82 94 73]\n"
          ],
          "name": "stdout"
        }
      ]
    },
    {
      "cell_type": "markdown",
      "metadata": {
        "id": "oC7xG-6h3ciZ",
        "colab_type": "text"
      },
      "source": [
        "Given the following array, remove the second column and replace it with the new column values using `delete` and `insert`. Print the intermediate results."
      ]
    },
    {
      "cell_type": "code",
      "metadata": {
        "id": "697418kM3ciZ",
        "colab_type": "code",
        "colab": {}
      },
      "source": [
        "import numpy\n",
        "sampleArray = numpy.array([[34,43,73],[82,22,12],[53,94,66]]) \n",
        "newColumn = numpy.array([[10,10,10]]) "
      ],
      "execution_count": 0,
      "outputs": []
    },
    {
      "cell_type": "code",
      "metadata": {
        "id": "d5NohQe93cic",
        "colab_type": "code",
        "outputId": "e543c458-b086-4f2f-d1ed-cf3bfde1d59c",
        "colab": {}
      },
      "source": [
        "# code"
      ],
      "execution_count": 0,
      "outputs": [
        {
          "output_type": "stream",
          "text": [
            "Printing Original array\n",
            "[[34 43 73]\n",
            " [82 22 12]\n",
            " [53 94 66]]\n",
            "Array after deleting column 2 on axis 1\n",
            "[[34 73]\n",
            " [82 12]\n",
            " [53 66]]\n",
            "Array after inserting column 2 on axis 1\n",
            "[[34 10 73]\n",
            " [82 10 12]\n",
            " [53 10 66]]\n"
          ],
          "name": "stdout"
        }
      ]
    },
    {
      "cell_type": "code",
      "metadata": {
        "id": "0pBXE0793cig",
        "colab_type": "code",
        "colab": {}
      },
      "source": [
        ""
      ],
      "execution_count": 0,
      "outputs": []
    }
  ]
}
