{
  "nbformat": 4,
  "nbformat_minor": 0,
  "metadata": {
    "colab": {
      "name": "Introduction_pythonPartie2_Exo.ipynb",
      "provenance": [],
      "collapsed_sections": [],
      "include_colab_link": true
    },
    "kernelspec": {
      "display_name": "Python 3",
      "language": "python",
      "name": "python3"
    },
    "language_info": {
      "codemirror_mode": {
        "name": "ipython",
        "version": 3
      },
      "file_extension": ".py",
      "mimetype": "text/x-python",
      "name": "python",
      "nbconvert_exporter": "python",
      "pygments_lexer": "ipython3",
      "version": "3.7.3"
    }
  },
  "cells": [
    {
      "cell_type": "markdown",
      "metadata": {
        "id": "view-in-github",
        "colab_type": "text"
      },
      "source": [
        "<a href=\"https://colab.research.google.com/github/annemariet/tutorials/blob/master/Introduction_python_Exo.ipynb\" target=\"_parent\"><img src=\"https://colab.research.google.com/assets/colab-badge.svg\" alt=\"Open In Colab\"/></a>"
      ]
    },
    {
      "cell_type": "markdown",
      "metadata": {
        "id": "CumKKJoF7Q4I",
        "colab_type": "text"
      },
      "source": [
        "#Introduction"
      ]
    },
    {
      "cell_type": "markdown",
      "metadata": {
        "id": "ynOUsvs57U9c",
        "colab_type": "text"
      },
      "source": [
        "Ce notebook fournit quelques rappels sur [les structures de données DataFrames et Series du module Pandas.](https://pandas.pydata.org/docs/getting_started/dsintro.html)"
      ]
    },
    {
      "cell_type": "markdown",
      "metadata": {
        "colab_type": "text",
        "id": "qsXifYOK_qzQ"
      },
      "source": [
        "## Series"
      ]
    },
    {
      "cell_type": "markdown",
      "metadata": {
        "colab_type": "text",
        "id": "fHS_DlpsBPz-"
      },
      "source": [
        "\n",
        "Les données peuvent être\n",
        "- Une valeur scalaire \n",
        "- Un dictionnaire Python \n",
        "- Un Ndarray"
      ]
    },
    {
      "cell_type": "markdown",
      "metadata": {
        "colab_type": "text",
        "id": "oTWAzavQ_hhX"
      },
      "source": [
        "Création d'une série, c'est à dire d'un vecteur de valeurs d'une variable (en général valeurs pour différents individus)"
      ]
    },
    {
      "cell_type": "code",
      "metadata": {
        "colab_type": "code",
        "id": "mur79hd2-hU3",
        "colab": {}
      },
      "source": [
        "import pandas as pd"
      ],
      "execution_count": 0,
      "outputs": []
    },
    {
      "cell_type": "markdown",
      "metadata": {
        "colab_type": "text",
        "id": "vfS7ZHiKCszP"
      },
      "source": [
        " ### valeur scalaire"
      ]
    },
    {
      "cell_type": "code",
      "metadata": {
        "colab_type": "code",
        "id": "kVhGBMAp_R9G",
        "colab": {}
      },
      "source": [
        "# Program to Create series with scalar values  \n",
        "Data =[1, 3, 4, 5, 6, 2, 9]  # Numeric data \n",
        "  \n",
        "# Creating series with default index values \n",
        "s = pd.Series(Data) \n"
      ],
      "execution_count": 0,
      "outputs": []
    },
    {
      "cell_type": "code",
      "metadata": {
        "colab_type": "code",
        "id": "KN--893MALN8",
        "colab": {}
      },
      "source": [
        "# predefined index values \n",
        "Index =['a', 'b', 'c', 'd', 'e', 'f', 'g']  \n",
        "  \n",
        "# Creating series with predefined index values \n",
        "si = pd.Series(Data, Index) "
      ],
      "execution_count": 0,
      "outputs": []
    },
    {
      "cell_type": "code",
      "metadata": {
        "colab_type": "code",
        "id": "DObd2AGVAE1x",
        "outputId": "46a39496-a813-4eea-ca35-87953b9e7d7e",
        "colab": {
          "base_uri": "https://localhost:8080/",
          "height": 158
        }
      },
      "source": [
        "si"
      ],
      "execution_count": 0,
      "outputs": [
        {
          "output_type": "execute_result",
          "data": {
            "text/plain": [
              "a    1\n",
              "b    3\n",
              "c    4\n",
              "d    5\n",
              "e    6\n",
              "f    2\n",
              "g    9\n",
              "dtype: int64"
            ]
          },
          "metadata": {
            "tags": []
          },
          "execution_count": 8
        }
      ]
    },
    {
      "cell_type": "code",
      "metadata": {
        "colab_type": "code",
        "id": "ZRrfd_mi_TXS",
        "outputId": "0e8a6f1b-7ba3-41d0-ddbb-6fc9344df851",
        "colab": {
          "base_uri": "https://localhost:8080/",
          "height": 34
        }
      },
      "source": [
        "si['a']"
      ],
      "execution_count": 0,
      "outputs": [
        {
          "output_type": "execute_result",
          "data": {
            "text/plain": [
              "1"
            ]
          },
          "metadata": {
            "tags": []
          },
          "execution_count": 7
        }
      ]
    },
    {
      "cell_type": "markdown",
      "metadata": {
        "colab_type": "text",
        "id": "qFVVSr5sDV4Z"
      },
      "source": [
        "### dictionnaire\n",
        "\n",
        "Un dictionnaire en python est une sorte de liste mais au lieu d'utiliser des index , on utilise des clés alphanumériques."
      ]
    },
    {
      "cell_type": "code",
      "metadata": {
        "colab_type": "code",
        "id": "oXepXx0VDdCw",
        "colab": {}
      },
      "source": [
        "# Program to Create Dictionary series \n",
        "dictionary ={'a':1, 'b':2, 'c':3, 'd':4, 'e':5}  \n",
        "  \n",
        "# Creating series of Dictionary type \n",
        "sd = pd.Series(dictionary)  "
      ],
      "execution_count": 0,
      "outputs": []
    },
    {
      "cell_type": "markdown",
      "metadata": {
        "colab_type": "text",
        "id": "V64KXAoQRQ_R"
      },
      "source": [
        "###  Ndarray"
      ]
    },
    {
      "cell_type": "code",
      "metadata": {
        "colab_type": "code",
        "id": "rh1E2Gj_DjAy",
        "colab": {}
      },
      "source": [
        "import pandas as pd\n",
        "# Program to Create ndarray series \n",
        "Data =[[2, 3, 4], [5, 6, 7]]  # Defining 2darray \n",
        "  \n",
        "# Creating series of 2darray \n",
        "snd = pd.Series(Data) "
      ],
      "execution_count": 0,
      "outputs": []
    },
    {
      "cell_type": "code",
      "metadata": {
        "colab_type": "code",
        "id": "mv6Y_i-l3aXL",
        "outputId": "b4b47187-f6f2-4801-f38e-e6157e750033",
        "colab": {
          "base_uri": "https://localhost:8080/",
          "height": 35
        }
      },
      "source": [
        "Data"
      ],
      "execution_count": 0,
      "outputs": [
        {
          "output_type": "execute_result",
          "data": {
            "text/plain": [
              "[[2, 3, 4], [5, 6, 7]]"
            ]
          },
          "metadata": {
            "tags": []
          },
          "execution_count": 3
        }
      ]
    },
    {
      "cell_type": "code",
      "metadata": {
        "colab_type": "code",
        "id": "0EkWmcBrRkXJ",
        "outputId": "0287b8de-8abc-4803-c218-870817b49a59",
        "colab": {
          "base_uri": "https://localhost:8080/",
          "height": 34
        }
      },
      "source": [
        "snd[0][1]"
      ],
      "execution_count": 0,
      "outputs": [
        {
          "output_type": "execute_result",
          "data": {
            "text/plain": [
              "3"
            ]
          },
          "metadata": {
            "tags": []
          },
          "execution_count": 6
        }
      ]
    },
    {
      "cell_type": "markdown",
      "metadata": {
        "colab_type": "text",
        "id": "30qZORvWRtRE"
      },
      "source": [
        "## DataFrames:\n",
        "\n",
        "C'est une structure de données bidimensionnelle (2-D) qui se compose de lignes et de colonnes.\n",
        "\n",
        "Les données peuvent être\n",
        "- Une ou plusieurs  valeur scalaire \n",
        "- Un ou plusieurs  dictionnaires \n",
        "- 2D-numpy ndarray"
      ]
    },
    {
      "cell_type": "code",
      "metadata": {
        "colab_type": "code",
        "id": "VUSzYgpKRvQA",
        "colab": {}
      },
      "source": [
        "# Program to Create Data Frame with two dictionaries \n",
        "dict1 ={'a':1, 'b':2, 'c':3, 'd':4}        # Define Dictionary 1 \n",
        "dict2 ={'a':5, 'b':6, 'c':7, 'd':8, 'e':9} # Define Dictionary 2 \n",
        "Data = {'first':dict1, 'second':dict2}  # Define Data with dict1 and dict2 \n",
        "df = pd.DataFrame(Data)  # Create DataFrame "
      ],
      "execution_count": 0,
      "outputs": []
    },
    {
      "cell_type": "code",
      "metadata": {
        "colab_type": "code",
        "id": "Ys6HSN4lS_bS",
        "outputId": "13c5f7c1-d92e-4a34-e846-148072bc320b",
        "colab": {
          "base_uri": "https://localhost:8080/",
          "height": 197
        }
      },
      "source": [
        "df"
      ],
      "execution_count": 0,
      "outputs": [
        {
          "output_type": "execute_result",
          "data": {
            "text/html": [
              "<div>\n",
              "<style scoped>\n",
              "    .dataframe tbody tr th:only-of-type {\n",
              "        vertical-align: middle;\n",
              "    }\n",
              "\n",
              "    .dataframe tbody tr th {\n",
              "        vertical-align: top;\n",
              "    }\n",
              "\n",
              "    .dataframe thead th {\n",
              "        text-align: right;\n",
              "    }\n",
              "</style>\n",
              "<table border=\"1\" class=\"dataframe\">\n",
              "  <thead>\n",
              "    <tr style=\"text-align: right;\">\n",
              "      <th></th>\n",
              "      <th>first</th>\n",
              "      <th>second</th>\n",
              "    </tr>\n",
              "  </thead>\n",
              "  <tbody>\n",
              "    <tr>\n",
              "      <th>a</th>\n",
              "      <td>1.0</td>\n",
              "      <td>5</td>\n",
              "    </tr>\n",
              "    <tr>\n",
              "      <th>b</th>\n",
              "      <td>2.0</td>\n",
              "      <td>6</td>\n",
              "    </tr>\n",
              "    <tr>\n",
              "      <th>c</th>\n",
              "      <td>3.0</td>\n",
              "      <td>7</td>\n",
              "    </tr>\n",
              "    <tr>\n",
              "      <th>d</th>\n",
              "      <td>4.0</td>\n",
              "      <td>8</td>\n",
              "    </tr>\n",
              "    <tr>\n",
              "      <th>e</th>\n",
              "      <td>NaN</td>\n",
              "      <td>9</td>\n",
              "    </tr>\n",
              "  </tbody>\n",
              "</table>\n",
              "</div>"
            ],
            "text/plain": [
              "   first  second\n",
              "a    1.0       5\n",
              "b    2.0       6\n",
              "c    3.0       7\n",
              "d    4.0       8\n",
              "e    NaN       9"
            ]
          },
          "metadata": {
            "tags": []
          },
          "execution_count": 8
        }
      ]
    },
    {
      "cell_type": "markdown",
      "metadata": {
        "colab_type": "text",
        "id": "ojUAgNzDTLp5"
      },
      "source": [
        "###  Series:"
      ]
    },
    {
      "cell_type": "code",
      "metadata": {
        "colab_type": "code",
        "id": "ol-tmKMwTrvs",
        "colab": {}
      },
      "source": [
        "# Program to create Dataframe of three series  \n",
        "import pandas as pd \n",
        "  \n",
        "s1 = pd.Series([1, 3, 4, 5, 6, 2, 9])           # Define series 1 \n",
        "s2 = pd.Series([1.1, 3.5, 4.7, 5.8, 2.9, 9.3]) # Define series 2 \n",
        "s3 = pd.Series(['a', 'b', 'c', 'd', 'e'])     # Define series 3 \n",
        "  \n",
        "  \n",
        "Data ={'first':s1, 'second':s2, 'third':s3} # Define Data \n",
        "dfseries = pd.DataFrame(Data)              # Create DataFrame "
      ],
      "execution_count": 0,
      "outputs": []
    },
    {
      "cell_type": "markdown",
      "metadata": {
        "colab_type": "text",
        "id": "3L60pT0tT9LF"
      },
      "source": [
        "### 2D-numpy ndarray"
      ]
    },
    {
      "cell_type": "code",
      "metadata": {
        "colab_type": "code",
        "id": "ti6tCCtET18E",
        "colab": {}
      },
      "source": [
        "# Program to create DataFrame from 2D array \n",
        "import pandas as pd # Import Library \n",
        "d1 =[[2, 3, 4], [5, 6, 7]] # Define 2d array 1 \n",
        "d2 =[[2, 4, 8], [1, 3, 9]] # Define 2d array 2 \n",
        "Data ={'first': d1, 'second': d2} # Define Data  \n",
        "df2d = pd.DataFrame(Data)    # Create DataFrame "
      ],
      "execution_count": 0,
      "outputs": []
    },
    {
      "cell_type": "code",
      "metadata": {
        "colab_type": "code",
        "id": "owvl4Iis4HXk",
        "outputId": "4c041683-d77b-4562-b956-6a3b787deaff",
        "colab": {
          "base_uri": "https://localhost:8080/",
          "height": 35
        }
      },
      "source": [
        "d1"
      ],
      "execution_count": 0,
      "outputs": [
        {
          "output_type": "execute_result",
          "data": {
            "text/plain": [
              "[[2, 3, 4], [5, 6, 7]]"
            ]
          },
          "metadata": {
            "tags": []
          },
          "execution_count": 5
        }
      ]
    },
    {
      "cell_type": "markdown",
      "metadata": {
        "colab_type": "text",
        "id": "KapNngHa4OdJ"
      },
      "source": [
        "# Exercice \n",
        "Pour cet exercice, nous utilisons une base de données automobile. Ce jeu de données automobile présente une caractéristique différente d’une voiture, telle que la carrosserie, l’empattement, le type de moteur, le prix, le kilométrage, la puissance, etc."
      ]
    },
    {
      "cell_type": "markdown",
      "metadata": {
        "colab_type": "text",
        "id": "HpiRbf-b4kfb"
      },
      "source": [
        "\n",
        "- À partir de ce jeu de données, imprimez les cinq premières et dernières lignes"
      ]
    },
    {
      "cell_type": "code",
      "metadata": {
        "colab_type": "code",
        "id": "Naq_yaYJ4SNR",
        "outputId": "fb918d3a-9115-43bd-f36a-d10ca1a45e31",
        "colab": {}
      },
      "source": [
        "import pandas as pd\n",
        "#### YourCode"
      ],
      "execution_count": 0,
      "outputs": [
        {
          "output_type": "execute_result",
          "data": {
            "text/html": [
              "<div>\n",
              "<style scoped>\n",
              "    .dataframe tbody tr th:only-of-type {\n",
              "        vertical-align: middle;\n",
              "    }\n",
              "\n",
              "    .dataframe tbody tr th {\n",
              "        vertical-align: top;\n",
              "    }\n",
              "\n",
              "    .dataframe thead th {\n",
              "        text-align: right;\n",
              "    }\n",
              "</style>\n",
              "<table border=\"1\" class=\"dataframe\">\n",
              "  <thead>\n",
              "    <tr style=\"text-align: right;\">\n",
              "      <th></th>\n",
              "      <th>company</th>\n",
              "      <th>body-style</th>\n",
              "      <th>wheel-base</th>\n",
              "      <th>length</th>\n",
              "      <th>engine-type</th>\n",
              "      <th>num-of-cylinders</th>\n",
              "      <th>horsepower</th>\n",
              "      <th>average-mileage</th>\n",
              "      <th>price</th>\n",
              "    </tr>\n",
              "    <tr>\n",
              "      <th>index</th>\n",
              "      <th></th>\n",
              "      <th></th>\n",
              "      <th></th>\n",
              "      <th></th>\n",
              "      <th></th>\n",
              "      <th></th>\n",
              "      <th></th>\n",
              "      <th></th>\n",
              "      <th></th>\n",
              "    </tr>\n",
              "  </thead>\n",
              "  <tbody>\n",
              "    <tr>\n",
              "      <th>0</th>\n",
              "      <td>alfa-romero</td>\n",
              "      <td>convertible</td>\n",
              "      <td>88.6</td>\n",
              "      <td>168.8</td>\n",
              "      <td>dohc</td>\n",
              "      <td>four</td>\n",
              "      <td>111</td>\n",
              "      <td>21</td>\n",
              "      <td>13495.0</td>\n",
              "    </tr>\n",
              "    <tr>\n",
              "      <th>1</th>\n",
              "      <td>alfa-romero</td>\n",
              "      <td>convertible</td>\n",
              "      <td>88.6</td>\n",
              "      <td>168.8</td>\n",
              "      <td>dohc</td>\n",
              "      <td>four</td>\n",
              "      <td>111</td>\n",
              "      <td>21</td>\n",
              "      <td>16500.0</td>\n",
              "    </tr>\n",
              "    <tr>\n",
              "      <th>2</th>\n",
              "      <td>alfa-romero</td>\n",
              "      <td>hatchback</td>\n",
              "      <td>94.5</td>\n",
              "      <td>171.2</td>\n",
              "      <td>ohcv</td>\n",
              "      <td>six</td>\n",
              "      <td>154</td>\n",
              "      <td>19</td>\n",
              "      <td>16500.0</td>\n",
              "    </tr>\n",
              "    <tr>\n",
              "      <th>3</th>\n",
              "      <td>audi</td>\n",
              "      <td>sedan</td>\n",
              "      <td>99.8</td>\n",
              "      <td>176.6</td>\n",
              "      <td>ohc</td>\n",
              "      <td>four</td>\n",
              "      <td>102</td>\n",
              "      <td>24</td>\n",
              "      <td>13950.0</td>\n",
              "    </tr>\n",
              "    <tr>\n",
              "      <th>4</th>\n",
              "      <td>audi</td>\n",
              "      <td>sedan</td>\n",
              "      <td>99.4</td>\n",
              "      <td>176.6</td>\n",
              "      <td>ohc</td>\n",
              "      <td>five</td>\n",
              "      <td>115</td>\n",
              "      <td>18</td>\n",
              "      <td>17450.0</td>\n",
              "    </tr>\n",
              "  </tbody>\n",
              "</table>\n",
              "</div>"
            ],
            "text/plain": [
              "           company   body-style  wheel-base  length engine-type  \\\n",
              "index                                                             \n",
              "0      alfa-romero  convertible        88.6   168.8        dohc   \n",
              "1      alfa-romero  convertible        88.6   168.8        dohc   \n",
              "2      alfa-romero    hatchback        94.5   171.2        ohcv   \n",
              "3             audi        sedan        99.8   176.6         ohc   \n",
              "4             audi        sedan        99.4   176.6         ohc   \n",
              "\n",
              "      num-of-cylinders  horsepower  average-mileage    price  \n",
              "index                                                         \n",
              "0                 four         111               21  13495.0  \n",
              "1                 four         111               21  16500.0  \n",
              "2                  six         154               19  16500.0  \n",
              "3                 four         102               24  13950.0  \n",
              "4                 five         115               18  17450.0  "
            ]
          },
          "metadata": {
            "tags": []
          },
          "execution_count": 16
        }
      ]
    },
    {
      "cell_type": "code",
      "metadata": {
        "id": "fgMMk63_3ce5",
        "colab_type": "code",
        "outputId": "26b092a4-441c-48d1-ae5e-a5a5928e0149",
        "colab": {}
      },
      "source": [
        "d1=df['company']\n",
        "d1"
      ],
      "execution_count": 0,
      "outputs": [
        {
          "output_type": "execute_result",
          "data": {
            "text/plain": [
              "index\n",
              "0       alfa-romero\n",
              "1       alfa-romero\n",
              "2       alfa-romero\n",
              "3              audi\n",
              "4              audi\n",
              "5              audi\n",
              "6              audi\n",
              "9               bmw\n",
              "10              bmw\n",
              "11              bmw\n",
              "13              bmw\n",
              "14              bmw\n",
              "15              bmw\n",
              "16        chevrolet\n",
              "17        chevrolet\n",
              "18        chevrolet\n",
              "19            dodge\n",
              "20            dodge\n",
              "27            honda\n",
              "28            honda\n",
              "29            honda\n",
              "30            isuzu\n",
              "31            isuzu\n",
              "32            isuzu\n",
              "33           jaguar\n",
              "34           jaguar\n",
              "35           jaguar\n",
              "36            mazda\n",
              "37            mazda\n",
              "38            mazda\n",
              "          ...      \n",
              "43            mazda\n",
              "44    mercedes-benz\n",
              "45    mercedes-benz\n",
              "46    mercedes-benz\n",
              "47    mercedes-benz\n",
              "49       mitsubishi\n",
              "50       mitsubishi\n",
              "51       mitsubishi\n",
              "52       mitsubishi\n",
              "53           nissan\n",
              "54           nissan\n",
              "55           nissan\n",
              "56           nissan\n",
              "57           nissan\n",
              "61          porsche\n",
              "62          porsche\n",
              "63          porsche\n",
              "66           toyota\n",
              "67           toyota\n",
              "68           toyota\n",
              "69           toyota\n",
              "70           toyota\n",
              "71           toyota\n",
              "79           toyota\n",
              "80       volkswagen\n",
              "81       volkswagen\n",
              "82       volkswagen\n",
              "86       volkswagen\n",
              "87            volvo\n",
              "88            volvo\n",
              "Name: company, Length: 61, dtype: object"
            ]
          },
          "metadata": {
            "tags": []
          },
          "execution_count": 17
        }
      ]
    },
    {
      "cell_type": "code",
      "metadata": {
        "id": "n1dyl7pt3ce_",
        "colab_type": "code",
        "outputId": "2b7224c1-f994-4cbf-83e6-f35fe2952a44",
        "colab": {}
      },
      "source": [
        "df.columns"
      ],
      "execution_count": 0,
      "outputs": [
        {
          "output_type": "execute_result",
          "data": {
            "text/plain": [
              "Index(['company', 'body-style', 'wheel-base', 'length', 'engine-type',\n",
              "       'num-of-cylinders', 'horsepower', 'average-mileage', 'price'],\n",
              "      dtype='object')"
            ]
          },
          "metadata": {
            "tags": []
          },
          "execution_count": 18
        }
      ]
    },
    {
      "cell_type": "markdown",
      "metadata": {
        "colab_type": "text",
        "id": "964Nbl9c4pNh"
      },
      "source": [
        "- Trouvez le nom de la compagnie de la voiture la plus chère"
      ]
    },
    {
      "cell_type": "code",
      "metadata": {
        "colab_type": "code",
        "id": "1cNB7Nyu5QmO",
        "outputId": "4e8de0b0-3142-42dc-c002-81f31137af8d",
        "colab": {}
      },
      "source": [
        "import pandas as pd\n",
        "#### YourCode use \"Automobile_data.csv\"\n"
      ],
      "execution_count": 0,
      "outputs": [
        {
          "output_type": "execute_result",
          "data": {
            "text/html": [
              "<div>\n",
              "<style scoped>\n",
              "    .dataframe tbody tr th:only-of-type {\n",
              "        vertical-align: middle;\n",
              "    }\n",
              "\n",
              "    .dataframe tbody tr th {\n",
              "        vertical-align: top;\n",
              "    }\n",
              "\n",
              "    .dataframe thead th {\n",
              "        text-align: right;\n",
              "    }\n",
              "</style>\n",
              "<table border=\"1\" class=\"dataframe\">\n",
              "  <thead>\n",
              "    <tr style=\"text-align: right;\">\n",
              "      <th></th>\n",
              "      <th>company</th>\n",
              "    </tr>\n",
              "  </thead>\n",
              "  <tbody>\n",
              "    <tr>\n",
              "      <th>35</th>\n",
              "      <td>mercedes-benz</td>\n",
              "    </tr>\n",
              "  </tbody>\n",
              "</table>\n",
              "</div>"
            ],
            "text/plain": [
              "          company\n",
              "35  mercedes-benz"
            ]
          },
          "metadata": {
            "tags": []
          },
          "execution_count": 13
        }
      ]
    },
    {
      "cell_type": "markdown",
      "metadata": {
        "colab_type": "text",
        "id": "5cZ0vdmG5R3S"
      },
      "source": [
        "*   Affichez tous les détails des voitures Toyota\n",
        "\n",
        "\n"
      ]
    },
    {
      "cell_type": "code",
      "metadata": {
        "colab_type": "code",
        "id": "H6jt9q0H5mZ1",
        "outputId": "321fd8f4-3c02-4417-a8e9-d57c5b90b206",
        "colab": {}
      },
      "source": [
        "#### YourCode"
      ],
      "execution_count": 0,
      "outputs": [
        {
          "output_type": "execute_result",
          "data": {
            "text/html": [
              "<div>\n",
              "<style scoped>\n",
              "    .dataframe tbody tr th:only-of-type {\n",
              "        vertical-align: middle;\n",
              "    }\n",
              "\n",
              "    .dataframe tbody tr th {\n",
              "        vertical-align: top;\n",
              "    }\n",
              "\n",
              "    .dataframe thead th {\n",
              "        text-align: right;\n",
              "    }\n",
              "</style>\n",
              "<table border=\"1\" class=\"dataframe\">\n",
              "  <thead>\n",
              "    <tr style=\"text-align: right;\">\n",
              "      <th></th>\n",
              "      <th>company</th>\n",
              "      <th>price</th>\n",
              "      <th>body-style</th>\n",
              "    </tr>\n",
              "  </thead>\n",
              "  <tbody>\n",
              "    <tr>\n",
              "      <th>35</th>\n",
              "      <td>mercedes-benz</td>\n",
              "      <td>45400.0</td>\n",
              "      <td>hardtop</td>\n",
              "    </tr>\n",
              "  </tbody>\n",
              "</table>\n",
              "</div>"
            ],
            "text/plain": [
              "          company    price body-style\n",
              "35  mercedes-benz  45400.0    hardtop"
            ]
          },
          "metadata": {
            "tags": []
          },
          "execution_count": 19
        }
      ]
    },
    {
      "cell_type": "markdown",
      "metadata": {
        "colab_type": "text",
        "id": "4qMXSMN-5vJk"
      },
      "source": [
        "- Comptez le nombre total de voitures par entreprise"
      ]
    },
    {
      "cell_type": "code",
      "metadata": {
        "colab_type": "code",
        "id": "LMO-Ynt85xdX",
        "outputId": "b0cc857e-8415-456f-fac2-3995071b068b",
        "colab": {}
      },
      "source": [
        "#### YourCode"
      ],
      "execution_count": 0,
      "outputs": [
        {
          "output_type": "execute_result",
          "data": {
            "text/plain": [
              "toyota           7\n",
              "bmw              6\n",
              "mazda            5\n",
              "nissan           5\n",
              "audi             4\n",
              "mercedes-benz    4\n",
              "volkswagen       4\n",
              "mitsubishi       4\n",
              "jaguar           3\n",
              "chevrolet        3\n",
              "porsche          3\n",
              "isuzu            3\n",
              "alfa-romero      3\n",
              "honda            3\n",
              "dodge            2\n",
              "volvo            2\n",
              "Name: company, dtype: int64"
            ]
          },
          "metadata": {
            "tags": []
          },
          "execution_count": 4
        }
      ]
    },
    {
      "cell_type": "markdown",
      "metadata": {
        "colab_type": "text",
        "id": "xLgVfIXF5x9R"
      },
      "source": [
        "- \n",
        "Trouvez les entreprises qui on les voiture les plus chères"
      ]
    },
    {
      "cell_type": "code",
      "metadata": {
        "colab_type": "code",
        "id": "kFa0miuy6E62",
        "outputId": "bfc11d6a-b6ce-4122-e360-391a740c357d",
        "colab": {}
      },
      "source": [
        "#### YourCode"
      ],
      "execution_count": 0,
      "outputs": [
        {
          "output_type": "execute_result",
          "data": {
            "text/html": [
              "<div>\n",
              "<style scoped>\n",
              "    .dataframe tbody tr th:only-of-type {\n",
              "        vertical-align: middle;\n",
              "    }\n",
              "\n",
              "    .dataframe tbody tr th {\n",
              "        vertical-align: top;\n",
              "    }\n",
              "\n",
              "    .dataframe thead th {\n",
              "        text-align: right;\n",
              "    }\n",
              "</style>\n",
              "<table border=\"1\" class=\"dataframe\">\n",
              "  <thead>\n",
              "    <tr style=\"text-align: right;\">\n",
              "      <th></th>\n",
              "      <th>company</th>\n",
              "      <th>price</th>\n",
              "    </tr>\n",
              "    <tr>\n",
              "      <th>company</th>\n",
              "      <th></th>\n",
              "      <th></th>\n",
              "    </tr>\n",
              "  </thead>\n",
              "  <tbody>\n",
              "    <tr>\n",
              "      <th>alfa-romero</th>\n",
              "      <td>alfa-romero</td>\n",
              "      <td>16500.0</td>\n",
              "    </tr>\n",
              "    <tr>\n",
              "      <th>audi</th>\n",
              "      <td>audi</td>\n",
              "      <td>18920.0</td>\n",
              "    </tr>\n",
              "    <tr>\n",
              "      <th>bmw</th>\n",
              "      <td>bmw</td>\n",
              "      <td>41315.0</td>\n",
              "    </tr>\n",
              "    <tr>\n",
              "      <th>chevrolet</th>\n",
              "      <td>chevrolet</td>\n",
              "      <td>6575.0</td>\n",
              "    </tr>\n",
              "    <tr>\n",
              "      <th>dodge</th>\n",
              "      <td>dodge</td>\n",
              "      <td>6377.0</td>\n",
              "    </tr>\n",
              "    <tr>\n",
              "      <th>honda</th>\n",
              "      <td>honda</td>\n",
              "      <td>12945.0</td>\n",
              "    </tr>\n",
              "    <tr>\n",
              "      <th>isuzu</th>\n",
              "      <td>isuzu</td>\n",
              "      <td>6785.0</td>\n",
              "    </tr>\n",
              "    <tr>\n",
              "      <th>jaguar</th>\n",
              "      <td>jaguar</td>\n",
              "      <td>36000.0</td>\n",
              "    </tr>\n",
              "    <tr>\n",
              "      <th>mazda</th>\n",
              "      <td>mazda</td>\n",
              "      <td>18344.0</td>\n",
              "    </tr>\n",
              "    <tr>\n",
              "      <th>mercedes-benz</th>\n",
              "      <td>mercedes-benz</td>\n",
              "      <td>45400.0</td>\n",
              "    </tr>\n",
              "    <tr>\n",
              "      <th>mitsubishi</th>\n",
              "      <td>mitsubishi</td>\n",
              "      <td>8189.0</td>\n",
              "    </tr>\n",
              "    <tr>\n",
              "      <th>nissan</th>\n",
              "      <td>nissan</td>\n",
              "      <td>13499.0</td>\n",
              "    </tr>\n",
              "    <tr>\n",
              "      <th>porsche</th>\n",
              "      <td>porsche</td>\n",
              "      <td>37028.0</td>\n",
              "    </tr>\n",
              "    <tr>\n",
              "      <th>toyota</th>\n",
              "      <td>toyota</td>\n",
              "      <td>15750.0</td>\n",
              "    </tr>\n",
              "    <tr>\n",
              "      <th>volkswagen</th>\n",
              "      <td>volkswagen</td>\n",
              "      <td>9995.0</td>\n",
              "    </tr>\n",
              "    <tr>\n",
              "      <th>volvo</th>\n",
              "      <td>volvo</td>\n",
              "      <td>13415.0</td>\n",
              "    </tr>\n",
              "  </tbody>\n",
              "</table>\n",
              "</div>"
            ],
            "text/plain": [
              "                     company    price\n",
              "company                              \n",
              "alfa-romero      alfa-romero  16500.0\n",
              "audi                    audi  18920.0\n",
              "bmw                      bmw  41315.0\n",
              "chevrolet          chevrolet   6575.0\n",
              "dodge                  dodge   6377.0\n",
              "honda                  honda  12945.0\n",
              "isuzu                  isuzu   6785.0\n",
              "jaguar                jaguar  36000.0\n",
              "mazda                  mazda  18344.0\n",
              "mercedes-benz  mercedes-benz  45400.0\n",
              "mitsubishi        mitsubishi   8189.0\n",
              "nissan                nissan  13499.0\n",
              "porsche              porsche  37028.0\n",
              "toyota                toyota  15750.0\n",
              "volkswagen        volkswagen   9995.0\n",
              "volvo                  volvo  13415.0"
            ]
          },
          "metadata": {
            "tags": []
          },
          "execution_count": 1
        }
      ]
    },
    {
      "cell_type": "markdown",
      "metadata": {
        "colab_type": "text",
        "id": "N5Gr0dal6FhW"
      },
      "source": [
        "- Trouvez le kilométrage moyen de chaque constructeur de voiture"
      ]
    },
    {
      "cell_type": "code",
      "metadata": {
        "id": "p9JF9oHZ3cff",
        "colab_type": "code",
        "outputId": "48d6cb95-00fc-4a68-a9f2-fceaa3e7d069",
        "colab": {}
      },
      "source": [
        "#### YourCode"
      ],
      "execution_count": 0,
      "outputs": [
        {
          "output_type": "execute_result",
          "data": {
            "text/html": [
              "<div>\n",
              "<style scoped>\n",
              "    .dataframe tbody tr th:only-of-type {\n",
              "        vertical-align: middle;\n",
              "    }\n",
              "\n",
              "    .dataframe tbody tr th {\n",
              "        vertical-align: top;\n",
              "    }\n",
              "\n",
              "    .dataframe thead th {\n",
              "        text-align: right;\n",
              "    }\n",
              "</style>\n",
              "<table border=\"1\" class=\"dataframe\">\n",
              "  <thead>\n",
              "    <tr style=\"text-align: right;\">\n",
              "      <th></th>\n",
              "      <th>average-mileage</th>\n",
              "      <th>length</th>\n",
              "    </tr>\n",
              "    <tr>\n",
              "      <th>company</th>\n",
              "      <th></th>\n",
              "      <th></th>\n",
              "    </tr>\n",
              "  </thead>\n",
              "  <tbody>\n",
              "    <tr>\n",
              "      <th>alfa-romero</th>\n",
              "      <td>20.333333</td>\n",
              "      <td>169.600000</td>\n",
              "    </tr>\n",
              "    <tr>\n",
              "      <th>audi</th>\n",
              "      <td>20.000000</td>\n",
              "      <td>180.800000</td>\n",
              "    </tr>\n",
              "    <tr>\n",
              "      <th>bmw</th>\n",
              "      <td>19.000000</td>\n",
              "      <td>185.033333</td>\n",
              "    </tr>\n",
              "    <tr>\n",
              "      <th>chevrolet</th>\n",
              "      <td>41.000000</td>\n",
              "      <td>151.933333</td>\n",
              "    </tr>\n",
              "    <tr>\n",
              "      <th>dodge</th>\n",
              "      <td>31.000000</td>\n",
              "      <td>157.300000</td>\n",
              "    </tr>\n",
              "    <tr>\n",
              "      <th>honda</th>\n",
              "      <td>26.333333</td>\n",
              "      <td>167.200000</td>\n",
              "    </tr>\n",
              "    <tr>\n",
              "      <th>isuzu</th>\n",
              "      <td>33.333333</td>\n",
              "      <td>160.833333</td>\n",
              "    </tr>\n",
              "    <tr>\n",
              "      <th>jaguar</th>\n",
              "      <td>14.333333</td>\n",
              "      <td>196.966667</td>\n",
              "    </tr>\n",
              "    <tr>\n",
              "      <th>mazda</th>\n",
              "      <td>28.000000</td>\n",
              "      <td>164.260000</td>\n",
              "    </tr>\n",
              "    <tr>\n",
              "      <th>mercedes-benz</th>\n",
              "      <td>18.000000</td>\n",
              "      <td>197.275000</td>\n",
              "    </tr>\n",
              "    <tr>\n",
              "      <th>mitsubishi</th>\n",
              "      <td>29.500000</td>\n",
              "      <td>164.850000</td>\n",
              "    </tr>\n",
              "    <tr>\n",
              "      <th>nissan</th>\n",
              "      <td>31.400000</td>\n",
              "      <td>170.140000</td>\n",
              "    </tr>\n",
              "    <tr>\n",
              "      <th>porsche</th>\n",
              "      <td>17.000000</td>\n",
              "      <td>171.166667</td>\n",
              "    </tr>\n",
              "    <tr>\n",
              "      <th>toyota</th>\n",
              "      <td>28.714286</td>\n",
              "      <td>167.571429</td>\n",
              "    </tr>\n",
              "    <tr>\n",
              "      <th>volkswagen</th>\n",
              "      <td>31.750000</td>\n",
              "      <td>171.700000</td>\n",
              "    </tr>\n",
              "    <tr>\n",
              "      <th>volvo</th>\n",
              "      <td>23.000000</td>\n",
              "      <td>188.800000</td>\n",
              "    </tr>\n",
              "  </tbody>\n",
              "</table>\n",
              "</div>"
            ],
            "text/plain": [
              "               average-mileage      length\n",
              "company                                   \n",
              "alfa-romero          20.333333  169.600000\n",
              "audi                 20.000000  180.800000\n",
              "bmw                  19.000000  185.033333\n",
              "chevrolet            41.000000  151.933333\n",
              "dodge                31.000000  157.300000\n",
              "honda                26.333333  167.200000\n",
              "isuzu                33.333333  160.833333\n",
              "jaguar               14.333333  196.966667\n",
              "mazda                28.000000  164.260000\n",
              "mercedes-benz        18.000000  197.275000\n",
              "mitsubishi           29.500000  164.850000\n",
              "nissan               31.400000  170.140000\n",
              "porsche              17.000000  171.166667\n",
              "toyota               28.714286  167.571429\n",
              "volkswagen           31.750000  171.700000\n",
              "volvo                23.000000  188.800000"
            ]
          },
          "metadata": {
            "tags": []
          },
          "execution_count": 30
        }
      ]
    },
    {
      "cell_type": "code",
      "metadata": {
        "colab_type": "code",
        "id": "FFcjzv1t6RUz",
        "outputId": "2b70fee9-0798-49ac-8ae4-f33ff3a1209b",
        "colab": {}
      },
      "source": [
        "#### YourCode"
      ],
      "execution_count": 0,
      "outputs": [
        {
          "output_type": "execute_result",
          "data": {
            "text/html": [
              "<div>\n",
              "<style scoped>\n",
              "    .dataframe tbody tr th:only-of-type {\n",
              "        vertical-align: middle;\n",
              "    }\n",
              "\n",
              "    .dataframe tbody tr th {\n",
              "        vertical-align: top;\n",
              "    }\n",
              "\n",
              "    .dataframe thead th {\n",
              "        text-align: right;\n",
              "    }\n",
              "</style>\n",
              "<table border=\"1\" class=\"dataframe\">\n",
              "  <thead>\n",
              "    <tr style=\"text-align: right;\">\n",
              "      <th></th>\n",
              "      <th>average-mileage</th>\n",
              "      <th>length</th>\n",
              "    </tr>\n",
              "    <tr>\n",
              "      <th>company</th>\n",
              "      <th></th>\n",
              "      <th></th>\n",
              "    </tr>\n",
              "  </thead>\n",
              "  <tbody>\n",
              "    <tr>\n",
              "      <th>alfa-romero</th>\n",
              "      <td>20.333333</td>\n",
              "      <td>169.600000</td>\n",
              "    </tr>\n",
              "    <tr>\n",
              "      <th>audi</th>\n",
              "      <td>20.000000</td>\n",
              "      <td>180.800000</td>\n",
              "    </tr>\n",
              "    <tr>\n",
              "      <th>bmw</th>\n",
              "      <td>19.000000</td>\n",
              "      <td>185.033333</td>\n",
              "    </tr>\n",
              "    <tr>\n",
              "      <th>chevrolet</th>\n",
              "      <td>41.000000</td>\n",
              "      <td>151.933333</td>\n",
              "    </tr>\n",
              "    <tr>\n",
              "      <th>dodge</th>\n",
              "      <td>31.000000</td>\n",
              "      <td>157.300000</td>\n",
              "    </tr>\n",
              "    <tr>\n",
              "      <th>honda</th>\n",
              "      <td>26.333333</td>\n",
              "      <td>167.200000</td>\n",
              "    </tr>\n",
              "    <tr>\n",
              "      <th>isuzu</th>\n",
              "      <td>33.333333</td>\n",
              "      <td>160.833333</td>\n",
              "    </tr>\n",
              "    <tr>\n",
              "      <th>jaguar</th>\n",
              "      <td>14.333333</td>\n",
              "      <td>196.966667</td>\n",
              "    </tr>\n",
              "    <tr>\n",
              "      <th>mazda</th>\n",
              "      <td>28.000000</td>\n",
              "      <td>164.260000</td>\n",
              "    </tr>\n",
              "    <tr>\n",
              "      <th>mercedes-benz</th>\n",
              "      <td>18.000000</td>\n",
              "      <td>197.275000</td>\n",
              "    </tr>\n",
              "    <tr>\n",
              "      <th>mitsubishi</th>\n",
              "      <td>29.500000</td>\n",
              "      <td>164.850000</td>\n",
              "    </tr>\n",
              "    <tr>\n",
              "      <th>nissan</th>\n",
              "      <td>31.400000</td>\n",
              "      <td>170.140000</td>\n",
              "    </tr>\n",
              "    <tr>\n",
              "      <th>porsche</th>\n",
              "      <td>17.000000</td>\n",
              "      <td>171.166667</td>\n",
              "    </tr>\n",
              "    <tr>\n",
              "      <th>toyota</th>\n",
              "      <td>28.714286</td>\n",
              "      <td>167.571429</td>\n",
              "    </tr>\n",
              "    <tr>\n",
              "      <th>volkswagen</th>\n",
              "      <td>31.750000</td>\n",
              "      <td>171.700000</td>\n",
              "    </tr>\n",
              "    <tr>\n",
              "      <th>volvo</th>\n",
              "      <td>23.000000</td>\n",
              "      <td>188.800000</td>\n",
              "    </tr>\n",
              "  </tbody>\n",
              "</table>\n",
              "</div>"
            ],
            "text/plain": [
              "               average-mileage      length\n",
              "company                                   \n",
              "alfa-romero          20.333333  169.600000\n",
              "audi                 20.000000  180.800000\n",
              "bmw                  19.000000  185.033333\n",
              "chevrolet            41.000000  151.933333\n",
              "dodge                31.000000  157.300000\n",
              "honda                26.333333  167.200000\n",
              "isuzu                33.333333  160.833333\n",
              "jaguar               14.333333  196.966667\n",
              "mazda                28.000000  164.260000\n",
              "mercedes-benz        18.000000  197.275000\n",
              "mitsubishi           29.500000  164.850000\n",
              "nissan               31.400000  170.140000\n",
              "porsche              17.000000  171.166667\n",
              "toyota               28.714286  167.571429\n",
              "volkswagen           31.750000  171.700000\n",
              "volvo                23.000000  188.800000"
            ]
          },
          "metadata": {
            "tags": []
          },
          "execution_count": 33
        }
      ]
    },
    {
      "cell_type": "code",
      "metadata": {
        "id": "dcFyzqLH3cfp",
        "colab_type": "code",
        "outputId": "73d02c33-af42-4581-b7d3-7f192fb02525",
        "colab": {}
      },
      "source": [
        "mileageDf.columns"
      ],
      "execution_count": 0,
      "outputs": [
        {
          "output_type": "execute_result",
          "data": {
            "text/plain": [
              "Index(['average-mileage', 'length'], dtype='object')"
            ]
          },
          "metadata": {
            "tags": []
          },
          "execution_count": 34
        }
      ]
    },
    {
      "cell_type": "markdown",
      "metadata": {
        "colab_type": "text",
        "id": "OXRq11sd6cPY"
      },
      "source": [
        "- \n",
        "Triez toutes les voitures par colonne de prix"
      ]
    },
    {
      "cell_type": "code",
      "metadata": {
        "colab_type": "code",
        "id": "OdfCxcCE6k-U",
        "outputId": "1529da9d-ccaf-49d9-f3cc-f71507ffac21",
        "colab": {}
      },
      "source": [
        "#### YourCode"
      ],
      "execution_count": 0,
      "outputs": [
        {
          "output_type": "execute_result",
          "data": {
            "text/html": [
              "<div>\n",
              "<style scoped>\n",
              "    .dataframe tbody tr th:only-of-type {\n",
              "        vertical-align: middle;\n",
              "    }\n",
              "\n",
              "    .dataframe tbody tr th {\n",
              "        vertical-align: top;\n",
              "    }\n",
              "\n",
              "    .dataframe thead th {\n",
              "        text-align: right;\n",
              "    }\n",
              "</style>\n",
              "<table border=\"1\" class=\"dataframe\">\n",
              "  <thead>\n",
              "    <tr style=\"text-align: right;\">\n",
              "      <th></th>\n",
              "      <th>index</th>\n",
              "      <th>company</th>\n",
              "      <th>body-style</th>\n",
              "      <th>wheel-base</th>\n",
              "      <th>length</th>\n",
              "      <th>engine-type</th>\n",
              "      <th>num-of-cylinders</th>\n",
              "      <th>horsepower</th>\n",
              "      <th>average-mileage</th>\n",
              "      <th>price</th>\n",
              "    </tr>\n",
              "  </thead>\n",
              "  <tbody>\n",
              "    <tr>\n",
              "      <th>35</th>\n",
              "      <td>47</td>\n",
              "      <td>mercedes-benz</td>\n",
              "      <td>hardtop</td>\n",
              "      <td>112.0</td>\n",
              "      <td>199.2</td>\n",
              "      <td>ohcv</td>\n",
              "      <td>eight</td>\n",
              "      <td>184</td>\n",
              "      <td>14</td>\n",
              "      <td>45400.0</td>\n",
              "    </tr>\n",
              "    <tr>\n",
              "      <th>11</th>\n",
              "      <td>14</td>\n",
              "      <td>bmw</td>\n",
              "      <td>sedan</td>\n",
              "      <td>103.5</td>\n",
              "      <td>193.8</td>\n",
              "      <td>ohc</td>\n",
              "      <td>six</td>\n",
              "      <td>182</td>\n",
              "      <td>16</td>\n",
              "      <td>41315.0</td>\n",
              "    </tr>\n",
              "    <tr>\n",
              "      <th>34</th>\n",
              "      <td>46</td>\n",
              "      <td>mercedes-benz</td>\n",
              "      <td>sedan</td>\n",
              "      <td>120.9</td>\n",
              "      <td>208.1</td>\n",
              "      <td>ohcv</td>\n",
              "      <td>eight</td>\n",
              "      <td>184</td>\n",
              "      <td>14</td>\n",
              "      <td>40960.0</td>\n",
              "    </tr>\n",
              "    <tr>\n",
              "      <th>46</th>\n",
              "      <td>62</td>\n",
              "      <td>porsche</td>\n",
              "      <td>convertible</td>\n",
              "      <td>89.5</td>\n",
              "      <td>168.9</td>\n",
              "      <td>ohcf</td>\n",
              "      <td>six</td>\n",
              "      <td>207</td>\n",
              "      <td>17</td>\n",
              "      <td>37028.0</td>\n",
              "    </tr>\n",
              "    <tr>\n",
              "      <th>12</th>\n",
              "      <td>15</td>\n",
              "      <td>bmw</td>\n",
              "      <td>sedan</td>\n",
              "      <td>110.0</td>\n",
              "      <td>197.0</td>\n",
              "      <td>ohc</td>\n",
              "      <td>six</td>\n",
              "      <td>182</td>\n",
              "      <td>15</td>\n",
              "      <td>36880.0</td>\n",
              "    </tr>\n",
              "  </tbody>\n",
              "</table>\n",
              "</div>"
            ],
            "text/plain": [
              "    index        company   body-style  wheel-base  length engine-type  \\\n",
              "35     47  mercedes-benz      hardtop       112.0   199.2        ohcv   \n",
              "11     14            bmw        sedan       103.5   193.8         ohc   \n",
              "34     46  mercedes-benz        sedan       120.9   208.1        ohcv   \n",
              "46     62        porsche  convertible        89.5   168.9        ohcf   \n",
              "12     15            bmw        sedan       110.0   197.0         ohc   \n",
              "\n",
              "   num-of-cylinders  horsepower  average-mileage    price  \n",
              "35            eight         184               14  45400.0  \n",
              "11              six         182               16  41315.0  \n",
              "34            eight         184               14  40960.0  \n",
              "46              six         207               17  37028.0  \n",
              "12              six         182               15  36880.0  "
            ]
          },
          "metadata": {
            "tags": []
          },
          "execution_count": 35
        }
      ]
    },
    {
      "cell_type": "markdown",
      "metadata": {
        "colab_type": "text",
        "id": "2QiQD19O6kG0"
      },
      "source": [
        "- \n",
        "Concaténez deux trames de données en utilisant les conditions suivantes\n",
        "\n",
        "Créez deux trames de données à l'aide des deux dict suivants, fusionnez deux trames de données et ajoutez le deuxième trame de données en tant que nouvelle colonne au premier."
      ]
    },
    {
      "cell_type": "code",
      "metadata": {
        "colab_type": "code",
        "id": "L7A9FiBp7VjV",
        "colab": {}
      },
      "source": [
        "Car_Price = {'Company': ['Toyota', 'Honda', 'BMV', 'Audi'], 'Price': [23845, 17995, 135925 , 71400]}\n",
        "car_Horsepower = {'Company': ['Toyota', 'Honda', 'BMV', 'Audi'], 'horsepower': [141, 80, 182 , 160]}"
      ],
      "execution_count": 0,
      "outputs": []
    },
    {
      "cell_type": "code",
      "metadata": {
        "id": "zFp26L1Y3cf6",
        "colab_type": "code",
        "outputId": "fd13d95f-9c8a-4800-bf2e-0ac7f2d658db",
        "colab": {}
      },
      "source": [
        "#### YourCode"
      ],
      "execution_count": 0,
      "outputs": [
        {
          "output_type": "execute_result",
          "data": {
            "text/html": [
              "<div>\n",
              "<style scoped>\n",
              "    .dataframe tbody tr th:only-of-type {\n",
              "        vertical-align: middle;\n",
              "    }\n",
              "\n",
              "    .dataframe tbody tr th {\n",
              "        vertical-align: top;\n",
              "    }\n",
              "\n",
              "    .dataframe thead th {\n",
              "        text-align: right;\n",
              "    }\n",
              "</style>\n",
              "<table border=\"1\" class=\"dataframe\">\n",
              "  <thead>\n",
              "    <tr style=\"text-align: right;\">\n",
              "      <th></th>\n",
              "      <th>Company</th>\n",
              "      <th>Price</th>\n",
              "      <th>horsepower</th>\n",
              "    </tr>\n",
              "  </thead>\n",
              "  <tbody>\n",
              "    <tr>\n",
              "      <th>0</th>\n",
              "      <td>Toyota</td>\n",
              "      <td>23845</td>\n",
              "      <td>141</td>\n",
              "    </tr>\n",
              "    <tr>\n",
              "      <th>1</th>\n",
              "      <td>Honda</td>\n",
              "      <td>17995</td>\n",
              "      <td>80</td>\n",
              "    </tr>\n",
              "    <tr>\n",
              "      <th>2</th>\n",
              "      <td>BMV</td>\n",
              "      <td>135925</td>\n",
              "      <td>182</td>\n",
              "    </tr>\n",
              "    <tr>\n",
              "      <th>3</th>\n",
              "      <td>Audi</td>\n",
              "      <td>71400</td>\n",
              "      <td>160</td>\n",
              "    </tr>\n",
              "  </tbody>\n",
              "</table>\n",
              "</div>"
            ],
            "text/plain": [
              "  Company   Price  horsepower\n",
              "0  Toyota   23845         141\n",
              "1   Honda   17995          80\n",
              "2     BMV  135925         182\n",
              "3    Audi   71400         160"
            ]
          },
          "metadata": {
            "tags": []
          },
          "execution_count": 38
        }
      ]
    },
    {
      "cell_type": "markdown",
      "metadata": {
        "id": "5LCINwph3cf9",
        "colab_type": "text"
      },
      "source": [
        "- Concaténez deux trames de données Auto1 et auto 2"
      ]
    },
    {
      "cell_type": "code",
      "metadata": {
        "id": "q1BKzA9i3cf-",
        "colab_type": "code",
        "colab": {}
      },
      "source": [
        ""
      ],
      "execution_count": 0,
      "outputs": []
    },
    {
      "cell_type": "markdown",
      "metadata": {
        "id": "mqfdkl8R3cgC",
        "colab_type": "text"
      },
      "source": [
        "\n",
        "- Ecrivez un programme Pandas pour convertir un dictionnaire en une série de Pandas."
      ]
    },
    {
      "cell_type": "code",
      "metadata": {
        "id": "Zyz6RYDM3cgD",
        "colab_type": "code",
        "colab": {}
      },
      "source": [
        "d1 = {'a': 100, 'b': 200, 'c':300, 'd':400, 'e':800}"
      ],
      "execution_count": 0,
      "outputs": []
    },
    {
      "cell_type": "code",
      "metadata": {
        "id": "oQbByd4h3cgH",
        "colab_type": "code",
        "colab": {}
      },
      "source": [
        "#### YourCode"
      ],
      "execution_count": 0,
      "outputs": []
    },
    {
      "cell_type": "markdown",
      "metadata": {
        "id": "H_bvUruz3cgP",
        "colab_type": "text"
      },
      "source": [
        "-Ecrivez un programme Pandas pour changer l'ordre d'index d'une série donnée\n",
        "Data Series:\n",
        "- A 1\n",
        "- B 2\n",
        "- C 3\n",
        "- D 4\n",
        "- E 5"
      ]
    },
    {
      "cell_type": "code",
      "metadata": {
        "id": "D_3VJNg53cgQ",
        "colab_type": "code",
        "colab": {}
      },
      "source": [
        "#### YourCode"
      ],
      "execution_count": 0,
      "outputs": []
    },
    {
      "cell_type": "markdown",
      "metadata": {
        "colab_type": "text",
        "id": "vxAibBOPUcIt"
      },
      "source": [
        "# NumPy"
      ]
    },
    {
      "cell_type": "markdown",
      "metadata": {
        "colab_type": "text",
        "id": "A44Bef82UhgZ"
      },
      "source": [
        "La bibliothèque NumPy (http://www.numpy.org/) permet d’effectuer des calculs numériques avec Python. "
      ]
    },
    {
      "cell_type": "code",
      "metadata": {
        "colab_type": "code",
        "id": "jEJEPQcFGEw8",
        "colab": {}
      },
      "source": [
        "import numpy as np"
      ],
      "execution_count": 0,
      "outputs": []
    },
    {
      "cell_type": "code",
      "metadata": {
        "colab_type": "code",
        "id": "0sZHLqP7UbB8",
        "colab": {}
      },
      "source": [
        "## Variables prédéfinies\n",
        "Variable pi"
      ],
      "execution_count": 0,
      "outputs": []
    },
    {
      "cell_type": "code",
      "metadata": {
        "id": "18cLa1hP3cge",
        "colab_type": "code",
        "outputId": "31e3785f-6715-423b-dcf4-e9a3952492b6",
        "colab": {}
      },
      "source": [
        "np.pi"
      ],
      "execution_count": 0,
      "outputs": [
        {
          "output_type": "execute_result",
          "data": {
            "text/plain": [
              "3.141592653589793"
            ]
          },
          "metadata": {
            "tags": []
          },
          "execution_count": 3
        }
      ]
    },
    {
      "cell_type": "markdown",
      "metadata": {
        "id": "LOHQLCxD3cgk",
        "colab_type": "text"
      },
      "source": [
        "## Tableaux - numpy.array()"
      ]
    },
    {
      "cell_type": "markdown",
      "metadata": {
        "id": "jijaJxfy3cgk",
        "colab_type": "text"
      },
      "source": [
        "### Création\n",
        "Less tableaux (en anglais, array) peuvent être créés avec numpy.array(). On utilise des crochets pour délimiter les listes d’éléments dans les tableaux."
      ]
    },
    {
      "cell_type": "code",
      "metadata": {
        "id": "CgVAGrKu3cgm",
        "colab_type": "code",
        "colab": {}
      },
      "source": [
        "a = np.array([[1, 2, 3], [4, 5, 6]])"
      ],
      "execution_count": 0,
      "outputs": []
    },
    {
      "cell_type": "markdown",
      "metadata": {
        "id": "GTnKwtgt3cgq",
        "colab_type": "text"
      },
      "source": [
        "### Affichage"
      ]
    },
    {
      "cell_type": "code",
      "metadata": {
        "id": "V7QyINXm3cgr",
        "colab_type": "code",
        "outputId": "e884036d-d648-4924-d3a7-becec77b10ab",
        "colab": {}
      },
      "source": [
        "a"
      ],
      "execution_count": 0,
      "outputs": [
        {
          "output_type": "execute_result",
          "data": {
            "text/plain": [
              "array([[1, 2, 3],\n",
              "       [4, 5, 6]])"
            ]
          },
          "metadata": {
            "tags": []
          },
          "execution_count": 5
        }
      ]
    },
    {
      "cell_type": "code",
      "metadata": {
        "id": "W9DCAjY_3cgx",
        "colab_type": "code",
        "outputId": "c4607c39-dd98-4b43-cbc7-2e32665c6c9e",
        "colab": {}
      },
      "source": [
        "type(a)\n"
      ],
      "execution_count": 0,
      "outputs": [
        {
          "output_type": "execute_result",
          "data": {
            "text/plain": [
              "numpy.ndarray"
            ]
          },
          "metadata": {
            "tags": []
          },
          "execution_count": 6
        }
      ]
    },
    {
      "cell_type": "markdown",
      "metadata": {
        "id": "E1MUOxmK3cg0",
        "colab_type": "text"
      },
      "source": [
        "On voit que l’on a obtenu un objet de type numpy.ndarray\n",
        "### Accès aux éléments d’un tableau"
      ]
    },
    {
      "cell_type": "code",
      "metadata": {
        "id": "NIwIl8bO3cg1",
        "colab_type": "code",
        "outputId": "41d73c46-5e79-416d-dbf1-23526e18290b",
        "colab": {}
      },
      "source": [
        "a[0,1]"
      ],
      "execution_count": 0,
      "outputs": [
        {
          "output_type": "execute_result",
          "data": {
            "text/plain": [
              "2"
            ]
          },
          "metadata": {
            "tags": []
          },
          "execution_count": 7
        }
      ]
    },
    {
      "cell_type": "code",
      "metadata": {
        "id": "rzJTUkt13cg4",
        "colab_type": "code",
        "colab": {}
      },
      "source": [
        "a[1,2]"
      ],
      "execution_count": 0,
      "outputs": []
    },
    {
      "cell_type": "markdown",
      "metadata": {
        "id": "7vZZWvT83cg9",
        "colab_type": "text"
      },
      "source": [
        "### La fonction numpy.arange()"
      ]
    },
    {
      "cell_type": "code",
      "metadata": {
        "id": "FSmzCa2G3cg_",
        "colab_type": "code",
        "colab": {}
      },
      "source": [
        "m = np.arange(3, 15, 2)\n",
        "m\n",
        "type(m)"
      ],
      "execution_count": 0,
      "outputs": []
    },
    {
      "cell_type": "markdown",
      "metadata": {
        "id": "biWgV4JE3chC",
        "colab_type": "text"
      },
      "source": [
        "Noter la différence entre numpy.arange() et range() :\n",
        "\n",
        "- numpy.arange() retourne un objet de type numpy.ndarray.\n",
        "- range() retourne un objet de type range."
      ]
    },
    {
      "cell_type": "code",
      "metadata": {
        "id": "11YCBoux3chD",
        "colab_type": "code",
        "outputId": "7f6a4204-0925-4ba5-e0a1-60a850f73e29",
        "colab": {}
      },
      "source": [
        "n = range(3, 15, 2)\n",
        "type(n)"
      ],
      "execution_count": 0,
      "outputs": [
        {
          "output_type": "stream",
          "text": [
            "3\n",
            "5\n",
            "7\n",
            "9\n",
            "11\n",
            "13\n"
          ],
          "name": "stdout"
        }
      ]
    },
    {
      "cell_type": "markdown",
      "metadata": {
        "id": "qdtk6anJ3chH",
        "colab_type": "text"
      },
      "source": [
        "numpy.arange() accepte des arguments qui ne sont pas entiers."
      ]
    },
    {
      "cell_type": "code",
      "metadata": {
        "id": "CHL-Un4i3chI",
        "colab_type": "code",
        "outputId": "9703cacb-d5f8-45e9-d21a-676f5892f568",
        "colab": {}
      },
      "source": [
        "np.arange(0, 11*np.pi, np.pi)"
      ],
      "execution_count": 0,
      "outputs": [
        {
          "output_type": "execute_result",
          "data": {
            "text/plain": [
              "array([ 0.        ,  3.14159265,  6.28318531,  9.42477796, 12.56637061,\n",
              "       15.70796327, 18.84955592, 21.99114858, 25.13274123, 28.27433388,\n",
              "       31.41592654])"
            ]
          },
          "metadata": {
            "tags": []
          },
          "execution_count": 6
        }
      ]
    },
    {
      "cell_type": "markdown",
      "metadata": {
        "id": "mTmvydh43chL",
        "colab_type": "text"
      },
      "source": [
        "### La fonction numpy.linspace()\n",
        "numpy.linspace() permet d’obtenir un tableau 1D allant d’une valeur de départ à une valeur de fin avec un nombre donné d’éléments."
      ]
    },
    {
      "cell_type": "code",
      "metadata": {
        "id": "Tw4S7jqb3chN",
        "colab_type": "code",
        "colab": {}
      },
      "source": [
        "np.linspace(3, 9, 10)"
      ],
      "execution_count": 0,
      "outputs": []
    },
    {
      "cell_type": "markdown",
      "metadata": {
        "id": "y_FSH-l-3chR",
        "colab_type": "text"
      },
      "source": [
        "## Action d’une fonction mathématique sur un tableau\n",
        "NumPy dispose d’un grand nombre de fonctions mathématiques qui peuvent être appliquées directement à un tableau. Dans ce cas, la fonction est appliquée à chacun des éléments du tableau."
      ]
    },
    {
      "cell_type": "code",
      "metadata": {
        "id": "zcBDAhxM3chR",
        "colab_type": "code",
        "outputId": "871da572-0d6e-448b-8648-1d3873356f3d",
        "colab": {}
      },
      "source": [
        "x = np.linspace(-np.pi/2, np.pi/2, 3)\n",
        "y = np.sin(x)\n",
        "y"
      ],
      "execution_count": 0,
      "outputs": [
        {
          "output_type": "execute_result",
          "data": {
            "text/plain": [
              "array([-1.,  0.,  1.])"
            ]
          },
          "metadata": {
            "tags": []
          },
          "execution_count": 9
        }
      ]
    },
    {
      "cell_type": "markdown",
      "metadata": {
        "id": "_fnxZ8Nj3chU",
        "colab_type": "text"
      },
      "source": [
        "# Exercice"
      ]
    },
    {
      "cell_type": "markdown",
      "metadata": {
        "id": "eTm3CbPp3chU",
        "colab_type": "text"
      },
      "source": [
        "\n",
        "Créer un tableau d'entiers 4X2 et afficher ses attributs\n",
        "\n",
        "Note: element doit être un type de unsigned int16. Et afficher les attributs suivants: -\n",
        "\n",
        "- La forme d'un tableau.\n",
        "- Dimensions du tableau.\n",
        "- La longueur de chaque élément du tableau en octets"
      ]
    },
    {
      "cell_type": "code",
      "metadata": {
        "id": "2EiUvD-M3chV",
        "colab_type": "code",
        "outputId": "f7895835-66e5-44c2-da14-44826d8107d1",
        "colab": {}
      },
      "source": [
        "#### YourCode"
      ],
      "execution_count": 0,
      "outputs": [
        {
          "output_type": "execute_result",
          "data": {
            "text/plain": [
              "array([[0., 0.],\n",
              "       [0., 0.],\n",
              "       [0., 0.],\n",
              "       [0., 0.]])"
            ]
          },
          "metadata": {
            "tags": []
          },
          "execution_count": 12
        }
      ]
    },
    {
      "cell_type": "code",
      "metadata": {
        "id": "NHjAShZj3chY",
        "colab_type": "code",
        "outputId": "fd2d6b18-e600-42d2-8043-9075cb39f25f",
        "colab": {}
      },
      "source": [
        "#### YourCode"
      ],
      "execution_count": 0,
      "outputs": [
        {
          "output_type": "stream",
          "text": [
            "Printing Array\n",
            "[[0 0]\n",
            " [0 0]\n",
            " [0 0]\n",
            " [0 0]]\n",
            "Printing numpy array Attributes\n",
            "1> Array Shape is:  (4, 2)\n",
            "2>. Array dimensions are  2\n",
            "3>. Length of each element of array in bytes is  2\n"
          ],
          "name": "stdout"
        }
      ]
    },
    {
      "cell_type": "markdown",
      "metadata": {
        "id": "aMRcSlgd3chc",
        "colab_type": "text"
      },
      "source": [
        "- Créez un tableau d'entiers 5X2 compris entre 100 et 200 de sorte que la différence entre chaque élément soit de 10"
      ]
    },
    {
      "cell_type": "code",
      "metadata": {
        "id": "om_DrX4Z3chc",
        "colab_type": "code",
        "outputId": "aebba76f-3ec0-4e49-90f9-fe366707dcf2",
        "colab": {}
      },
      "source": [
        "#### YourCode"
      ],
      "execution_count": 0,
      "outputs": [
        {
          "output_type": "stream",
          "text": [
            "Creating 5X2 array using numpy.arange\n",
            "[[100 110]\n",
            " [120 130]\n",
            " [140 150]\n",
            " [160 170]\n",
            " [180 190]]\n"
          ],
          "name": "stdout"
        }
      ]
    },
    {
      "cell_type": "markdown",
      "metadata": {
        "id": "FzwNdWyL3chf",
        "colab_type": "text"
      },
      "source": [
        "\n",
        "Voici le tableau numPy fourni. retourne un tableau d'éléments dans la troisième colonne de toutes les lignes"
      ]
    },
    {
      "cell_type": "code",
      "metadata": {
        "id": "LTMjqkJ43chg",
        "colab_type": "code",
        "colab": {}
      },
      "source": [
        "import numpy\n",
        "sampleArray = numpy.array([[11 ,22, 33], [44, 55, 66], [77, 88, 99]])"
      ],
      "execution_count": 0,
      "outputs": []
    },
    {
      "cell_type": "code",
      "metadata": {
        "id": "PTlIO9AN3chj",
        "colab_type": "code",
        "outputId": "d329297c-9996-4833-d3df-e5326671ac27",
        "colab": {}
      },
      "source": [
        "#### YourCode"
      ],
      "execution_count": 0,
      "outputs": [
        {
          "output_type": "stream",
          "text": [
            "Printing Input Array\n",
            "[[11 22 33]\n",
            " [44 55 66]\n",
            " [77 88 99]]\n",
            "\n",
            " Printing array of items in the third column from all rows\n",
            "[33 66 99]\n"
          ],
          "name": "stdout"
        }
      ]
    },
    {
      "cell_type": "markdown",
      "metadata": {
        "id": "hEungCKw3cht",
        "colab_type": "text"
      },
      "source": [
        "- \n",
        "Voici le tableau numpy retourné, tableau de lignes impaires et de colonnes paires"
      ]
    },
    {
      "cell_type": "code",
      "metadata": {
        "id": "T1EaD3yJ3chv",
        "colab_type": "code",
        "colab": {}
      },
      "source": [
        "import numpy\n",
        "sampleArray = numpy.array([[3 ,6, 9, 12], [15 ,18, 21, 24], \n",
        "[27 ,30, 33, 36], [39 ,42, 45, 48], [51 ,54, 57, 60]])"
      ],
      "execution_count": 0,
      "outputs": []
    },
    {
      "cell_type": "code",
      "metadata": {
        "id": "7q_uusxp3ch1",
        "colab_type": "code",
        "outputId": "9a7759ad-790d-452f-d4db-1ea41473c389",
        "colab": {}
      },
      "source": [
        "#### YourCode"
      ],
      "execution_count": 0,
      "outputs": [
        {
          "output_type": "stream",
          "text": [
            "Printing Input Array\n",
            "[[ 3  6  9 12]\n",
            " [15 18 21 24]\n",
            " [27 30 33 36]\n",
            " [39 42 45 48]\n",
            " [51 54 57 60]]\n",
            "\n",
            " Printing array of odd rows and even columns\n",
            "[[ 3  6  9 12]\n",
            " [27 30 33 36]\n",
            " [51 54 57 60]]\n"
          ],
          "name": "stdout"
        }
      ]
    },
    {
      "cell_type": "markdown",
      "metadata": {
        "id": "OMIkoroA3ch6",
        "colab_type": "text"
      },
      "source": [
        "- Ajoutez les deux tableaux NumPy suivants et modifiez un tableau de résultats en calculant la racine carrée de chaque élément"
      ]
    },
    {
      "cell_type": "code",
      "metadata": {
        "id": "Go16IUW83ch7",
        "colab_type": "code",
        "colab": {}
      },
      "source": [
        "import numpy\n",
        "arrayOne = numpy.array([[5, 6, 9], [21 ,18, 27]])\n",
        "arrayTwo = numpy.array([[15 ,33, 24], [4 ,7, 1]])"
      ],
      "execution_count": 0,
      "outputs": []
    },
    {
      "cell_type": "code",
      "metadata": {
        "id": "Fl67BK6n3ch_",
        "colab_type": "code",
        "outputId": "cf5917f8-03a1-44d7-d719-6359147a8fbb",
        "colab": {}
      },
      "source": [
        "#### YourCode"
      ],
      "execution_count": 0,
      "outputs": [
        {
          "output_type": "stream",
          "text": [
            "addition of two arrays is \n",
            "\n",
            "[[20 39 33]\n",
            " [25 25 28]]\n",
            "\n",
            "Result array after calculating the square root of all elements\n",
            "\n",
            "[[4.47213595 6.244998   5.74456265]\n",
            " [5.         5.         5.29150262]]\n"
          ],
          "name": "stdout"
        }
      ]
    },
    {
      "cell_type": "markdown",
      "metadata": {
        "id": "CmVyzq2F3ciF",
        "colab_type": "text"
      },
      "source": [
        "- \n",
        "Diviser le tableau en quatre sous-tableaux de taille égale"
      ]
    },
    {
      "cell_type": "markdown",
      "metadata": {
        "id": "CaAbFwRO3ciF",
        "colab_type": "text"
      },
      "source": [
        "Remarque: Créez un tableau d'entiers 8X3 compris entre 10 et 34 de sorte que la différence entre chaque élément soit égale à 1, puis divisez le tableau en quatre sous-tableaux de taille égale."
      ]
    },
    {
      "cell_type": "code",
      "metadata": {
        "id": "uW6BKaQF3ciG",
        "colab_type": "code",
        "outputId": "c2a6ae16-fe85-41f7-e782-20d0ce34eb7f",
        "colab": {}
      },
      "source": [
        "#### YourCode"
      ],
      "execution_count": 0,
      "outputs": [
        {
          "output_type": "stream",
          "text": [
            "Creating 8X3 array using numpy.arange\n",
            "[[10 11 12]\n",
            " [13 14 15]\n",
            " [16 17 18]\n",
            " [19 20 21]\n",
            " [22 23 24]\n",
            " [25 26 27]\n",
            " [28 29 30]\n",
            " [31 32 33]]\n",
            "\n",
            "Dividing 8X3 array into 4 sub array\n",
            "\n",
            "[array([[10, 11, 12],\n",
            "       [13, 14, 15]]), array([[16, 17, 18],\n",
            "       [19, 20, 21]]), array([[22, 23, 24],\n",
            "       [25, 26, 27]]), array([[28, 29, 30],\n",
            "       [31, 32, 33]])]\n"
          ],
          "name": "stdout"
        }
      ]
    },
    {
      "cell_type": "markdown",
      "metadata": {
        "id": "SSoJjaqO3ciL",
        "colab_type": "text"
      },
      "source": [
        "- Trier le tableau NumPy suivant\n",
        "  -  par la deuxième rangée \n",
        "  -  par la deuxième colonne"
      ]
    },
    {
      "cell_type": "code",
      "metadata": {
        "id": "M_q6wsne3ciM",
        "colab_type": "code",
        "colab": {}
      },
      "source": [
        "import numpy\n",
        "sampleArray = numpy.array([[34,43,73],[82,22,12],[53,94,66]])"
      ],
      "execution_count": 0,
      "outputs": []
    },
    {
      "cell_type": "code",
      "metadata": {
        "id": "mFhTACKZ3ciP",
        "colab_type": "code",
        "outputId": "542bcbd1-b344-424b-ef7b-32c79ef8c869",
        "colab": {}
      },
      "source": [
        "#### YourCode"
      ],
      "execution_count": 0,
      "outputs": [
        {
          "output_type": "stream",
          "text": [
            "Printing Original array\n",
            "[[34 43 73]\n",
            " [82 22 12]\n",
            " [53 94 66]]\n",
            "Sorting Original array by secoond row\n",
            "[[73 43 34]\n",
            " [12 22 82]\n",
            " [66 94 53]]\n",
            "Sorting Original array by secoond column\n",
            "[[82 22 12]\n",
            " [34 43 73]\n",
            " [53 94 66]]\n"
          ],
          "name": "stdout"
        }
      ]
    },
    {
      "cell_type": "markdown",
      "metadata": {
        "id": "lUD4sieL3ciR",
        "colab_type": "text"
      },
      "source": [
        "- \n",
        "Voici le tableau à deux dimensions. Imprimer max de l'axe 0 et min de l'axe 1"
      ]
    },
    {
      "cell_type": "code",
      "metadata": {
        "id": "k6As4ku63ciS",
        "colab_type": "code",
        "colab": {}
      },
      "source": [
        "import numpy\n",
        "sampleArray = numpy.array([[34,43,73],[82,22,12],[53,94,66]])"
      ],
      "execution_count": 0,
      "outputs": []
    },
    {
      "cell_type": "code",
      "metadata": {
        "id": "cYa8awfS3ciW",
        "colab_type": "code",
        "outputId": "5dfc07ed-cad9-4c16-e392-6ad048035c64",
        "colab": {}
      },
      "source": [
        "#### YourCode"
      ],
      "execution_count": 0,
      "outputs": [
        {
          "output_type": "stream",
          "text": [
            "Printing Original array\n",
            "[[34 43 73]\n",
            " [82 22 12]\n",
            " [53 94 66]]\n",
            "Printing amin Of Axis 1\n",
            "[34 12 53]\n",
            "Printing amax Of Axis 0\n",
            "[82 94 73]\n"
          ],
          "name": "stdout"
        }
      ]
    },
    {
      "cell_type": "markdown",
      "metadata": {
        "id": "oC7xG-6h3ciZ",
        "colab_type": "text"
      },
      "source": [
        "- \n",
        "Voici le tableau d'entrée NumPy, supprimez la deuxième colonne et insérez la nouvelle colonne suivante à la place."
      ]
    },
    {
      "cell_type": "code",
      "metadata": {
        "id": "697418kM3ciZ",
        "colab_type": "code",
        "colab": {}
      },
      "source": [
        "import numpy\n",
        "sampleArray = numpy.array([[34,43,73],[82,22,12],[53,94,66]]) \n",
        "newColumn = numpy.array([[10,10,10]])"
      ],
      "execution_count": 0,
      "outputs": []
    },
    {
      "cell_type": "code",
      "metadata": {
        "id": "d5NohQe93cic",
        "colab_type": "code",
        "outputId": "e543c458-b086-4f2f-d1ed-cf3bfde1d59c",
        "colab": {}
      },
      "source": [
        "#### YourCode"
      ],
      "execution_count": 0,
      "outputs": [
        {
          "output_type": "stream",
          "text": [
            "Printing Original array\n",
            "[[34 43 73]\n",
            " [82 22 12]\n",
            " [53 94 66]]\n",
            "Array after deleting column 2 on axis 1\n",
            "[[34 73]\n",
            " [82 12]\n",
            " [53 66]]\n",
            "Array after inserting column 2 on axis 1\n",
            "[[34 10 73]\n",
            " [82 10 12]\n",
            " [53 10 66]]\n"
          ],
          "name": "stdout"
        }
      ]
    },
    {
      "cell_type": "markdown",
      "metadata": {
        "id": "i-ITWEgt3cif",
        "colab_type": "text"
      },
      "source": [
        "- \n",
        "Créer un tableau à deux dimensions et le tracer à l'aide de matplotlib"
      ]
    },
    {
      "cell_type": "code",
      "metadata": {
        "id": "0pBXE0793cig",
        "colab_type": "code",
        "colab": {}
      },
      "source": [
        ""
      ],
      "execution_count": 0,
      "outputs": []
    }
  ]
}