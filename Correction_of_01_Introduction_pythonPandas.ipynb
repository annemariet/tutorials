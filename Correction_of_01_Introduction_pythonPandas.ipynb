{
  "nbformat": 4,
  "nbformat_minor": 0,
  "metadata": {
    "colab": {
      "name": "Correction of 01_Introduction_pythonPandas.ipynb",
      "provenance": [],
      "collapsed_sections": [],
      "include_colab_link": true
    },
    "kernelspec": {
      "display_name": "Python 3",
      "language": "python",
      "name": "python3"
    },
    "language_info": {
      "codemirror_mode": {
        "name": "ipython",
        "version": 3
      },
      "file_extension": ".py",
      "mimetype": "text/x-python",
      "name": "python",
      "nbconvert_exporter": "python",
      "pygments_lexer": "ipython3",
      "version": "3.7.3"
    }
  },
  "cells": [
    {
      "cell_type": "markdown",
      "metadata": {
        "id": "view-in-github",
        "colab_type": "text"
      },
      "source": [
        "<a href=\"https://colab.research.google.com/github/annemariet/tutorials/blob/master/Correction_of_01_Introduction_pythonPandas.ipynb\" target=\"_parent\"><img src=\"https://colab.research.google.com/assets/colab-badge.svg\" alt=\"Open In Colab\"/></a>"
      ]
    },
    {
      "cell_type": "markdown",
      "metadata": {
        "id": "CumKKJoF7Q4I",
        "colab_type": "text"
      },
      "source": [
        "#Introduction"
      ]
    },
    {
      "cell_type": "markdown",
      "metadata": {
        "id": "ynOUsvs57U9c",
        "colab_type": "text"
      },
      "source": [
        "This notebook gives some reminders on the [Pandas DataFrames and Series structures](https://pandas.pydata.org/docs/getting_started/dsintro.html)."
      ]
    },
    {
      "cell_type": "markdown",
      "metadata": {
        "colab_type": "text",
        "id": "qsXifYOK_qzQ"
      },
      "source": [
        "## Series"
      ]
    },
    {
      "cell_type": "markdown",
      "metadata": {
        "colab_type": "text",
        "id": "fHS_DlpsBPz-"
      },
      "source": [
        "\n",
        "`Series`structures can be created from the following data types:\n",
        "- scalar values \n",
        "- Python native dictionaries\n",
        "- multidimensional arrays (called ndarrays)."
      ]
    },
    {
      "cell_type": "markdown",
      "metadata": {
        "colab_type": "text",
        "id": "oTWAzavQ_hhX"
      },
      "source": [
        "A series is a vector of values taken by a variable. Usually it would represent the values taken by a variable for different observations (or individuals)."
      ]
    },
    {
      "cell_type": "code",
      "metadata": {
        "colab_type": "code",
        "id": "mur79hd2-hU3",
        "colab": {}
      },
      "source": [
        "import pandas as pd"
      ],
      "execution_count": 0,
      "outputs": []
    },
    {
      "cell_type": "markdown",
      "metadata": {
        "colab_type": "text",
        "id": "vfS7ZHiKCszP"
      },
      "source": [
        " ### from scalar values"
      ]
    },
    {
      "cell_type": "code",
      "metadata": {
        "colab_type": "code",
        "id": "kVhGBMAp_R9G",
        "colab": {}
      },
      "source": [
        "# Program to Create series with scalar values  \n",
        "data_points =[1, 3, 4, 5, 6, 2, 9]  # Numeric data \n",
        "  \n",
        "# Creating series with default index values \n",
        "s = pd.Series(data_points) \n"
      ],
      "execution_count": 0,
      "outputs": []
    },
    {
      "cell_type": "code",
      "metadata": {
        "colab_type": "code",
        "id": "KN--893MALN8",
        "colab": {}
      },
      "source": [
        "# predefined index values \n",
        "index =['a', 'b', 'c', 'd', 'e', 'f', 'g']  \n",
        "  \n",
        "# Creating series with predefined index values \n",
        "si = pd.Series(data_points, index) "
      ],
      "execution_count": 0,
      "outputs": []
    },
    {
      "cell_type": "code",
      "metadata": {
        "colab_type": "code",
        "id": "DObd2AGVAE1x",
        "outputId": "d04b41d3-209f-4623-adb3-7eb8a3fb36bc",
        "colab": {
          "base_uri": "https://localhost:8080/",
          "height": 156
        }
      },
      "source": [
        "si"
      ],
      "execution_count": 6,
      "outputs": [
        {
          "output_type": "execute_result",
          "data": {
            "text/plain": [
              "a    1\n",
              "b    3\n",
              "c    4\n",
              "d    5\n",
              "e    6\n",
              "f    2\n",
              "g    9\n",
              "dtype: int64"
            ]
          },
          "metadata": {
            "tags": []
          },
          "execution_count": 6
        }
      ]
    },
    {
      "cell_type": "code",
      "metadata": {
        "colab_type": "code",
        "id": "ZRrfd_mi_TXS",
        "outputId": "4e1d9275-46a7-4596-ac98-704d1c024ba4",
        "colab": {
          "base_uri": "https://localhost:8080/",
          "height": 35
        }
      },
      "source": [
        "si['f']  # direct indexing"
      ],
      "execution_count": 7,
      "outputs": [
        {
          "output_type": "execute_result",
          "data": {
            "text/plain": [
              "2"
            ]
          },
          "metadata": {
            "tags": []
          },
          "execution_count": 7
        }
      ]
    },
    {
      "cell_type": "markdown",
      "metadata": {
        "colab_type": "text",
        "id": "qFVVSr5sDV4Z"
      },
      "source": [
        "### from a dictionary\n",
        "\n",
        "A dictionary is a key-value mapping. Where values are indexed by their position in a list, here values are indexed by a key (which can take any hashable type, for instance alpha-numerical characters)."
      ]
    },
    {
      "cell_type": "code",
      "metadata": {
        "colab_type": "code",
        "id": "oXepXx0VDdCw",
        "outputId": "5dee1622-fae7-4061-b057-aabb4af5d5ab",
        "colab": {
          "base_uri": "https://localhost:8080/",
          "height": 121
        }
      },
      "source": [
        "# Program to Create Dictionary series \n",
        "dictionary ={'a':1, 'b':2, 'c':3, 'd':4, 'e':5}  \n",
        "  \n",
        "# Creating series of Dictionary type \n",
        "sd = pd.Series(dictionary)\n",
        "sd"
      ],
      "execution_count": 8,
      "outputs": [
        {
          "output_type": "execute_result",
          "data": {
            "text/plain": [
              "a    1\n",
              "b    2\n",
              "c    3\n",
              "d    4\n",
              "e    5\n",
              "dtype: int64"
            ]
          },
          "metadata": {
            "tags": []
          },
          "execution_count": 8
        }
      ]
    },
    {
      "cell_type": "markdown",
      "metadata": {
        "colab_type": "text",
        "id": "V64KXAoQRQ_R"
      },
      "source": [
        "###  from a Ndarray"
      ]
    },
    {
      "cell_type": "code",
      "metadata": {
        "colab_type": "code",
        "id": "rh1E2Gj_DjAy",
        "colab": {}
      },
      "source": [
        "import pandas as pd\n",
        "# Program to Create ndarray series \n",
        "nddata =[[2, 3, 4], [5, 6, 7]]  # Defining 2darray \n",
        "  \n",
        "# Creating series of 2darray \n",
        "snd = pd.Series(nddata) "
      ],
      "execution_count": 0,
      "outputs": []
    },
    {
      "cell_type": "code",
      "metadata": {
        "colab_type": "code",
        "id": "mv6Y_i-l3aXL",
        "outputId": "a5a9912c-0179-4160-f4f3-3dd23aaed956",
        "colab": {
          "base_uri": "https://localhost:8080/",
          "height": 35
        }
      },
      "source": [
        "nddata, nddata[0][1]"
      ],
      "execution_count": 10,
      "outputs": [
        {
          "output_type": "execute_result",
          "data": {
            "text/plain": [
              "([[2, 3, 4], [5, 6, 7]], 3)"
            ]
          },
          "metadata": {
            "tags": []
          },
          "execution_count": 10
        }
      ]
    },
    {
      "cell_type": "code",
      "metadata": {
        "colab_type": "code",
        "id": "0EkWmcBrRkXJ",
        "outputId": "99e52fe6-5560-463f-fff4-8152c9d78b77",
        "colab": {
          "base_uri": "https://localhost:8080/",
          "height": 35
        }
      },
      "source": [
        "snd[1][1]"
      ],
      "execution_count": 11,
      "outputs": [
        {
          "output_type": "execute_result",
          "data": {
            "text/plain": [
              "6"
            ]
          },
          "metadata": {
            "tags": []
          },
          "execution_count": 11
        }
      ]
    },
    {
      "cell_type": "markdown",
      "metadata": {
        "colab_type": "text",
        "id": "30qZORvWRtRE"
      },
      "source": [
        "## DataFrames\n",
        "\n",
        "A DataFrame is a 2-dimensional data structure : several columns contain the variables, with their observations indexed on the rows.\n",
        "\n",
        "It can be built from the same kind of data as `Series`:\n",
        "- one or more scalar vectors\n",
        "- one or more dictionaries\n",
        "- 2D-numpy ndarray"
      ]
    },
    {
      "cell_type": "code",
      "metadata": {
        "colab_type": "code",
        "id": "VUSzYgpKRvQA",
        "colab": {}
      },
      "source": [
        "# Program to Create Data Frame with two dictionaries \n",
        "dict1 ={'a':1, 'b':2, 'c':3, 'd':4}        # Define Dictionary 1 \n",
        "dict2 ={'a':5, 'b':6, 'c':7, 'd':8, 'e':9} # Define Dictionary 2 \n",
        "data = {'first':dict1, 'second':dict2}  # Define Data with dict1 and dict2 \n",
        "df = pd.DataFrame(data)  # Create DataFrame "
      ],
      "execution_count": 0,
      "outputs": []
    },
    {
      "cell_type": "code",
      "metadata": {
        "colab_type": "code",
        "id": "Ys6HSN4lS_bS",
        "outputId": "b1248e57-bc63-40af-a9f7-2c78a603b14e",
        "colab": {
          "base_uri": "https://localhost:8080/",
          "height": 202
        }
      },
      "source": [
        "df  # note that the missing value is filled with a NaN by default (Not a Number)"
      ],
      "execution_count": 13,
      "outputs": [
        {
          "output_type": "execute_result",
          "data": {
            "text/html": [
              "<div>\n",
              "<style scoped>\n",
              "    .dataframe tbody tr th:only-of-type {\n",
              "        vertical-align: middle;\n",
              "    }\n",
              "\n",
              "    .dataframe tbody tr th {\n",
              "        vertical-align: top;\n",
              "    }\n",
              "\n",
              "    .dataframe thead th {\n",
              "        text-align: right;\n",
              "    }\n",
              "</style>\n",
              "<table border=\"1\" class=\"dataframe\">\n",
              "  <thead>\n",
              "    <tr style=\"text-align: right;\">\n",
              "      <th></th>\n",
              "      <th>first</th>\n",
              "      <th>second</th>\n",
              "    </tr>\n",
              "  </thead>\n",
              "  <tbody>\n",
              "    <tr>\n",
              "      <th>a</th>\n",
              "      <td>1.0</td>\n",
              "      <td>5</td>\n",
              "    </tr>\n",
              "    <tr>\n",
              "      <th>b</th>\n",
              "      <td>2.0</td>\n",
              "      <td>6</td>\n",
              "    </tr>\n",
              "    <tr>\n",
              "      <th>c</th>\n",
              "      <td>3.0</td>\n",
              "      <td>7</td>\n",
              "    </tr>\n",
              "    <tr>\n",
              "      <th>d</th>\n",
              "      <td>4.0</td>\n",
              "      <td>8</td>\n",
              "    </tr>\n",
              "    <tr>\n",
              "      <th>e</th>\n",
              "      <td>NaN</td>\n",
              "      <td>9</td>\n",
              "    </tr>\n",
              "  </tbody>\n",
              "</table>\n",
              "</div>"
            ],
            "text/plain": [
              "   first  second\n",
              "a    1.0       5\n",
              "b    2.0       6\n",
              "c    3.0       7\n",
              "d    4.0       8\n",
              "e    NaN       9"
            ]
          },
          "metadata": {
            "tags": []
          },
          "execution_count": 13
        }
      ]
    },
    {
      "cell_type": "markdown",
      "metadata": {
        "colab_type": "text",
        "id": "ojUAgNzDTLp5"
      },
      "source": [
        "###  from Series\n",
        "\n",
        "A DataFrame can also be created from a set of series, for instance as follows:"
      ]
    },
    {
      "cell_type": "code",
      "metadata": {
        "colab_type": "code",
        "id": "ol-tmKMwTrvs",
        "colab": {}
      },
      "source": [
        "# Program to create Dataframe of three series  \n",
        "import pandas as pd \n",
        "  \n",
        "s1 = pd.Series([1, 3, 4, 5, 6, 2, 9])           # Define series 1 \n",
        "s2 = pd.Series([1.1, 3.5, 4.7, 5.8, 2.9, 9.3]) # Define series 2 \n",
        "s3 = pd.Series(['a', 'b', 'c', 'd', 'e'])     # Define series 3 \n",
        "  \n",
        "  \n",
        "Data ={'first':s1, 'second':s2, 'third':s3} # Define Data \n",
        "dfseries = pd.DataFrame(Data)              # Create DataFrame "
      ],
      "execution_count": 0,
      "outputs": []
    },
    {
      "cell_type": "markdown",
      "metadata": {
        "colab_type": "text",
        "id": "3L60pT0tT9LF"
      },
      "source": [
        "### from 2D-numpy ndarray"
      ]
    },
    {
      "cell_type": "code",
      "metadata": {
        "colab_type": "code",
        "id": "ti6tCCtET18E",
        "colab": {}
      },
      "source": [
        "# Program to create DataFrame from 2D array \n",
        "import pandas as pd # Import Library \n",
        "d1 =[[2, 3, 4], [5, 6, 7]] # Define 2d array 1 \n",
        "d2 =[[2, 4, 8], [1, 3, 9]] # Define 2d array 2 \n",
        "Data ={'first': d1, 'second': d2} # Define Data  \n",
        "df2d = pd.DataFrame(Data)    # Create DataFrame "
      ],
      "execution_count": 0,
      "outputs": []
    },
    {
      "cell_type": "code",
      "metadata": {
        "colab_type": "code",
        "id": "owvl4Iis4HXk",
        "outputId": "971c5f3f-8c31-472b-d4f6-49360baabf8f",
        "colab": {
          "base_uri": "https://localhost:8080/",
          "height": 110
        }
      },
      "source": [
        "df2d"
      ],
      "execution_count": 15,
      "outputs": [
        {
          "output_type": "execute_result",
          "data": {
            "text/html": [
              "<div>\n",
              "<style scoped>\n",
              "    .dataframe tbody tr th:only-of-type {\n",
              "        vertical-align: middle;\n",
              "    }\n",
              "\n",
              "    .dataframe tbody tr th {\n",
              "        vertical-align: top;\n",
              "    }\n",
              "\n",
              "    .dataframe thead th {\n",
              "        text-align: right;\n",
              "    }\n",
              "</style>\n",
              "<table border=\"1\" class=\"dataframe\">\n",
              "  <thead>\n",
              "    <tr style=\"text-align: right;\">\n",
              "      <th></th>\n",
              "      <th>first</th>\n",
              "      <th>second</th>\n",
              "    </tr>\n",
              "  </thead>\n",
              "  <tbody>\n",
              "    <tr>\n",
              "      <th>0</th>\n",
              "      <td>[2, 3, 4]</td>\n",
              "      <td>[2, 4, 8]</td>\n",
              "    </tr>\n",
              "    <tr>\n",
              "      <th>1</th>\n",
              "      <td>[5, 6, 7]</td>\n",
              "      <td>[1, 3, 9]</td>\n",
              "    </tr>\n",
              "  </tbody>\n",
              "</table>\n",
              "</div>"
            ],
            "text/plain": [
              "       first     second\n",
              "0  [2, 3, 4]  [2, 4, 8]\n",
              "1  [5, 6, 7]  [1, 3, 9]"
            ]
          },
          "metadata": {
            "tags": []
          },
          "execution_count": 15
        }
      ]
    },
    {
      "cell_type": "markdown",
      "metadata": {
        "id": "zJjzvQccfKiY",
        "colab_type": "text"
      },
      "source": [
        "## Tidy data\n",
        "\n",
        "It is useful to organize a DataFrame as [_tidy data_](https://vita.had.co.nz/papers/tidy-data.pdf):\n",
        "\n",
        "\"A dataset is a collection of **values**, usually either numbers (if quantitative) or strings (if\n",
        "qualitative). Values are organised in two ways. Every value belongs to a **variable** and an\n",
        "**observation**. A variable contains all values that measure the same underlying attribute (like\n",
        "height, temperature, duration) across units. An observation contains all values measured on\n",
        "the same unit (like a person, or a day, or a race) across attributes.\"\n",
        "\n",
        "In tidy data:\n",
        "1. Each variable forms a column.\n",
        "2. Each observation forms a row.\n",
        "3. Each type of observational unit forms a table\"\n"
      ]
    },
    {
      "cell_type": "markdown",
      "metadata": {
        "colab_type": "text",
        "id": "KapNngHa4OdJ"
      },
      "source": [
        "# Exercise \n",
        "\n",
        "We are going to play with an automobile dataset, in which each column gives a different feature of a car, such as body shape, motor type, price, etc.\n",
        "\n",
        "You can download the data at [this url](https://github.com/annemariet/tutorials/blob/master/data/Automobile_data.csv). \n",
        "\n"
      ]
    },
    {
      "cell_type": "markdown",
      "metadata": {
        "colab_type": "text",
        "id": "HpiRbf-b4kfb"
      },
      "source": [
        "\n",
        "Load the dataframe and print the first 10 and last 10 lines:\n",
        "\n",
        "- use the github \"raw\" button to get the link to the raw content\n",
        "- pandas read_csv can read from urls\n",
        "- use `head` and `tail` methods."
      ]
    },
    {
      "cell_type": "code",
      "metadata": {
        "colab_type": "code",
        "id": "Naq_yaYJ4SNR",
        "colab": {}
      },
      "source": [
        "# load df\n",
        "url = \"https://raw.githubusercontent.com/annemariet/tutorials/master/data/Automobile_data.csv\"\n",
        "df = pd.read_csv(url, index_col=0)"
      ],
      "execution_count": 0,
      "outputs": []
    },
    {
      "cell_type": "code",
      "metadata": {
        "id": "AjobfKP3wHPU",
        "colab_type": "code",
        "colab": {
          "base_uri": "https://localhost:8080/",
          "height": 69
        },
        "outputId": "bff18c36-d3c8-4e4b-c815-1e63546cd5dc"
      },
      "source": [
        "df.columns"
      ],
      "execution_count": 21,
      "outputs": [
        {
          "output_type": "execute_result",
          "data": {
            "text/plain": [
              "Index(['company', 'body-style', 'wheel-base', 'length', 'engine-type',\n",
              "       'num-of-cylinders', 'horsepower', 'average-mileage', 'price'],\n",
              "      dtype='object')"
            ]
          },
          "metadata": {
            "tags": []
          },
          "execution_count": 21
        }
      ]
    },
    {
      "cell_type": "code",
      "metadata": {
        "id": "DwJ_SkAMoAwg",
        "colab_type": "code",
        "colab": {
          "base_uri": "https://localhost:8080/",
          "height": 386
        },
        "outputId": "02f2e18d-1a0e-4dba-9da6-2ce839eb0c99"
      },
      "source": [
        "# head\n",
        "df.head(10)"
      ],
      "execution_count": 22,
      "outputs": [
        {
          "output_type": "execute_result",
          "data": {
            "text/html": [
              "<div>\n",
              "<style scoped>\n",
              "    .dataframe tbody tr th:only-of-type {\n",
              "        vertical-align: middle;\n",
              "    }\n",
              "\n",
              "    .dataframe tbody tr th {\n",
              "        vertical-align: top;\n",
              "    }\n",
              "\n",
              "    .dataframe thead th {\n",
              "        text-align: right;\n",
              "    }\n",
              "</style>\n",
              "<table border=\"1\" class=\"dataframe\">\n",
              "  <thead>\n",
              "    <tr style=\"text-align: right;\">\n",
              "      <th></th>\n",
              "      <th>company</th>\n",
              "      <th>body-style</th>\n",
              "      <th>wheel-base</th>\n",
              "      <th>length</th>\n",
              "      <th>engine-type</th>\n",
              "      <th>num-of-cylinders</th>\n",
              "      <th>horsepower</th>\n",
              "      <th>average-mileage</th>\n",
              "      <th>price</th>\n",
              "    </tr>\n",
              "    <tr>\n",
              "      <th>index</th>\n",
              "      <th></th>\n",
              "      <th></th>\n",
              "      <th></th>\n",
              "      <th></th>\n",
              "      <th></th>\n",
              "      <th></th>\n",
              "      <th></th>\n",
              "      <th></th>\n",
              "      <th></th>\n",
              "    </tr>\n",
              "  </thead>\n",
              "  <tbody>\n",
              "    <tr>\n",
              "      <th>0</th>\n",
              "      <td>alfa-romero</td>\n",
              "      <td>convertible</td>\n",
              "      <td>88.6</td>\n",
              "      <td>168.8</td>\n",
              "      <td>dohc</td>\n",
              "      <td>four</td>\n",
              "      <td>111</td>\n",
              "      <td>21</td>\n",
              "      <td>13495.0</td>\n",
              "    </tr>\n",
              "    <tr>\n",
              "      <th>1</th>\n",
              "      <td>alfa-romero</td>\n",
              "      <td>convertible</td>\n",
              "      <td>88.6</td>\n",
              "      <td>168.8</td>\n",
              "      <td>dohc</td>\n",
              "      <td>four</td>\n",
              "      <td>111</td>\n",
              "      <td>21</td>\n",
              "      <td>16500.0</td>\n",
              "    </tr>\n",
              "    <tr>\n",
              "      <th>2</th>\n",
              "      <td>alfa-romero</td>\n",
              "      <td>hatchback</td>\n",
              "      <td>94.5</td>\n",
              "      <td>171.2</td>\n",
              "      <td>ohcv</td>\n",
              "      <td>six</td>\n",
              "      <td>154</td>\n",
              "      <td>19</td>\n",
              "      <td>16500.0</td>\n",
              "    </tr>\n",
              "    <tr>\n",
              "      <th>3</th>\n",
              "      <td>audi</td>\n",
              "      <td>sedan</td>\n",
              "      <td>99.8</td>\n",
              "      <td>176.6</td>\n",
              "      <td>ohc</td>\n",
              "      <td>four</td>\n",
              "      <td>102</td>\n",
              "      <td>24</td>\n",
              "      <td>13950.0</td>\n",
              "    </tr>\n",
              "    <tr>\n",
              "      <th>4</th>\n",
              "      <td>audi</td>\n",
              "      <td>sedan</td>\n",
              "      <td>99.4</td>\n",
              "      <td>176.6</td>\n",
              "      <td>ohc</td>\n",
              "      <td>five</td>\n",
              "      <td>115</td>\n",
              "      <td>18</td>\n",
              "      <td>17450.0</td>\n",
              "    </tr>\n",
              "    <tr>\n",
              "      <th>5</th>\n",
              "      <td>audi</td>\n",
              "      <td>sedan</td>\n",
              "      <td>99.8</td>\n",
              "      <td>177.3</td>\n",
              "      <td>ohc</td>\n",
              "      <td>five</td>\n",
              "      <td>110</td>\n",
              "      <td>19</td>\n",
              "      <td>15250.0</td>\n",
              "    </tr>\n",
              "    <tr>\n",
              "      <th>6</th>\n",
              "      <td>audi</td>\n",
              "      <td>wagon</td>\n",
              "      <td>105.8</td>\n",
              "      <td>192.7</td>\n",
              "      <td>ohc</td>\n",
              "      <td>five</td>\n",
              "      <td>110</td>\n",
              "      <td>19</td>\n",
              "      <td>18920.0</td>\n",
              "    </tr>\n",
              "    <tr>\n",
              "      <th>9</th>\n",
              "      <td>bmw</td>\n",
              "      <td>sedan</td>\n",
              "      <td>101.2</td>\n",
              "      <td>176.8</td>\n",
              "      <td>ohc</td>\n",
              "      <td>four</td>\n",
              "      <td>101</td>\n",
              "      <td>23</td>\n",
              "      <td>16430.0</td>\n",
              "    </tr>\n",
              "    <tr>\n",
              "      <th>10</th>\n",
              "      <td>bmw</td>\n",
              "      <td>sedan</td>\n",
              "      <td>101.2</td>\n",
              "      <td>176.8</td>\n",
              "      <td>ohc</td>\n",
              "      <td>four</td>\n",
              "      <td>101</td>\n",
              "      <td>23</td>\n",
              "      <td>16925.0</td>\n",
              "    </tr>\n",
              "    <tr>\n",
              "      <th>11</th>\n",
              "      <td>bmw</td>\n",
              "      <td>sedan</td>\n",
              "      <td>101.2</td>\n",
              "      <td>176.8</td>\n",
              "      <td>ohc</td>\n",
              "      <td>six</td>\n",
              "      <td>121</td>\n",
              "      <td>21</td>\n",
              "      <td>20970.0</td>\n",
              "    </tr>\n",
              "  </tbody>\n",
              "</table>\n",
              "</div>"
            ],
            "text/plain": [
              "           company   body-style  ...  average-mileage    price\n",
              "index                            ...                          \n",
              "0      alfa-romero  convertible  ...               21  13495.0\n",
              "1      alfa-romero  convertible  ...               21  16500.0\n",
              "2      alfa-romero    hatchback  ...               19  16500.0\n",
              "3             audi        sedan  ...               24  13950.0\n",
              "4             audi        sedan  ...               18  17450.0\n",
              "5             audi        sedan  ...               19  15250.0\n",
              "6             audi        wagon  ...               19  18920.0\n",
              "9              bmw        sedan  ...               23  16430.0\n",
              "10             bmw        sedan  ...               23  16925.0\n",
              "11             bmw        sedan  ...               21  20970.0\n",
              "\n",
              "[10 rows x 9 columns]"
            ]
          },
          "metadata": {
            "tags": []
          },
          "execution_count": 22
        }
      ]
    },
    {
      "cell_type": "code",
      "metadata": {
        "id": "D6pNhWlyncwk",
        "colab_type": "code",
        "colab": {
          "base_uri": "https://localhost:8080/",
          "height": 386
        },
        "outputId": "371cc342-bd36-47e5-b729-54e41cbe289b"
      },
      "source": [
        "# tail\n",
        "df.tail(10)"
      ],
      "execution_count": 24,
      "outputs": [
        {
          "output_type": "execute_result",
          "data": {
            "text/html": [
              "<div>\n",
              "<style scoped>\n",
              "    .dataframe tbody tr th:only-of-type {\n",
              "        vertical-align: middle;\n",
              "    }\n",
              "\n",
              "    .dataframe tbody tr th {\n",
              "        vertical-align: top;\n",
              "    }\n",
              "\n",
              "    .dataframe thead th {\n",
              "        text-align: right;\n",
              "    }\n",
              "</style>\n",
              "<table border=\"1\" class=\"dataframe\">\n",
              "  <thead>\n",
              "    <tr style=\"text-align: right;\">\n",
              "      <th></th>\n",
              "      <th>company</th>\n",
              "      <th>body-style</th>\n",
              "      <th>wheel-base</th>\n",
              "      <th>length</th>\n",
              "      <th>engine-type</th>\n",
              "      <th>num-of-cylinders</th>\n",
              "      <th>horsepower</th>\n",
              "      <th>average-mileage</th>\n",
              "      <th>price</th>\n",
              "    </tr>\n",
              "    <tr>\n",
              "      <th>index</th>\n",
              "      <th></th>\n",
              "      <th></th>\n",
              "      <th></th>\n",
              "      <th></th>\n",
              "      <th></th>\n",
              "      <th></th>\n",
              "      <th></th>\n",
              "      <th></th>\n",
              "      <th></th>\n",
              "    </tr>\n",
              "  </thead>\n",
              "  <tbody>\n",
              "    <tr>\n",
              "      <th>69</th>\n",
              "      <td>toyota</td>\n",
              "      <td>wagon</td>\n",
              "      <td>95.7</td>\n",
              "      <td>169.7</td>\n",
              "      <td>ohc</td>\n",
              "      <td>four</td>\n",
              "      <td>62</td>\n",
              "      <td>31</td>\n",
              "      <td>6918.0</td>\n",
              "    </tr>\n",
              "    <tr>\n",
              "      <th>70</th>\n",
              "      <td>toyota</td>\n",
              "      <td>wagon</td>\n",
              "      <td>95.7</td>\n",
              "      <td>169.7</td>\n",
              "      <td>ohc</td>\n",
              "      <td>four</td>\n",
              "      <td>62</td>\n",
              "      <td>27</td>\n",
              "      <td>7898.0</td>\n",
              "    </tr>\n",
              "    <tr>\n",
              "      <th>71</th>\n",
              "      <td>toyota</td>\n",
              "      <td>wagon</td>\n",
              "      <td>95.7</td>\n",
              "      <td>169.7</td>\n",
              "      <td>ohc</td>\n",
              "      <td>four</td>\n",
              "      <td>62</td>\n",
              "      <td>27</td>\n",
              "      <td>8778.0</td>\n",
              "    </tr>\n",
              "    <tr>\n",
              "      <th>79</th>\n",
              "      <td>toyota</td>\n",
              "      <td>wagon</td>\n",
              "      <td>104.5</td>\n",
              "      <td>187.8</td>\n",
              "      <td>dohc</td>\n",
              "      <td>six</td>\n",
              "      <td>156</td>\n",
              "      <td>19</td>\n",
              "      <td>15750.0</td>\n",
              "    </tr>\n",
              "    <tr>\n",
              "      <th>80</th>\n",
              "      <td>volkswagen</td>\n",
              "      <td>sedan</td>\n",
              "      <td>97.3</td>\n",
              "      <td>171.7</td>\n",
              "      <td>ohc</td>\n",
              "      <td>four</td>\n",
              "      <td>52</td>\n",
              "      <td>37</td>\n",
              "      <td>7775.0</td>\n",
              "    </tr>\n",
              "    <tr>\n",
              "      <th>81</th>\n",
              "      <td>volkswagen</td>\n",
              "      <td>sedan</td>\n",
              "      <td>97.3</td>\n",
              "      <td>171.7</td>\n",
              "      <td>ohc</td>\n",
              "      <td>four</td>\n",
              "      <td>85</td>\n",
              "      <td>27</td>\n",
              "      <td>7975.0</td>\n",
              "    </tr>\n",
              "    <tr>\n",
              "      <th>82</th>\n",
              "      <td>volkswagen</td>\n",
              "      <td>sedan</td>\n",
              "      <td>97.3</td>\n",
              "      <td>171.7</td>\n",
              "      <td>ohc</td>\n",
              "      <td>four</td>\n",
              "      <td>52</td>\n",
              "      <td>37</td>\n",
              "      <td>7995.0</td>\n",
              "    </tr>\n",
              "    <tr>\n",
              "      <th>86</th>\n",
              "      <td>volkswagen</td>\n",
              "      <td>sedan</td>\n",
              "      <td>97.3</td>\n",
              "      <td>171.7</td>\n",
              "      <td>ohc</td>\n",
              "      <td>four</td>\n",
              "      <td>100</td>\n",
              "      <td>26</td>\n",
              "      <td>9995.0</td>\n",
              "    </tr>\n",
              "    <tr>\n",
              "      <th>87</th>\n",
              "      <td>volvo</td>\n",
              "      <td>sedan</td>\n",
              "      <td>104.3</td>\n",
              "      <td>188.8</td>\n",
              "      <td>ohc</td>\n",
              "      <td>four</td>\n",
              "      <td>114</td>\n",
              "      <td>23</td>\n",
              "      <td>12940.0</td>\n",
              "    </tr>\n",
              "    <tr>\n",
              "      <th>88</th>\n",
              "      <td>volvo</td>\n",
              "      <td>wagon</td>\n",
              "      <td>104.3</td>\n",
              "      <td>188.8</td>\n",
              "      <td>ohc</td>\n",
              "      <td>four</td>\n",
              "      <td>114</td>\n",
              "      <td>23</td>\n",
              "      <td>13415.0</td>\n",
              "    </tr>\n",
              "  </tbody>\n",
              "</table>\n",
              "</div>"
            ],
            "text/plain": [
              "          company body-style  wheel-base  ...  horsepower average-mileage    price\n",
              "index                                     ...                                     \n",
              "69         toyota      wagon        95.7  ...          62              31   6918.0\n",
              "70         toyota      wagon        95.7  ...          62              27   7898.0\n",
              "71         toyota      wagon        95.7  ...          62              27   8778.0\n",
              "79         toyota      wagon       104.5  ...         156              19  15750.0\n",
              "80     volkswagen      sedan        97.3  ...          52              37   7775.0\n",
              "81     volkswagen      sedan        97.3  ...          85              27   7975.0\n",
              "82     volkswagen      sedan        97.3  ...          52              37   7995.0\n",
              "86     volkswagen      sedan        97.3  ...         100              26   9995.0\n",
              "87          volvo      sedan       104.3  ...         114              23  12940.0\n",
              "88          volvo      wagon       104.3  ...         114              23  13415.0\n",
              "\n",
              "[10 rows x 9 columns]"
            ]
          },
          "metadata": {
            "tags": []
          },
          "execution_count": 24
        }
      ]
    },
    {
      "cell_type": "markdown",
      "metadata": {
        "id": "EvuvHR-DoJ43",
        "colab_type": "text"
      },
      "source": [
        "You can access to the content of a column by indexing the dataframe with the column name, which returns a `pd.Series`. You can view the list of columns with `df.columns`."
      ]
    },
    {
      "cell_type": "code",
      "metadata": {
        "id": "fgMMk63_3ce5",
        "colab_type": "code",
        "outputId": "3fc48596-ab6f-4a7b-a8d8-2fa401d7d7e5",
        "colab": {
          "base_uri": "https://localhost:8080/",
          "height": 243
        }
      },
      "source": [
        "d1=df['company']\n",
        "d1"
      ],
      "execution_count": 25,
      "outputs": [
        {
          "output_type": "execute_result",
          "data": {
            "text/plain": [
              "index\n",
              "0     alfa-romero\n",
              "1     alfa-romero\n",
              "2     alfa-romero\n",
              "3            audi\n",
              "4            audi\n",
              "         ...     \n",
              "81     volkswagen\n",
              "82     volkswagen\n",
              "86     volkswagen\n",
              "87          volvo\n",
              "88          volvo\n",
              "Name: company, Length: 61, dtype: object"
            ]
          },
          "metadata": {
            "tags": []
          },
          "execution_count": 25
        }
      ]
    },
    {
      "cell_type": "code",
      "metadata": {
        "id": "n1dyl7pt3ce_",
        "colab_type": "code",
        "outputId": "e18af1ec-151b-4063-c249-fefb65831234",
        "colab": {
          "base_uri": "https://localhost:8080/",
          "height": 35
        }
      },
      "source": [
        "len(df)"
      ],
      "execution_count": 44,
      "outputs": [
        {
          "output_type": "execute_result",
          "data": {
            "text/plain": [
              "61"
            ]
          },
          "metadata": {
            "tags": []
          },
          "execution_count": 44
        }
      ]
    },
    {
      "cell_type": "markdown",
      "metadata": {
        "colab_type": "text",
        "id": "964Nbl9c4pNh"
      },
      "source": [
        "What is the company with the most expensive car?\n",
        "- using and filtering, you can select rows for which a predicate is true, eg: `df[df[\"<column>\"]==<value>]`.\n",
        "- using `df.loc[<index>]` you can select rows at the given indexes.\n",
        "- pandas offers both `max` and `idxmax` methods."
      ]
    },
    {
      "cell_type": "code",
      "metadata": {
        "colab_type": "code",
        "id": "1cNB7Nyu5QmO",
        "colab": {
          "base_uri": "https://localhost:8080/",
          "height": 52
        },
        "outputId": "61ad6310-eb45-4026-aa2b-e4fb0f8e2141"
      },
      "source": [
        "# answer\n",
        "%timeit df.sort_values(by=\"price\", ascending=False).head(1).company"
      ],
      "execution_count": 43,
      "outputs": [
        {
          "output_type": "stream",
          "text": [
            "The slowest run took 6.12 times longer than the fastest. This could mean that an intermediate result is being cached.\n",
            "1000 loops, best of 3: 703 µs per loop\n"
          ],
          "name": "stdout"
        }
      ]
    },
    {
      "cell_type": "code",
      "metadata": {
        "id": "McBWiHNIxaTK",
        "colab_type": "code",
        "colab": {
          "base_uri": "https://localhost:8080/",
          "height": 52
        },
        "outputId": "32bece2b-cc71-4004-fdba-d161deede3c4"
      },
      "source": [
        "%timeit df[df[\"price\"] == df[\"price\"].max()]"
      ],
      "execution_count": 41,
      "outputs": [
        {
          "output_type": "stream",
          "text": [
            "The slowest run took 6.16 times longer than the fastest. This could mean that an intermediate result is being cached.\n",
            "1000 loops, best of 3: 766 µs per loop\n"
          ],
          "name": "stdout"
        }
      ]
    },
    {
      "cell_type": "code",
      "metadata": {
        "id": "-KtvZgaTxoFj",
        "colab_type": "code",
        "colab": {
          "base_uri": "https://localhost:8080/",
          "height": 35
        },
        "outputId": "a9d3a95f-ed17-44d8-e4c8-17585e934d2d"
      },
      "source": [
        "%timeit df.loc[df[\"price\"].idxmax()]"
      ],
      "execution_count": 42,
      "outputs": [
        {
          "output_type": "stream",
          "text": [
            "1000 loops, best of 3: 297 µs per loop\n"
          ],
          "name": "stdout"
        }
      ]
    },
    {
      "cell_type": "markdown",
      "metadata": {
        "colab_type": "text",
        "id": "5cZ0vdmG5R3S"
      },
      "source": [
        "Print the details of all the Toyota cars\n",
        "\n",
        "\n"
      ]
    },
    {
      "cell_type": "code",
      "metadata": {
        "colab_type": "code",
        "id": "H6jt9q0H5mZ1",
        "outputId": "3af32b7e-c764-4f83-ac23-512ae7882bd4",
        "colab": {
          "base_uri": "https://localhost:8080/",
          "height": 294
        }
      },
      "source": [
        "# answer\n",
        "df[df[\"company\"]==\"toyota\"]"
      ],
      "execution_count": 45,
      "outputs": [
        {
          "output_type": "execute_result",
          "data": {
            "text/html": [
              "<div>\n",
              "<style scoped>\n",
              "    .dataframe tbody tr th:only-of-type {\n",
              "        vertical-align: middle;\n",
              "    }\n",
              "\n",
              "    .dataframe tbody tr th {\n",
              "        vertical-align: top;\n",
              "    }\n",
              "\n",
              "    .dataframe thead th {\n",
              "        text-align: right;\n",
              "    }\n",
              "</style>\n",
              "<table border=\"1\" class=\"dataframe\">\n",
              "  <thead>\n",
              "    <tr style=\"text-align: right;\">\n",
              "      <th></th>\n",
              "      <th>company</th>\n",
              "      <th>body-style</th>\n",
              "      <th>wheel-base</th>\n",
              "      <th>length</th>\n",
              "      <th>engine-type</th>\n",
              "      <th>num-of-cylinders</th>\n",
              "      <th>horsepower</th>\n",
              "      <th>average-mileage</th>\n",
              "      <th>price</th>\n",
              "    </tr>\n",
              "    <tr>\n",
              "      <th>index</th>\n",
              "      <th></th>\n",
              "      <th></th>\n",
              "      <th></th>\n",
              "      <th></th>\n",
              "      <th></th>\n",
              "      <th></th>\n",
              "      <th></th>\n",
              "      <th></th>\n",
              "      <th></th>\n",
              "    </tr>\n",
              "  </thead>\n",
              "  <tbody>\n",
              "    <tr>\n",
              "      <th>66</th>\n",
              "      <td>toyota</td>\n",
              "      <td>hatchback</td>\n",
              "      <td>95.7</td>\n",
              "      <td>158.7</td>\n",
              "      <td>ohc</td>\n",
              "      <td>four</td>\n",
              "      <td>62</td>\n",
              "      <td>35</td>\n",
              "      <td>5348.0</td>\n",
              "    </tr>\n",
              "    <tr>\n",
              "      <th>67</th>\n",
              "      <td>toyota</td>\n",
              "      <td>hatchback</td>\n",
              "      <td>95.7</td>\n",
              "      <td>158.7</td>\n",
              "      <td>ohc</td>\n",
              "      <td>four</td>\n",
              "      <td>62</td>\n",
              "      <td>31</td>\n",
              "      <td>6338.0</td>\n",
              "    </tr>\n",
              "    <tr>\n",
              "      <th>68</th>\n",
              "      <td>toyota</td>\n",
              "      <td>hatchback</td>\n",
              "      <td>95.7</td>\n",
              "      <td>158.7</td>\n",
              "      <td>ohc</td>\n",
              "      <td>four</td>\n",
              "      <td>62</td>\n",
              "      <td>31</td>\n",
              "      <td>6488.0</td>\n",
              "    </tr>\n",
              "    <tr>\n",
              "      <th>69</th>\n",
              "      <td>toyota</td>\n",
              "      <td>wagon</td>\n",
              "      <td>95.7</td>\n",
              "      <td>169.7</td>\n",
              "      <td>ohc</td>\n",
              "      <td>four</td>\n",
              "      <td>62</td>\n",
              "      <td>31</td>\n",
              "      <td>6918.0</td>\n",
              "    </tr>\n",
              "    <tr>\n",
              "      <th>70</th>\n",
              "      <td>toyota</td>\n",
              "      <td>wagon</td>\n",
              "      <td>95.7</td>\n",
              "      <td>169.7</td>\n",
              "      <td>ohc</td>\n",
              "      <td>four</td>\n",
              "      <td>62</td>\n",
              "      <td>27</td>\n",
              "      <td>7898.0</td>\n",
              "    </tr>\n",
              "    <tr>\n",
              "      <th>71</th>\n",
              "      <td>toyota</td>\n",
              "      <td>wagon</td>\n",
              "      <td>95.7</td>\n",
              "      <td>169.7</td>\n",
              "      <td>ohc</td>\n",
              "      <td>four</td>\n",
              "      <td>62</td>\n",
              "      <td>27</td>\n",
              "      <td>8778.0</td>\n",
              "    </tr>\n",
              "    <tr>\n",
              "      <th>79</th>\n",
              "      <td>toyota</td>\n",
              "      <td>wagon</td>\n",
              "      <td>104.5</td>\n",
              "      <td>187.8</td>\n",
              "      <td>dohc</td>\n",
              "      <td>six</td>\n",
              "      <td>156</td>\n",
              "      <td>19</td>\n",
              "      <td>15750.0</td>\n",
              "    </tr>\n",
              "  </tbody>\n",
              "</table>\n",
              "</div>"
            ],
            "text/plain": [
              "      company body-style  wheel-base  ...  horsepower average-mileage    price\n",
              "index                                 ...                                     \n",
              "66     toyota  hatchback        95.7  ...          62              35   5348.0\n",
              "67     toyota  hatchback        95.7  ...          62              31   6338.0\n",
              "68     toyota  hatchback        95.7  ...          62              31   6488.0\n",
              "69     toyota      wagon        95.7  ...          62              31   6918.0\n",
              "70     toyota      wagon        95.7  ...          62              27   7898.0\n",
              "71     toyota      wagon        95.7  ...          62              27   8778.0\n",
              "79     toyota      wagon       104.5  ...         156              19  15750.0\n",
              "\n",
              "[7 rows x 9 columns]"
            ]
          },
          "metadata": {
            "tags": []
          },
          "execution_count": 45
        }
      ]
    },
    {
      "cell_type": "code",
      "metadata": {
        "id": "aQDjgkmfzAsC",
        "colab_type": "code",
        "colab": {
          "base_uri": "https://localhost:8080/",
          "height": 294
        },
        "outputId": "dc485d0f-fe0d-4ec2-a8f3-e4c6dacd1e32"
      },
      "source": [
        "select_company = \"toyota\"\n",
        "df.query(f\"company == '{select_company}'\")"
      ],
      "execution_count": 50,
      "outputs": [
        {
          "output_type": "execute_result",
          "data": {
            "text/html": [
              "<div>\n",
              "<style scoped>\n",
              "    .dataframe tbody tr th:only-of-type {\n",
              "        vertical-align: middle;\n",
              "    }\n",
              "\n",
              "    .dataframe tbody tr th {\n",
              "        vertical-align: top;\n",
              "    }\n",
              "\n",
              "    .dataframe thead th {\n",
              "        text-align: right;\n",
              "    }\n",
              "</style>\n",
              "<table border=\"1\" class=\"dataframe\">\n",
              "  <thead>\n",
              "    <tr style=\"text-align: right;\">\n",
              "      <th></th>\n",
              "      <th>company</th>\n",
              "      <th>body-style</th>\n",
              "      <th>wheel-base</th>\n",
              "      <th>length</th>\n",
              "      <th>engine-type</th>\n",
              "      <th>num-of-cylinders</th>\n",
              "      <th>horsepower</th>\n",
              "      <th>average-mileage</th>\n",
              "      <th>price</th>\n",
              "    </tr>\n",
              "    <tr>\n",
              "      <th>index</th>\n",
              "      <th></th>\n",
              "      <th></th>\n",
              "      <th></th>\n",
              "      <th></th>\n",
              "      <th></th>\n",
              "      <th></th>\n",
              "      <th></th>\n",
              "      <th></th>\n",
              "      <th></th>\n",
              "    </tr>\n",
              "  </thead>\n",
              "  <tbody>\n",
              "    <tr>\n",
              "      <th>66</th>\n",
              "      <td>toyota</td>\n",
              "      <td>hatchback</td>\n",
              "      <td>95.7</td>\n",
              "      <td>158.7</td>\n",
              "      <td>ohc</td>\n",
              "      <td>four</td>\n",
              "      <td>62</td>\n",
              "      <td>35</td>\n",
              "      <td>5348.0</td>\n",
              "    </tr>\n",
              "    <tr>\n",
              "      <th>67</th>\n",
              "      <td>toyota</td>\n",
              "      <td>hatchback</td>\n",
              "      <td>95.7</td>\n",
              "      <td>158.7</td>\n",
              "      <td>ohc</td>\n",
              "      <td>four</td>\n",
              "      <td>62</td>\n",
              "      <td>31</td>\n",
              "      <td>6338.0</td>\n",
              "    </tr>\n",
              "    <tr>\n",
              "      <th>68</th>\n",
              "      <td>toyota</td>\n",
              "      <td>hatchback</td>\n",
              "      <td>95.7</td>\n",
              "      <td>158.7</td>\n",
              "      <td>ohc</td>\n",
              "      <td>four</td>\n",
              "      <td>62</td>\n",
              "      <td>31</td>\n",
              "      <td>6488.0</td>\n",
              "    </tr>\n",
              "    <tr>\n",
              "      <th>69</th>\n",
              "      <td>toyota</td>\n",
              "      <td>wagon</td>\n",
              "      <td>95.7</td>\n",
              "      <td>169.7</td>\n",
              "      <td>ohc</td>\n",
              "      <td>four</td>\n",
              "      <td>62</td>\n",
              "      <td>31</td>\n",
              "      <td>6918.0</td>\n",
              "    </tr>\n",
              "    <tr>\n",
              "      <th>70</th>\n",
              "      <td>toyota</td>\n",
              "      <td>wagon</td>\n",
              "      <td>95.7</td>\n",
              "      <td>169.7</td>\n",
              "      <td>ohc</td>\n",
              "      <td>four</td>\n",
              "      <td>62</td>\n",
              "      <td>27</td>\n",
              "      <td>7898.0</td>\n",
              "    </tr>\n",
              "    <tr>\n",
              "      <th>71</th>\n",
              "      <td>toyota</td>\n",
              "      <td>wagon</td>\n",
              "      <td>95.7</td>\n",
              "      <td>169.7</td>\n",
              "      <td>ohc</td>\n",
              "      <td>four</td>\n",
              "      <td>62</td>\n",
              "      <td>27</td>\n",
              "      <td>8778.0</td>\n",
              "    </tr>\n",
              "    <tr>\n",
              "      <th>79</th>\n",
              "      <td>toyota</td>\n",
              "      <td>wagon</td>\n",
              "      <td>104.5</td>\n",
              "      <td>187.8</td>\n",
              "      <td>dohc</td>\n",
              "      <td>six</td>\n",
              "      <td>156</td>\n",
              "      <td>19</td>\n",
              "      <td>15750.0</td>\n",
              "    </tr>\n",
              "  </tbody>\n",
              "</table>\n",
              "</div>"
            ],
            "text/plain": [
              "      company body-style  wheel-base  ...  horsepower average-mileage    price\n",
              "index                                 ...                                     \n",
              "66     toyota  hatchback        95.7  ...          62              35   5348.0\n",
              "67     toyota  hatchback        95.7  ...          62              31   6338.0\n",
              "68     toyota  hatchback        95.7  ...          62              31   6488.0\n",
              "69     toyota      wagon        95.7  ...          62              31   6918.0\n",
              "70     toyota      wagon        95.7  ...          62              27   7898.0\n",
              "71     toyota      wagon        95.7  ...          62              27   8778.0\n",
              "79     toyota      wagon       104.5  ...         156              19  15750.0\n",
              "\n",
              "[7 rows x 9 columns]"
            ]
          },
          "metadata": {
            "tags": []
          },
          "execution_count": 50
        }
      ]
    },
    {
      "cell_type": "markdown",
      "metadata": {
        "colab_type": "text",
        "id": "4qMXSMN-5vJk"
      },
      "source": [
        "You can use `<Series>.value_counts()` to count the number of cars per company."
      ]
    },
    {
      "cell_type": "code",
      "metadata": {
        "colab_type": "code",
        "id": "LMO-Ynt85xdX",
        "colab": {
          "base_uri": "https://localhost:8080/",
          "height": 312
        },
        "outputId": "18720196-cc6c-4895-f70a-a366b6603d81"
      },
      "source": [
        "# counts\n",
        "df.company.value_counts()"
      ],
      "execution_count": 52,
      "outputs": [
        {
          "output_type": "execute_result",
          "data": {
            "text/plain": [
              "toyota           7\n",
              "bmw              6\n",
              "mazda            5\n",
              "nissan           5\n",
              "mercedes-benz    4\n",
              "audi             4\n",
              "volkswagen       4\n",
              "mitsubishi       4\n",
              "honda            3\n",
              "alfa-romero      3\n",
              "porsche          3\n",
              "chevrolet        3\n",
              "jaguar           3\n",
              "isuzu            3\n",
              "dodge            2\n",
              "volvo            2\n",
              "Name: company, dtype: int64"
            ]
          },
          "metadata": {
            "tags": []
          },
          "execution_count": 52
        }
      ]
    },
    {
      "cell_type": "code",
      "metadata": {
        "id": "4vTGGOdLz1Mi",
        "colab_type": "code",
        "colab": {
          "base_uri": "https://localhost:8080/",
          "height": 87
        },
        "outputId": "dec954a9-91e9-4849-f349-86c141c77b17"
      },
      "source": [
        "import numpy as np\n",
        "np.unique(df.company.values, return_counts=True, )"
      ],
      "execution_count": 54,
      "outputs": [
        {
          "output_type": "execute_result",
          "data": {
            "text/plain": [
              "(array(['alfa-romero', 'audi', 'bmw', 'chevrolet', 'dodge', 'honda',\n",
              "        'isuzu', 'jaguar', 'mazda', 'mercedes-benz', 'mitsubishi',\n",
              "        'nissan', 'porsche', 'toyota', 'volkswagen', 'volvo'], dtype=object),\n",
              " array([3, 4, 6, 3, 2, 3, 3, 3, 5, 4, 4, 5, 3, 7, 4, 2]))"
            ]
          },
          "metadata": {
            "tags": []
          },
          "execution_count": 54
        }
      ]
    },
    {
      "cell_type": "markdown",
      "metadata": {
        "colab_type": "text",
        "id": "xLgVfIXF5x9R"
      },
      "source": [
        "Find the most expensive car for each company. For this you can use the `groupby` method."
      ]
    },
    {
      "cell_type": "code",
      "metadata": {
        "colab_type": "code",
        "id": "kFa0miuy6E62",
        "colab": {
          "base_uri": "https://localhost:8080/",
          "height": 329
        },
        "outputId": "1c47b518-ffa2-4805-e1ba-42d518e61328"
      },
      "source": [
        "# code\n",
        "df.groupby(\"company\")[\"price\"].max()"
      ],
      "execution_count": 59,
      "outputs": [
        {
          "output_type": "execute_result",
          "data": {
            "text/plain": [
              "company\n",
              "alfa-romero      16500.0\n",
              "audi             18920.0\n",
              "bmw              41315.0\n",
              "chevrolet         6575.0\n",
              "dodge             6377.0\n",
              "honda            12945.0\n",
              "isuzu             6785.0\n",
              "jaguar           36000.0\n",
              "mazda            18344.0\n",
              "mercedes-benz    45400.0\n",
              "mitsubishi        8189.0\n",
              "nissan           13499.0\n",
              "porsche          37028.0\n",
              "toyota           15750.0\n",
              "volkswagen        9995.0\n",
              "volvo            13415.0\n",
              "Name: price, dtype: float64"
            ]
          },
          "metadata": {
            "tags": []
          },
          "execution_count": 59
        }
      ]
    },
    {
      "cell_type": "code",
      "metadata": {
        "id": "5bCsRiXQ0xNY",
        "colab_type": "code",
        "colab": {
          "base_uri": "https://localhost:8080/",
          "height": 171
        },
        "outputId": "38569c02-c9af-43e8-cf1b-890e47d8368c"
      },
      "source": [
        "df.query(\"company == 'alfa-romero'\")"
      ],
      "execution_count": 61,
      "outputs": [
        {
          "output_type": "execute_result",
          "data": {
            "text/html": [
              "<div>\n",
              "<style scoped>\n",
              "    .dataframe tbody tr th:only-of-type {\n",
              "        vertical-align: middle;\n",
              "    }\n",
              "\n",
              "    .dataframe tbody tr th {\n",
              "        vertical-align: top;\n",
              "    }\n",
              "\n",
              "    .dataframe thead th {\n",
              "        text-align: right;\n",
              "    }\n",
              "</style>\n",
              "<table border=\"1\" class=\"dataframe\">\n",
              "  <thead>\n",
              "    <tr style=\"text-align: right;\">\n",
              "      <th></th>\n",
              "      <th>company</th>\n",
              "      <th>body-style</th>\n",
              "      <th>wheel-base</th>\n",
              "      <th>length</th>\n",
              "      <th>engine-type</th>\n",
              "      <th>num-of-cylinders</th>\n",
              "      <th>horsepower</th>\n",
              "      <th>average-mileage</th>\n",
              "      <th>price</th>\n",
              "    </tr>\n",
              "    <tr>\n",
              "      <th>index</th>\n",
              "      <th></th>\n",
              "      <th></th>\n",
              "      <th></th>\n",
              "      <th></th>\n",
              "      <th></th>\n",
              "      <th></th>\n",
              "      <th></th>\n",
              "      <th></th>\n",
              "      <th></th>\n",
              "    </tr>\n",
              "  </thead>\n",
              "  <tbody>\n",
              "    <tr>\n",
              "      <th>0</th>\n",
              "      <td>alfa-romero</td>\n",
              "      <td>convertible</td>\n",
              "      <td>88.6</td>\n",
              "      <td>168.8</td>\n",
              "      <td>dohc</td>\n",
              "      <td>four</td>\n",
              "      <td>111</td>\n",
              "      <td>21</td>\n",
              "      <td>13495.0</td>\n",
              "    </tr>\n",
              "    <tr>\n",
              "      <th>1</th>\n",
              "      <td>alfa-romero</td>\n",
              "      <td>convertible</td>\n",
              "      <td>88.6</td>\n",
              "      <td>168.8</td>\n",
              "      <td>dohc</td>\n",
              "      <td>four</td>\n",
              "      <td>111</td>\n",
              "      <td>21</td>\n",
              "      <td>16500.0</td>\n",
              "    </tr>\n",
              "    <tr>\n",
              "      <th>2</th>\n",
              "      <td>alfa-romero</td>\n",
              "      <td>hatchback</td>\n",
              "      <td>94.5</td>\n",
              "      <td>171.2</td>\n",
              "      <td>ohcv</td>\n",
              "      <td>six</td>\n",
              "      <td>154</td>\n",
              "      <td>19</td>\n",
              "      <td>16500.0</td>\n",
              "    </tr>\n",
              "  </tbody>\n",
              "</table>\n",
              "</div>"
            ],
            "text/plain": [
              "           company   body-style  ...  average-mileage    price\n",
              "index                            ...                          \n",
              "0      alfa-romero  convertible  ...               21  13495.0\n",
              "1      alfa-romero  convertible  ...               21  16500.0\n",
              "2      alfa-romero    hatchback  ...               19  16500.0\n",
              "\n",
              "[3 rows x 9 columns]"
            ]
          },
          "metadata": {
            "tags": []
          },
          "execution_count": 61
        }
      ]
    },
    {
      "cell_type": "code",
      "metadata": {
        "id": "C7Qnr6JD1WLL",
        "colab_type": "code",
        "colab": {
          "base_uri": "https://localhost:8080/",
          "height": 173
        },
        "outputId": "d090127b-ee9b-43f7-a00c-87fb7f1de4b5"
      },
      "source": [
        "df[\"price\"].describe()"
      ],
      "execution_count": 63,
      "outputs": [
        {
          "output_type": "execute_result",
          "data": {
            "text/plain": [
              "count       58.000000\n",
              "mean     15387.000000\n",
              "std      11320.259841\n",
              "min       5151.000000\n",
              "25%       6808.500000\n",
              "50%      11095.000000\n",
              "75%      18120.500000\n",
              "max      45400.000000\n",
              "Name: price, dtype: float64"
            ]
          },
          "metadata": {
            "tags": []
          },
          "execution_count": 63
        }
      ]
    },
    {
      "cell_type": "markdown",
      "metadata": {
        "colab_type": "text",
        "id": "N5Gr0dal6FhW"
      },
      "source": [
        "Groupbys allow for a variety of aggregation functions. Can you compute the average mileage by company?"
      ]
    },
    {
      "cell_type": "code",
      "metadata": {
        "id": "p9JF9oHZ3cff",
        "colab_type": "code",
        "colab": {
          "base_uri": "https://localhost:8080/",
          "height": 329
        },
        "outputId": "e4cfd648-7ff1-4099-eb27-39bd979a2510"
      },
      "source": [
        "# code\n",
        "df.groupby(\"company\")[\"average-mileage\"].mean().sort_values()"
      ],
      "execution_count": 66,
      "outputs": [
        {
          "output_type": "execute_result",
          "data": {
            "text/plain": [
              "company\n",
              "jaguar           14.333333\n",
              "porsche          17.000000\n",
              "mercedes-benz    18.000000\n",
              "bmw              19.000000\n",
              "audi             20.000000\n",
              "alfa-romero      20.333333\n",
              "volvo            23.000000\n",
              "honda            26.333333\n",
              "mazda            28.000000\n",
              "toyota           28.714286\n",
              "mitsubishi       29.500000\n",
              "dodge            31.000000\n",
              "nissan           31.400000\n",
              "volkswagen       31.750000\n",
              "isuzu            33.333333\n",
              "chevrolet        41.000000\n",
              "Name: average-mileage, dtype: float64"
            ]
          },
          "metadata": {
            "tags": []
          },
          "execution_count": 66
        }
      ]
    },
    {
      "cell_type": "markdown",
      "metadata": {
        "colab_type": "text",
        "id": "OXRq11sd6cPY"
      },
      "source": [
        "Sort all cars by decreasing price, using the `sort_values` method."
      ]
    },
    {
      "cell_type": "code",
      "metadata": {
        "colab_type": "code",
        "id": "OdfCxcCE6k-U",
        "colab": {
          "base_uri": "https://localhost:8080/",
          "height": 446
        },
        "outputId": "1818f50b-63d3-4121-8c17-3309133f6177"
      },
      "source": [
        "# code\n",
        "df[[\"price\", \"company\"]].sort_values(by=\"price\", ascending=False)"
      ],
      "execution_count": 74,
      "outputs": [
        {
          "output_type": "execute_result",
          "data": {
            "text/html": [
              "<div>\n",
              "<style scoped>\n",
              "    .dataframe tbody tr th:only-of-type {\n",
              "        vertical-align: middle;\n",
              "    }\n",
              "\n",
              "    .dataframe tbody tr th {\n",
              "        vertical-align: top;\n",
              "    }\n",
              "\n",
              "    .dataframe thead th {\n",
              "        text-align: right;\n",
              "    }\n",
              "</style>\n",
              "<table border=\"1\" class=\"dataframe\">\n",
              "  <thead>\n",
              "    <tr style=\"text-align: right;\">\n",
              "      <th></th>\n",
              "      <th>price</th>\n",
              "      <th>company</th>\n",
              "    </tr>\n",
              "    <tr>\n",
              "      <th>index</th>\n",
              "      <th></th>\n",
              "      <th></th>\n",
              "    </tr>\n",
              "  </thead>\n",
              "  <tbody>\n",
              "    <tr>\n",
              "      <th>47</th>\n",
              "      <td>45400.0</td>\n",
              "      <td>mercedes-benz</td>\n",
              "    </tr>\n",
              "    <tr>\n",
              "      <th>14</th>\n",
              "      <td>41315.0</td>\n",
              "      <td>bmw</td>\n",
              "    </tr>\n",
              "    <tr>\n",
              "      <th>46</th>\n",
              "      <td>40960.0</td>\n",
              "      <td>mercedes-benz</td>\n",
              "    </tr>\n",
              "    <tr>\n",
              "      <th>62</th>\n",
              "      <td>37028.0</td>\n",
              "      <td>porsche</td>\n",
              "    </tr>\n",
              "    <tr>\n",
              "      <th>15</th>\n",
              "      <td>36880.0</td>\n",
              "      <td>bmw</td>\n",
              "    </tr>\n",
              "    <tr>\n",
              "      <th>...</th>\n",
              "      <td>...</td>\n",
              "      <td>...</td>\n",
              "    </tr>\n",
              "    <tr>\n",
              "      <th>36</th>\n",
              "      <td>5195.0</td>\n",
              "      <td>mazda</td>\n",
              "    </tr>\n",
              "    <tr>\n",
              "      <th>16</th>\n",
              "      <td>5151.0</td>\n",
              "      <td>chevrolet</td>\n",
              "    </tr>\n",
              "    <tr>\n",
              "      <th>31</th>\n",
              "      <td>NaN</td>\n",
              "      <td>isuzu</td>\n",
              "    </tr>\n",
              "    <tr>\n",
              "      <th>32</th>\n",
              "      <td>NaN</td>\n",
              "      <td>isuzu</td>\n",
              "    </tr>\n",
              "    <tr>\n",
              "      <th>63</th>\n",
              "      <td>NaN</td>\n",
              "      <td>porsche</td>\n",
              "    </tr>\n",
              "  </tbody>\n",
              "</table>\n",
              "<p>61 rows × 2 columns</p>\n",
              "</div>"
            ],
            "text/plain": [
              "         price        company\n",
              "index                        \n",
              "47     45400.0  mercedes-benz\n",
              "14     41315.0            bmw\n",
              "46     40960.0  mercedes-benz\n",
              "62     37028.0        porsche\n",
              "15     36880.0            bmw\n",
              "...        ...            ...\n",
              "36      5195.0          mazda\n",
              "16      5151.0      chevrolet\n",
              "31         NaN          isuzu\n",
              "32         NaN          isuzu\n",
              "63         NaN        porsche\n",
              "\n",
              "[61 rows x 2 columns]"
            ]
          },
          "metadata": {
            "tags": []
          },
          "execution_count": 74
        }
      ]
    },
    {
      "cell_type": "markdown",
      "metadata": {
        "colab_type": "text",
        "id": "2QiQD19O6kG0"
      },
      "source": [
        "Pandas gives you access to merge and concatenate functions. Create two dataframes from the following dictionaries and merge them to get a single dataframe with 3 columns: Company, Price, horsepower, and 4 lines."
      ]
    },
    {
      "cell_type": "code",
      "metadata": {
        "colab_type": "code",
        "id": "L7A9FiBp7VjV",
        "colab": {}
      },
      "source": [
        "Car_Price = {'Company': ['Toyota', 'Honda', 'BMV', 'Audi', \"Volvo\"], 'Price': [23845, 17995, 135925 , 71400, 45632]}\n",
        "car_Horsepower = {'brand': ['Toyota', 'Honda', 'BMV', 'Audi'], 'horsepower': [141, 80, 182 , 160]}"
      ],
      "execution_count": 0,
      "outputs": []
    },
    {
      "cell_type": "code",
      "metadata": {
        "id": "zFp26L1Y3cf6",
        "colab_type": "code",
        "colab": {
          "base_uri": "https://localhost:8080/",
          "height": 202
        },
        "outputId": "ff80bfd6-c65e-43af-899d-9fdae010a8a8"
      },
      "source": [
        "# code\n",
        "d1 = pd.DataFrame(Car_Price)\n",
        "d2 = pd.DataFrame(car_Horsepower)\n",
        "df12 = pd.merge(d1, d2, left_on=\"Company\", right_on=\"brand\", how=\"outer\", )\n",
        "df12"
      ],
      "execution_count": 88,
      "outputs": [
        {
          "output_type": "execute_result",
          "data": {
            "text/html": [
              "<div>\n",
              "<style scoped>\n",
              "    .dataframe tbody tr th:only-of-type {\n",
              "        vertical-align: middle;\n",
              "    }\n",
              "\n",
              "    .dataframe tbody tr th {\n",
              "        vertical-align: top;\n",
              "    }\n",
              "\n",
              "    .dataframe thead th {\n",
              "        text-align: right;\n",
              "    }\n",
              "</style>\n",
              "<table border=\"1\" class=\"dataframe\">\n",
              "  <thead>\n",
              "    <tr style=\"text-align: right;\">\n",
              "      <th></th>\n",
              "      <th>Company</th>\n",
              "      <th>Price</th>\n",
              "      <th>brand</th>\n",
              "      <th>horsepower</th>\n",
              "    </tr>\n",
              "  </thead>\n",
              "  <tbody>\n",
              "    <tr>\n",
              "      <th>0</th>\n",
              "      <td>Toyota</td>\n",
              "      <td>23845</td>\n",
              "      <td>Toyota</td>\n",
              "      <td>141.0</td>\n",
              "    </tr>\n",
              "    <tr>\n",
              "      <th>1</th>\n",
              "      <td>Honda</td>\n",
              "      <td>17995</td>\n",
              "      <td>Honda</td>\n",
              "      <td>80.0</td>\n",
              "    </tr>\n",
              "    <tr>\n",
              "      <th>2</th>\n",
              "      <td>BMV</td>\n",
              "      <td>135925</td>\n",
              "      <td>BMV</td>\n",
              "      <td>182.0</td>\n",
              "    </tr>\n",
              "    <tr>\n",
              "      <th>3</th>\n",
              "      <td>Audi</td>\n",
              "      <td>71400</td>\n",
              "      <td>Audi</td>\n",
              "      <td>160.0</td>\n",
              "    </tr>\n",
              "    <tr>\n",
              "      <th>4</th>\n",
              "      <td>Volvo</td>\n",
              "      <td>45632</td>\n",
              "      <td>NaN</td>\n",
              "      <td>NaN</td>\n",
              "    </tr>\n",
              "  </tbody>\n",
              "</table>\n",
              "</div>"
            ],
            "text/plain": [
              "  Company   Price   brand  horsepower\n",
              "0  Toyota   23845  Toyota       141.0\n",
              "1   Honda   17995   Honda        80.0\n",
              "2     BMV  135925     BMV       182.0\n",
              "3    Audi   71400    Audi       160.0\n",
              "4   Volvo   45632     NaN         NaN"
            ]
          },
          "metadata": {
            "tags": []
          },
          "execution_count": 88
        }
      ]
    },
    {
      "cell_type": "code",
      "metadata": {
        "id": "ItIkxD7P3luv",
        "colab_type": "code",
        "colab": {
          "base_uri": "https://localhost:8080/",
          "height": 202
        },
        "outputId": "b59f5246-389c-4721-d3a9-d196cacf868b"
      },
      "source": [
        "d1.merge(d2, on=\"Company\", how=\"outer\")"
      ],
      "execution_count": 85,
      "outputs": [
        {
          "output_type": "execute_result",
          "data": {
            "text/html": [
              "<div>\n",
              "<style scoped>\n",
              "    .dataframe tbody tr th:only-of-type {\n",
              "        vertical-align: middle;\n",
              "    }\n",
              "\n",
              "    .dataframe tbody tr th {\n",
              "        vertical-align: top;\n",
              "    }\n",
              "\n",
              "    .dataframe thead th {\n",
              "        text-align: right;\n",
              "    }\n",
              "</style>\n",
              "<table border=\"1\" class=\"dataframe\">\n",
              "  <thead>\n",
              "    <tr style=\"text-align: right;\">\n",
              "      <th></th>\n",
              "      <th>Company</th>\n",
              "      <th>Price</th>\n",
              "      <th>horsepower</th>\n",
              "    </tr>\n",
              "  </thead>\n",
              "  <tbody>\n",
              "    <tr>\n",
              "      <th>0</th>\n",
              "      <td>Toyota</td>\n",
              "      <td>23845</td>\n",
              "      <td>141.0</td>\n",
              "    </tr>\n",
              "    <tr>\n",
              "      <th>1</th>\n",
              "      <td>Honda</td>\n",
              "      <td>17995</td>\n",
              "      <td>80.0</td>\n",
              "    </tr>\n",
              "    <tr>\n",
              "      <th>2</th>\n",
              "      <td>BMV</td>\n",
              "      <td>135925</td>\n",
              "      <td>182.0</td>\n",
              "    </tr>\n",
              "    <tr>\n",
              "      <th>3</th>\n",
              "      <td>Audi</td>\n",
              "      <td>71400</td>\n",
              "      <td>160.0</td>\n",
              "    </tr>\n",
              "    <tr>\n",
              "      <th>4</th>\n",
              "      <td>Volvo</td>\n",
              "      <td>45632</td>\n",
              "      <td>NaN</td>\n",
              "    </tr>\n",
              "  </tbody>\n",
              "</table>\n",
              "</div>"
            ],
            "text/plain": [
              "  Company   Price  horsepower\n",
              "0  Toyota   23845       141.0\n",
              "1   Honda   17995        80.0\n",
              "2     BMV  135925       182.0\n",
              "3    Audi   71400       160.0\n",
              "4   Volvo   45632         NaN"
            ]
          },
          "metadata": {
            "tags": []
          },
          "execution_count": 85
        }
      ]
    },
    {
      "cell_type": "markdown",
      "metadata": {
        "id": "H_bvUruz3cgP",
        "colab_type": "text"
      },
      "source": [
        "- write a program to change the order of a pandas Series. Create a series indexed with 'A', 'B', 'C'... like this:\n",
        "- A 1\n",
        "- B 2\n",
        "- C 3\n",
        "- D 4\n",
        "- E 5\n",
        "\n",
        "and reorder using a new list such as 'B', 'D', 'E'..., using `reindex`."
      ]
    },
    {
      "cell_type": "code",
      "metadata": {
        "id": "D_3VJNg53cgQ",
        "colab_type": "code",
        "colab": {
          "base_uri": "https://localhost:8080/",
          "height": 121
        },
        "outputId": "e308de42-be1a-436e-a26a-bec85c219d9f"
      },
      "source": [
        "# code\n",
        "s = pd.Series(index=list(\"ABCDE\"), data=range(1, 6))\n",
        "s"
      ],
      "execution_count": 91,
      "outputs": [
        {
          "output_type": "execute_result",
          "data": {
            "text/plain": [
              "A    1\n",
              "B    2\n",
              "C    3\n",
              "D    4\n",
              "E    5\n",
              "dtype: int64"
            ]
          },
          "metadata": {
            "tags": []
          },
          "execution_count": 91
        }
      ]
    },
    {
      "cell_type": "code",
      "metadata": {
        "id": "8l4eeGkQ4fHr",
        "colab_type": "code",
        "colab": {
          "base_uri": "https://localhost:8080/",
          "height": 121
        },
        "outputId": "9e02c07f-556d-4102-a08a-40e452eb0125"
      },
      "source": [
        "s.reindex([\"B\", \"D\", \"C\", \"E\", \"A\"])"
      ],
      "execution_count": 92,
      "outputs": [
        {
          "output_type": "execute_result",
          "data": {
            "text/plain": [
              "B    2\n",
              "D    4\n",
              "C    3\n",
              "E    5\n",
              "A    1\n",
              "dtype: int64"
            ]
          },
          "metadata": {
            "tags": []
          },
          "execution_count": 92
        }
      ]
    },
    {
      "cell_type": "markdown",
      "metadata": {
        "colab_type": "text",
        "id": "vxAibBOPUcIt"
      },
      "source": [
        "# NumPy"
      ]
    },
    {
      "cell_type": "markdown",
      "metadata": {
        "colab_type": "text",
        "id": "A44Bef82UhgZ"
      },
      "source": [
        "The numpy library (http://www.numpy.org/) is the go-to library for numerical analysis in Python;"
      ]
    },
    {
      "cell_type": "code",
      "metadata": {
        "colab_type": "code",
        "id": "jEJEPQcFGEw8",
        "colab": {}
      },
      "source": [
        "import numpy as np"
      ],
      "execution_count": 0,
      "outputs": []
    },
    {
      "cell_type": "code",
      "metadata": {
        "id": "18cLa1hP3cge",
        "colab_type": "code",
        "outputId": "5c190df3-ea5d-4f6b-ab5e-2ea9fa74910b",
        "colab": {
          "base_uri": "https://localhost:8080/",
          "height": 35
        }
      },
      "source": [
        "np.pi"
      ],
      "execution_count": 94,
      "outputs": [
        {
          "output_type": "execute_result",
          "data": {
            "text/plain": [
              "3.141592653589793"
            ]
          },
          "metadata": {
            "tags": []
          },
          "execution_count": 94
        }
      ]
    },
    {
      "cell_type": "markdown",
      "metadata": {
        "id": "LOHQLCxD3cgk",
        "colab_type": "text"
      },
      "source": [
        "## Arrays with numpy.array()"
      ]
    },
    {
      "cell_type": "markdown",
      "metadata": {
        "id": "jijaJxfy3cgk",
        "colab_type": "text"
      },
      "source": [
        "### Creation\n",
        "You can create an array from a list (1-d vector), or a list of lists of the same lengths (2-d matrix).\n",
        "You can also create empty arrays, arrays of zeros and ones, or random arrays of any given size and value type (int, float...). "
      ]
    },
    {
      "cell_type": "code",
      "metadata": {
        "id": "CgVAGrKu3cgm",
        "colab_type": "code",
        "colab": {}
      },
      "source": [
        "a = np.array([[1, 2, 3], [4, 5, 6]])"
      ],
      "execution_count": 0,
      "outputs": []
    },
    {
      "cell_type": "code",
      "metadata": {
        "id": "V7QyINXm3cgr",
        "colab_type": "code",
        "outputId": "960152a4-78b2-40be-ecd9-326e7907e8e2",
        "colab": {
          "base_uri": "https://localhost:8080/",
          "height": 52
        }
      },
      "source": [
        "a"
      ],
      "execution_count": 96,
      "outputs": [
        {
          "output_type": "execute_result",
          "data": {
            "text/plain": [
              "array([[1, 2, 3],\n",
              "       [4, 5, 6]])"
            ]
          },
          "metadata": {
            "tags": []
          },
          "execution_count": 96
        }
      ]
    },
    {
      "cell_type": "code",
      "metadata": {
        "id": "W9DCAjY_3cgx",
        "colab_type": "code",
        "outputId": "032911b7-2b10-4e80-f714-e983d262a490",
        "colab": {
          "base_uri": "https://localhost:8080/",
          "height": 35
        }
      },
      "source": [
        "type(a), a.dtype\n"
      ],
      "execution_count": 97,
      "outputs": [
        {
          "output_type": "execute_result",
          "data": {
            "text/plain": [
              "(numpy.ndarray, dtype('int64'))"
            ]
          },
          "metadata": {
            "tags": []
          },
          "execution_count": 97
        }
      ]
    },
    {
      "cell_type": "code",
      "metadata": {
        "id": "Bl8LITFB5Lsi",
        "colab_type": "code",
        "colab": {}
      },
      "source": [
        "a[0, 1] = 1.2"
      ],
      "execution_count": 0,
      "outputs": []
    },
    {
      "cell_type": "code",
      "metadata": {
        "id": "MJEaX6JZ5Owc",
        "colab_type": "code",
        "colab": {}
      },
      "source": [
        "b = a.astype(np.float)\n",
        "b[0, 1] = 1.2"
      ],
      "execution_count": 0,
      "outputs": []
    },
    {
      "cell_type": "code",
      "metadata": {
        "id": "s4v3JD6c5Yi_",
        "colab_type": "code",
        "colab": {
          "base_uri": "https://localhost:8080/",
          "height": 69
        },
        "outputId": "807c76be-e515-480f-e945-6ff20f93293e"
      },
      "source": [
        "a, b"
      ],
      "execution_count": 105,
      "outputs": [
        {
          "output_type": "execute_result",
          "data": {
            "text/plain": [
              "(array([[1, 1, 3],\n",
              "        [4, 5, 6]]), array([[1. , 1.2, 3. ],\n",
              "        [4. , 5. , 6. ]]))"
            ]
          },
          "metadata": {
            "tags": []
          },
          "execution_count": 105
        }
      ]
    },
    {
      "cell_type": "markdown",
      "metadata": {
        "id": "E1MUOxmK3cg0",
        "colab_type": "text"
      },
      "source": [
        "\n",
        "### Accessing elements"
      ]
    },
    {
      "cell_type": "code",
      "metadata": {
        "id": "NIwIl8bO3cg1",
        "colab_type": "code",
        "outputId": "c6395e43-1bc4-498b-ccdc-1d52d47795fd",
        "colab": {
          "base_uri": "https://localhost:8080/",
          "height": 35
        }
      },
      "source": [
        "a[0,1]"
      ],
      "execution_count": 106,
      "outputs": [
        {
          "output_type": "execute_result",
          "data": {
            "text/plain": [
              "1"
            ]
          },
          "metadata": {
            "tags": []
          },
          "execution_count": 106
        }
      ]
    },
    {
      "cell_type": "code",
      "metadata": {
        "id": "rzJTUkt13cg4",
        "colab_type": "code",
        "colab": {
          "base_uri": "https://localhost:8080/",
          "height": 35
        },
        "outputId": "0145eef0-7d04-464b-cb16-b9e306b07e33"
      },
      "source": [
        "a[1,2]"
      ],
      "execution_count": 107,
      "outputs": [
        {
          "output_type": "execute_result",
          "data": {
            "text/plain": [
              "6"
            ]
          },
          "metadata": {
            "tags": []
          },
          "execution_count": 107
        }
      ]
    },
    {
      "cell_type": "markdown",
      "metadata": {
        "id": "7vZZWvT83cg9",
        "colab_type": "text"
      },
      "source": [
        "### numpy.arange()\n",
        "\n",
        "`numpy.arange` gives you a range from a to b (excluded), increasing with the given step (defaulting to 1)."
      ]
    },
    {
      "cell_type": "code",
      "metadata": {
        "id": "FSmzCa2G3cg_",
        "colab_type": "code",
        "outputId": "4ee5740b-ba37-4b88-df5d-b6455c97fa44",
        "colab": {
          "base_uri": "https://localhost:8080/",
          "height": 35
        }
      },
      "source": [
        "m = np.arange(3, 15, 2)\n",
        "m"
      ],
      "execution_count": 108,
      "outputs": [
        {
          "output_type": "execute_result",
          "data": {
            "text/plain": [
              "array([ 3,  5,  7,  9, 11, 13])"
            ]
          },
          "metadata": {
            "tags": []
          },
          "execution_count": 108
        }
      ]
    },
    {
      "cell_type": "markdown",
      "metadata": {
        "id": "biWgV4JE3chC",
        "colab_type": "text"
      },
      "source": [
        "Note the difference between `numpy.arange()` and native Python `range()`:\n",
        "\n",
        "- `numpy.arange()` returns a numpy.ndarray.\n",
        "- `range()` returns an object of type `range`, which is a special kind of iterator."
      ]
    },
    {
      "cell_type": "code",
      "metadata": {
        "id": "lQ0fauKJxfG_",
        "colab_type": "code",
        "outputId": "9bfe30e7-4dbe-4401-9a8f-ee90dab6f42a",
        "colab": {
          "base_uri": "https://localhost:8080/",
          "height": 35
        }
      },
      "source": [
        "type(m), m.dtype"
      ],
      "execution_count": 109,
      "outputs": [
        {
          "output_type": "execute_result",
          "data": {
            "text/plain": [
              "(numpy.ndarray, dtype('int64'))"
            ]
          },
          "metadata": {
            "tags": []
          },
          "execution_count": 109
        }
      ]
    },
    {
      "cell_type": "code",
      "metadata": {
        "id": "11YCBoux3chD",
        "colab_type": "code",
        "outputId": "c8899770-9da0-4e21-f9aa-bdd4eee7ab33",
        "colab": {
          "base_uri": "https://localhost:8080/",
          "height": 35
        }
      },
      "source": [
        "n = range(3, 15, 2)\n",
        "type(n)"
      ],
      "execution_count": 0,
      "outputs": [
        {
          "output_type": "execute_result",
          "data": {
            "text/plain": [
              "range"
            ]
          },
          "metadata": {
            "tags": []
          },
          "execution_count": 32
        }
      ]
    },
    {
      "cell_type": "markdown",
      "metadata": {
        "id": "Ge-5oCE1hCgb",
        "colab_type": "text"
      },
      "source": [
        "*A side-note on iterators*\n",
        "\n",
        "Iterators are useful when you don't want to keep all the iterated value in memory. It allows you to \"consume\" a list of items in a loop. If you create an iterator and consume it to the end, it will not \"restart\" again in a new loop. `range` is special in that you can reuse it. Compare `x = range(10)` and `x=iter(range(10))` in the code below."
      ]
    },
    {
      "cell_type": "code",
      "metadata": {
        "id": "hg_af0tihBHL",
        "colab_type": "code",
        "colab": {
          "base_uri": "https://localhost:8080/",
          "height": 364
        },
        "outputId": "7e0d3a10-39da-40d7-f801-52789c0da315"
      },
      "source": [
        "x = range(10)\n",
        "for i in x:\n",
        "  print(\"i =\", i)\n",
        "\n",
        "for j in x:\n",
        "  print(\"j =\", j)"
      ],
      "execution_count": 209,
      "outputs": [
        {
          "output_type": "stream",
          "text": [
            "i= 0\n",
            "i= 1\n",
            "i= 2\n",
            "i= 3\n",
            "i= 4\n",
            "i= 5\n",
            "i= 6\n",
            "i= 7\n",
            "i= 8\n",
            "i= 9\n",
            "j= 0\n",
            "j= 1\n",
            "j= 2\n",
            "j= 3\n",
            "j= 4\n",
            "j= 5\n",
            "j= 6\n",
            "j= 7\n",
            "j= 8\n",
            "j= 9\n"
          ],
          "name": "stdout"
        }
      ]
    },
    {
      "cell_type": "code",
      "metadata": {
        "id": "wR5DhbJX55DQ",
        "colab_type": "code",
        "colab": {
          "base_uri": "https://localhost:8080/",
          "height": 191
        },
        "outputId": "2663bbbd-0b8e-4c2b-f93d-0fa0349aa34c"
      },
      "source": [
        "x = iter(range(10))\n",
        "for i in x:\n",
        "  print(\"i =\", i)\n",
        "\n",
        "for j in x:\n",
        "  print(\"j =\", j)"
      ],
      "execution_count": 210,
      "outputs": [
        {
          "output_type": "stream",
          "text": [
            "i= 0\n",
            "i= 1\n",
            "i= 2\n",
            "i= 3\n",
            "i= 4\n",
            "i= 5\n",
            "i= 6\n",
            "i= 7\n",
            "i= 8\n",
            "i= 9\n"
          ],
          "name": "stdout"
        }
      ]
    },
    {
      "cell_type": "markdown",
      "metadata": {
        "id": "qdtk6anJ3chH",
        "colab_type": "text"
      },
      "source": [
        "`numpy.arange()` accepts non-integer inputs."
      ]
    },
    {
      "cell_type": "code",
      "metadata": {
        "id": "CHL-Un4i3chI",
        "colab_type": "code",
        "outputId": "96d932e6-40ff-4803-eef2-6329a551921d",
        "colab": {
          "base_uri": "https://localhost:8080/",
          "height": 69
        }
      },
      "source": [
        "np.arange(0, 11*np.pi, np.pi)"
      ],
      "execution_count": 114,
      "outputs": [
        {
          "output_type": "execute_result",
          "data": {
            "text/plain": [
              "array([ 0.        ,  3.14159265,  6.28318531,  9.42477796, 12.56637061,\n",
              "       15.70796327, 18.84955592, 21.99114858, 25.13274123, 28.27433388,\n",
              "       31.41592654])"
            ]
          },
          "metadata": {
            "tags": []
          },
          "execution_count": 114
        }
      ]
    },
    {
      "cell_type": "code",
      "metadata": {
        "id": "DJTHNowA7eUA",
        "colab_type": "code",
        "colab": {
          "base_uri": "https://localhost:8080/",
          "height": 35
        },
        "outputId": "07fb8a60-d336-4407-f99b-84e31cb26034"
      },
      "source": [
        "np.arange(3, 9, 0.6)"
      ],
      "execution_count": 121,
      "outputs": [
        {
          "output_type": "execute_result",
          "data": {
            "text/plain": [
              "array([3. , 3.6, 4.2, 4.8, 5.4, 6. , 6.6, 7.2, 7.8, 8.4])"
            ]
          },
          "metadata": {
            "tags": []
          },
          "execution_count": 121
        }
      ]
    },
    {
      "cell_type": "code",
      "metadata": {
        "id": "52cW_SN57KCS",
        "colab_type": "code",
        "colab": {
          "base_uri": "https://localhost:8080/",
          "height": 35
        },
        "outputId": "7366bbca-a035-4ffc-b2f7-b8b7fe42ebce"
      },
      "source": [
        "11*np.pi"
      ],
      "execution_count": 115,
      "outputs": [
        {
          "output_type": "execute_result",
          "data": {
            "text/plain": [
              "34.55751918948772"
            ]
          },
          "metadata": {
            "tags": []
          },
          "execution_count": 115
        }
      ]
    },
    {
      "cell_type": "markdown",
      "metadata": {
        "id": "mTmvydh43chL",
        "colab_type": "text"
      },
      "source": [
        "### numpy.linspace()\n",
        "`numpy.linspace()` has a differnt API: it takes a range [a, b] (b included) and a number of values rather than a step."
      ]
    },
    {
      "cell_type": "code",
      "metadata": {
        "id": "Tw4S7jqb3chN",
        "colab_type": "code",
        "outputId": "4a9bebaa-e230-499d-8b32-1f7ce540bc7e",
        "colab": {
          "base_uri": "https://localhost:8080/",
          "height": 35
        }
      },
      "source": [
        "np.linspace(3, 9, 11)"
      ],
      "execution_count": 120,
      "outputs": [
        {
          "output_type": "execute_result",
          "data": {
            "text/plain": [
              "array([3. , 3.6, 4.2, 4.8, 5.4, 6. , 6.6, 7.2, 7.8, 8.4, 9. ])"
            ]
          },
          "metadata": {
            "tags": []
          },
          "execution_count": 120
        }
      ]
    },
    {
      "cell_type": "markdown",
      "metadata": {
        "id": "y_FSH-l-3chR",
        "colab_type": "text"
      },
      "source": [
        "## Applying mathematical functions\n",
        "\n",
        "`numpy`gives you a number of mathematical functions, which can be applied to numpy arrays, ie to each element individually: `sin`, `cos`, `log` `exp`...\n"
      ]
    },
    {
      "cell_type": "code",
      "metadata": {
        "id": "zcBDAhxM3chR",
        "colab_type": "code",
        "outputId": "414d2dad-893c-4114-8a70-42180456a3c1",
        "colab": {
          "base_uri": "https://localhost:8080/",
          "height": 52
        }
      },
      "source": [
        "x = np.linspace(-np.pi/2, np.pi/2, 10)\n",
        "y = np.sin(x)\n",
        "y"
      ],
      "execution_count": 123,
      "outputs": [
        {
          "output_type": "execute_result",
          "data": {
            "text/plain": [
              "array([-1.        , -0.93969262, -0.76604444, -0.5       , -0.17364818,\n",
              "        0.17364818,  0.5       ,  0.76604444,  0.93969262,  1.        ])"
            ]
          },
          "metadata": {
            "tags": []
          },
          "execution_count": 123
        }
      ]
    },
    {
      "cell_type": "markdown",
      "metadata": {
        "id": "_fnxZ8Nj3chU",
        "colab_type": "text"
      },
      "source": [
        "# Exercise"
      ]
    },
    {
      "cell_type": "markdown",
      "metadata": {
        "id": "eTm3CbPp3chU",
        "colab_type": "text"
      },
      "source": [
        "Create a 4x2 integer array (of type unsigned int16) and print the following attributes:\n",
        "- the shape `shape`,\n",
        "- the number of dimensions `ndim`,\n",
        "- the size in bytes of each element `itemsize`.\n",
        "\n",
        "Compare also with `nbytes` and `size`."
      ]
    },
    {
      "cell_type": "code",
      "metadata": {
        "id": "NHjAShZj3chY",
        "colab_type": "code",
        "outputId": "d32af8d8-c915-4913-e4da-09d232d0879d",
        "colab": {
          "base_uri": "https://localhost:8080/",
          "height": 69
        }
      },
      "source": [
        "# code\n",
        "a = np.ones((4, 2), dtype=np.uint16)\n",
        "print(\"shape\", a.shape)\n",
        "print(\"dimensions\", a.ndim)\n",
        "print(\"element size\", a.itemsize)"
      ],
      "execution_count": 126,
      "outputs": [
        {
          "output_type": "stream",
          "text": [
            "shape (4, 2)\n",
            "dimensions 2\n",
            "element size 2\n"
          ],
          "name": "stdout"
        }
      ]
    },
    {
      "cell_type": "markdown",
      "metadata": {
        "id": "bGYYLPYxh-1n",
        "colab_type": "text"
      },
      "source": [
        "*side-note: vectors and row/column matrix in `numpy`*\n",
        "\n",
        "Numpy treats differently arrays of shape (n,), (1, n) and (n, 1).\n",
        "Try "
      ]
    },
    {
      "cell_type": "code",
      "metadata": {
        "id": "yyO-KsEu80jm",
        "colab_type": "code",
        "colab": {
          "base_uri": "https://localhost:8080/",
          "height": 35
        },
        "outputId": "e6878072-a554-4935-dd1e-a362e349b38d"
      },
      "source": [
        "a = np.ones(12)\n",
        "b = np.ones((1, 12))\n",
        "a.shape, b.shape"
      ],
      "execution_count": 211,
      "outputs": [
        {
          "output_type": "execute_result",
          "data": {
            "text/plain": [
              "((12,), (1, 12))"
            ]
          },
          "metadata": {
            "tags": []
          },
          "execution_count": 211
        }
      ]
    },
    {
      "cell_type": "code",
      "metadata": {
        "id": "xfroY9yriWXD",
        "colab_type": "code",
        "colab": {
          "base_uri": "https://localhost:8080/",
          "height": 35
        },
        "outputId": "ee984827-fe14-4e07-aaa1-98d349709a76"
      },
      "source": [
        "a * b # broadcasts and multiply by element, fine"
      ],
      "execution_count": 212,
      "outputs": [
        {
          "output_type": "execute_result",
          "data": {
            "text/plain": [
              "array([[1., 1., 1., 1., 1., 1., 1., 1., 1., 1., 1., 1.]])"
            ]
          },
          "metadata": {
            "tags": []
          },
          "execution_count": 212
        }
      ]
    },
    {
      "cell_type": "code",
      "metadata": {
        "id": "vENtlYdJic3n",
        "colab_type": "code",
        "colab": {
          "base_uri": "https://localhost:8080/",
          "height": 166
        },
        "outputId": "16041bee-d81f-45ea-ad60-7c72a95331e1"
      },
      "source": [
        "a @ b # matrix multiplication, cannot infer the type of multiplication: outer-product (1, d)x(1, n) or scalar product (n, 1) x (1, n)?"
      ],
      "execution_count": 213,
      "outputs": [
        {
          "output_type": "error",
          "ename": "ValueError",
          "evalue": "ignored",
          "traceback": [
            "\u001b[0;31m---------------------------------------------------------------------------\u001b[0m",
            "\u001b[0;31mValueError\u001b[0m                                Traceback (most recent call last)",
            "\u001b[0;32m<ipython-input-213-488d4632c76f>\u001b[0m in \u001b[0;36m<module>\u001b[0;34m()\u001b[0m\n\u001b[0;32m----> 1\u001b[0;31m \u001b[0ma\u001b[0m \u001b[0;34m@\u001b[0m \u001b[0mb\u001b[0m \u001b[0;31m# matrix multiplication, cannot infer the type of multiplication: outer-product (1, d)x(1, n) or scalar product (n, 1) x (1, n)?\u001b[0m\u001b[0;34m\u001b[0m\u001b[0;34m\u001b[0m\u001b[0m\n\u001b[0m",
            "\u001b[0;31mValueError\u001b[0m: matmul: Input operand 1 has a mismatch in its core dimension 0, with gufunc signature (n?,k),(k,m?)->(n?,m?) (size 1 is different from 12)"
          ]
        }
      ]
    },
    {
      "cell_type": "code",
      "metadata": {
        "id": "6_hdy_L5890X",
        "colab_type": "code",
        "colab": {
          "base_uri": "https://localhost:8080/",
          "height": 35
        },
        "outputId": "d150c29f-a122-4201-b61a-dab92ef6aeb7"
      },
      "source": [
        "# 2 ways of doing the outer product.\n",
        "v1 = a[:, np.newaxis] @ b\n",
        "v2 = a.reshape((a.shape[0], 1)) @ b\n",
        "np.all(v1 == v2)"
      ],
      "execution_count": 217,
      "outputs": [
        {
          "output_type": "execute_result",
          "data": {
            "text/plain": [
              "True"
            ]
          },
          "metadata": {
            "tags": []
          },
          "execution_count": 217
        }
      ]
    },
    {
      "cell_type": "code",
      "metadata": {
        "id": "mFWQnwVkjMKv",
        "colab_type": "code",
        "colab": {
          "base_uri": "https://localhost:8080/",
          "height": 35
        },
        "outputId": "19919a14-f5ca-4a99-e90b-3e89dbda9146"
      },
      "source": [
        "# 2 ways of doing the scalar product\n",
        "v1 = a @ b.flatten()\n",
        "v2 = a @ b.reshape((b.shape[1],))\n",
        "v1, v2"
      ],
      "execution_count": 219,
      "outputs": [
        {
          "output_type": "execute_result",
          "data": {
            "text/plain": [
              "(12.0, 12.0)"
            ]
          },
          "metadata": {
            "tags": []
          },
          "execution_count": 219
        }
      ]
    },
    {
      "cell_type": "markdown",
      "metadata": {
        "id": "aMRcSlgd3chc",
        "colab_type": "text"
      },
      "source": [
        "- Create an array of size 5x2, with values ranging from 100 to 200, such that the different between two consecutive elements is 10. You can use `arange` and `reshape`."
      ]
    },
    {
      "cell_type": "code",
      "metadata": {
        "id": "om_DrX4Z3chc",
        "colab_type": "code",
        "outputId": "6493238d-c84a-4764-a7e9-71d6bfb60b73",
        "colab": {
          "base_uri": "https://localhost:8080/",
          "height": 104
        }
      },
      "source": [
        "#### code\n",
        "a = np.arange(100, 200, 10).reshape((5, 2))\n",
        "a"
      ],
      "execution_count": 137,
      "outputs": [
        {
          "output_type": "execute_result",
          "data": {
            "text/plain": [
              "array([[100, 110],\n",
              "       [120, 130],\n",
              "       [140, 150],\n",
              "       [160, 170],\n",
              "       [180, 190]])"
            ]
          },
          "metadata": {
            "tags": []
          },
          "execution_count": 137
        }
      ]
    },
    {
      "cell_type": "markdown",
      "metadata": {
        "id": "FzwNdWyL3chf",
        "colab_type": "text"
      },
      "source": [
        "Given the following array, can you print the third column only?\n"
      ]
    },
    {
      "cell_type": "code",
      "metadata": {
        "id": "LTMjqkJ43chg",
        "colab_type": "code",
        "colab": {}
      },
      "source": [
        "import numpy\n",
        "sampleArray = numpy.array([[11 ,22, 33], [44, 55, 66], [77, 88, 99]])"
      ],
      "execution_count": 0,
      "outputs": []
    },
    {
      "cell_type": "code",
      "metadata": {
        "id": "PTlIO9AN3chj",
        "colab_type": "code",
        "outputId": "5874c11d-4abc-4ea9-adc3-8d7d892e4e68",
        "colab": {
          "base_uri": "https://localhost:8080/",
          "height": 35
        }
      },
      "source": [
        "# code\n",
        "sampleArray[:, 2]"
      ],
      "execution_count": 139,
      "outputs": [
        {
          "output_type": "execute_result",
          "data": {
            "text/plain": [
              "array([33, 66, 99])"
            ]
          },
          "metadata": {
            "tags": []
          },
          "execution_count": 139
        }
      ]
    },
    {
      "cell_type": "markdown",
      "metadata": {
        "id": "hEungCKw3cht",
        "colab_type": "text"
      },
      "source": [
        "Given the following array, can you return only odd rows and even columns? (considering the mathematical numbering with row 1 at index 0). \n"
      ]
    },
    {
      "cell_type": "code",
      "metadata": {
        "id": "T1EaD3yJ3chv",
        "colab_type": "code",
        "colab": {
          "base_uri": "https://localhost:8080/",
          "height": 104
        },
        "outputId": "d8367980-af2b-4123-b891-fe8319c7d313"
      },
      "source": [
        "import numpy\n",
        "sampleArray = numpy.array([[3 ,6, 9, 12], [15 ,18, 21, 24], \n",
        "[27 ,30, 33, 36], [39 ,42, 45, 48], [51 ,54, 57, 60]])\n",
        "sampleArray"
      ],
      "execution_count": 145,
      "outputs": [
        {
          "output_type": "execute_result",
          "data": {
            "text/plain": [
              "array([[ 3,  6,  9, 12],\n",
              "       [15, 18, 21, 24],\n",
              "       [27, 30, 33, 36],\n",
              "       [39, 42, 45, 48],\n",
              "       [51, 54, 57, 60]])"
            ]
          },
          "metadata": {
            "tags": []
          },
          "execution_count": 145
        }
      ]
    },
    {
      "cell_type": "code",
      "metadata": {
        "id": "7q_uusxp3ch1",
        "colab_type": "code",
        "outputId": "334556db-31a8-4bb6-f46c-2ae3e7eb287c",
        "colab": {
          "base_uri": "https://localhost:8080/",
          "height": 69
        }
      },
      "source": [
        "# code\n",
        "sampleArray[0::2, 1::2]"
      ],
      "execution_count": 146,
      "outputs": [
        {
          "output_type": "execute_result",
          "data": {
            "text/plain": [
              "array([[ 6, 12],\n",
              "       [30, 36],\n",
              "       [54, 60]])"
            ]
          },
          "metadata": {
            "tags": []
          },
          "execution_count": 146
        }
      ]
    },
    {
      "cell_type": "markdown",
      "metadata": {
        "id": "OMIkoroA3ch6",
        "colab_type": "text"
      },
      "source": [
        "Let A, B be two array of the same size, compute C such that $c_i = \\sqrt{a_i + b_i}$."
      ]
    },
    {
      "cell_type": "code",
      "metadata": {
        "id": "Go16IUW83ch7",
        "colab_type": "code",
        "colab": {}
      },
      "source": [
        "import numpy\n",
        "arrayOne = numpy.array([[5, 6, 9], [21 ,18, 27]])\n",
        "arrayTwo = numpy.array([[15 ,33, 24], [4 ,7, 1]])"
      ],
      "execution_count": 0,
      "outputs": []
    },
    {
      "cell_type": "code",
      "metadata": {
        "id": "Fl67BK6n3ch_",
        "colab_type": "code",
        "outputId": "b49b4749-225d-4f40-fcf6-ba92fafb3c47",
        "colab": {
          "base_uri": "https://localhost:8080/",
          "height": 121
        }
      },
      "source": [
        "#### code\n",
        "c = arrayOne + arrayTwo\n",
        "print(\"A+B=\\n\", c)\n",
        "print(\"C=\\n\", np.sqrt(c))\n",
        "# note that the operations are broadcasted: the operations happen as if iterating over each element of the arrays.\n"
      ],
      "execution_count": 221,
      "outputs": [
        {
          "output_type": "stream",
          "text": [
            "A+B=\n",
            " [[20 39 33]\n",
            " [25 25 28]]\n",
            "C=\n",
            " [[4.47213595 6.244998   5.74456265]\n",
            " [5.         5.         5.29150262]]\n"
          ],
          "name": "stdout"
        }
      ]
    },
    {
      "cell_type": "code",
      "metadata": {
        "id": "oUEiL6eHkEHu",
        "colab_type": "code",
        "colab": {
          "base_uri": "https://localhost:8080/",
          "height": 52
        },
        "outputId": "76a04f32-5f93-4926-eaed-edb21a69d113"
      },
      "source": [
        "# to go further: check the difference between multiply and matrix multiplication\n",
        "arrayOne * arrayTwo"
      ],
      "execution_count": 222,
      "outputs": [
        {
          "output_type": "execute_result",
          "data": {
            "text/plain": [
              "array([[ 75, 198, 216],\n",
              "       [ 84, 126,  27]])"
            ]
          },
          "metadata": {
            "tags": []
          },
          "execution_count": 222
        }
      ]
    },
    {
      "cell_type": "code",
      "metadata": {
        "id": "-NxFvGlnkJaC",
        "colab_type": "code",
        "colab": {
          "base_uri": "https://localhost:8080/",
          "height": 52
        },
        "outputId": "d00dad0c-1d54-4ef2-d8f3-08dd97c224ba"
      },
      "source": [
        "np.multiply(arrayOne, arrayTwo)"
      ],
      "execution_count": 223,
      "outputs": [
        {
          "output_type": "execute_result",
          "data": {
            "text/plain": [
              "array([[ 75, 198, 216],\n",
              "       [ 84, 126,  27]])"
            ]
          },
          "metadata": {
            "tags": []
          },
          "execution_count": 223
        }
      ]
    },
    {
      "cell_type": "code",
      "metadata": {
        "id": "VOAXs0AckMR0",
        "colab_type": "code",
        "colab": {
          "base_uri": "https://localhost:8080/",
          "height": 69
        },
        "outputId": "c6a51e92-ca97-4714-9631-a94e3f413a72"
      },
      "source": [
        "arrayOne.T @ arrayTwo"
      ],
      "execution_count": 225,
      "outputs": [
        {
          "output_type": "execute_result",
          "data": {
            "text/plain": [
              "array([[159, 312, 141],\n",
              "       [162, 324, 162],\n",
              "       [243, 486, 243]])"
            ]
          },
          "metadata": {
            "tags": []
          },
          "execution_count": 225
        }
      ]
    },
    {
      "cell_type": "code",
      "metadata": {
        "id": "N5hdmVITkRK1",
        "colab_type": "code",
        "colab": {
          "base_uri": "https://localhost:8080/",
          "height": 69
        },
        "outputId": "fc5bc309-2326-4463-ec2c-0d8acaf5055e"
      },
      "source": [
        "np.dot(arrayOne.T, arrayTwo)"
      ],
      "execution_count": 226,
      "outputs": [
        {
          "output_type": "execute_result",
          "data": {
            "text/plain": [
              "array([[159, 312, 141],\n",
              "       [162, 324, 162],\n",
              "       [243, 486, 243]])"
            ]
          },
          "metadata": {
            "tags": []
          },
          "execution_count": 226
        }
      ]
    },
    {
      "cell_type": "code",
      "metadata": {
        "id": "2bor8iUDkUBG",
        "colab_type": "code",
        "colab": {
          "base_uri": "https://localhost:8080/",
          "height": 69
        },
        "outputId": "e8fd5ec2-d250-4ea1-b5a8-f0ca90d80a4b"
      },
      "source": [
        "arrayOne.T.dot(arrayTwo)"
      ],
      "execution_count": 229,
      "outputs": [
        {
          "output_type": "execute_result",
          "data": {
            "text/plain": [
              "array([[159, 312, 141],\n",
              "       [162, 324, 162],\n",
              "       [243, 486, 243]])"
            ]
          },
          "metadata": {
            "tags": []
          },
          "execution_count": 229
        }
      ]
    },
    {
      "cell_type": "markdown",
      "metadata": {
        "id": "CaAbFwRO3ciF",
        "colab_type": "text"
      },
      "source": [
        "Create a new integer array of size 8x3, with values ranging from 10 to 34 with step size=1. Split the array into 4 subarrays (using `split`).\n"
      ]
    },
    {
      "cell_type": "code",
      "metadata": {
        "id": "uW6BKaQF3ciG",
        "colab_type": "code",
        "outputId": "fe993341-f3c4-4a98-e486-436406891c57",
        "colab": {
          "base_uri": "https://localhost:8080/",
          "height": 156
        }
      },
      "source": [
        "# code\n",
        "a = np.arange(10, 34).reshape(8, 3)\n",
        "a"
      ],
      "execution_count": 156,
      "outputs": [
        {
          "output_type": "execute_result",
          "data": {
            "text/plain": [
              "array([[10, 11, 12],\n",
              "       [13, 14, 15],\n",
              "       [16, 17, 18],\n",
              "       [19, 20, 21],\n",
              "       [22, 23, 24],\n",
              "       [25, 26, 27],\n",
              "       [28, 29, 30],\n",
              "       [31, 32, 33]])"
            ]
          },
          "metadata": {
            "tags": []
          },
          "execution_count": 156
        }
      ]
    },
    {
      "cell_type": "code",
      "metadata": {
        "id": "iBR0EX5VH0JA",
        "colab_type": "code",
        "colab": {
          "base_uri": "https://localhost:8080/",
          "height": 104
        },
        "outputId": "d5017f28-db45-4119-bbba-9e63e5dc1257"
      },
      "source": [
        "np.split(a, 4)"
      ],
      "execution_count": 158,
      "outputs": [
        {
          "output_type": "execute_result",
          "data": {
            "text/plain": [
              "[array([[10, 11, 12],\n",
              "        [13, 14, 15]]), array([[16, 17, 18],\n",
              "        [19, 20, 21]]), array([[22, 23, 24],\n",
              "        [25, 26, 27]]), array([[28, 29, 30],\n",
              "        [31, 32, 33]])]"
            ]
          },
          "metadata": {
            "tags": []
          },
          "execution_count": 158
        }
      ]
    },
    {
      "cell_type": "markdown",
      "metadata": {
        "id": "SSoJjaqO3ciL",
        "colab_type": "text"
      },
      "source": [
        "Sort the array:\n",
        "- along the second row\n",
        "- along the second column"
      ]
    },
    {
      "cell_type": "code",
      "metadata": {
        "id": "M_q6wsne3ciM",
        "colab_type": "code",
        "colab": {}
      },
      "source": [
        "import numpy\n",
        "sampleArray = numpy.array([[34,43,73],[82,22,12],[53,94,66]])"
      ],
      "execution_count": 0,
      "outputs": []
    },
    {
      "cell_type": "code",
      "metadata": {
        "id": "1c7Y6PkfH9Mo",
        "colab_type": "code",
        "colab": {
          "base_uri": "https://localhost:8080/",
          "height": 208
        },
        "outputId": "bb47e852-938e-4fdc-ec7f-17008c47e117"
      },
      "source": [
        "# Preliminary examples showing the different sort APIs\n",
        "# 1. in-place with the array method\n",
        "print(sampleArray)\n",
        "sampleArray.sort(axis=0)\n",
        "print(\"by rows\\n\", sampleArray)\n",
        "sampleArray.sort(axis=1)\n",
        "print(\"by columns\\n\", sampleArray)"
      ],
      "execution_count": 196,
      "outputs": [
        {
          "output_type": "stream",
          "text": [
            "[[34 43 73]\n",
            " [82 22 12]\n",
            " [53 94 66]]\n",
            "by rows\n",
            " [[34 22 12]\n",
            " [53 43 66]\n",
            " [82 94 73]]\n",
            "by columns\n",
            " [[12 22 34]\n",
            " [43 53 66]\n",
            " [73 82 94]]\n"
          ],
          "name": "stdout"
        }
      ]
    },
    {
      "cell_type": "code",
      "metadata": {
        "id": "n4Ve5JJTI2hW",
        "colab_type": "code",
        "colab": {
          "base_uri": "https://localhost:8080/",
          "height": 225
        },
        "outputId": "dde760c1-613a-418b-df19-7093adcbacf4"
      },
      "source": [
        "# 2. returning a new array with `np.sort` function\n",
        "# note that the second sort happens on the original array, unlike in 1.\n",
        "\n",
        "sampleArray = numpy.array([[34,43,73],[82,22,12],[53,94,66]])\n",
        "print(\"original\\n\", sampleArray)\n",
        "print(\"by columns\\n\", np.sort(sampleArray, axis=0)) # reorder the rows of each columns\n",
        "print(\"by rows\\n\", np.sort(sampleArray, axis=1)) # reorder the columns in each row"
      ],
      "execution_count": 204,
      "outputs": [
        {
          "output_type": "stream",
          "text": [
            "original\n",
            " [[34 43 73]\n",
            " [82 22 12]\n",
            " [53 94 66]]\n",
            "by rows\n",
            " [[34 22 12]\n",
            " [53 43 66]\n",
            " [82 94 73]]\n",
            "by columns\n",
            " [[34 43 73]\n",
            " [12 22 82]\n",
            " [53 66 94]]\n"
          ],
          "name": "stdout"
        }
      ]
    },
    {
      "cell_type": "code",
      "metadata": {
        "id": "Qf9jrBTaLfkY",
        "colab_type": "code",
        "colab": {
          "base_uri": "https://localhost:8080/",
          "height": 173
        },
        "outputId": "a84c989e-3df7-423c-86ba-c7b0d73e5113"
      },
      "source": [
        "# code answering the question: using argsort and `np.array` indexing power.\n",
        "sortrow1index = sampleArray[1].argsort()\n",
        "a = sampleArray[:, sortrow1index]\n",
        "\n",
        "# we check that the original array didn't change\n",
        "print(\"original:\\n\", sampleArray)\n",
        "print(\"2d row ordering:\", sortrow1index)\n",
        "print(\"sorted by 2d row:\\n\", a)"
      ],
      "execution_count": 207,
      "outputs": [
        {
          "output_type": "stream",
          "text": [
            "original:\n",
            " [[34 43 73]\n",
            " [82 22 12]\n",
            " [53 94 66]]\n",
            "2d row ordering: [2 1 0]\n",
            "sorted by 2d row:\n",
            " [[73 43 34]\n",
            " [12 22 82]\n",
            " [66 94 53]]\n"
          ],
          "name": "stdout"
        }
      ]
    },
    {
      "cell_type": "code",
      "metadata": {
        "id": "WkQeuyXMKfSA",
        "colab_type": "code",
        "colab": {
          "base_uri": "https://localhost:8080/",
          "height": 87
        },
        "outputId": "dae3556a-162e-4c49-9755-b1aa23c63c20"
      },
      "source": [
        "print(\"sorted by 2d column\\n\", sampleArray[sampleArray[:,1].argsort(),:])"
      ],
      "execution_count": 208,
      "outputs": [
        {
          "output_type": "stream",
          "text": [
            "sorted by 2d column\n",
            " [[82 22 12]\n",
            " [34 43 73]\n",
            " [53 94 66]]\n"
          ],
          "name": "stdout"
        }
      ]
    },
    {
      "cell_type": "markdown",
      "metadata": {
        "id": "lUD4sieL3ciR",
        "colab_type": "text"
      },
      "source": [
        "Given the following array, print the max along axis 0 and the min along axis 1."
      ]
    },
    {
      "cell_type": "code",
      "metadata": {
        "id": "k6As4ku63ciS",
        "colab_type": "code",
        "colab": {}
      },
      "source": [
        "import numpy\n",
        "sampleArray = numpy.array([[34,43,73],[82,22,12],[53,94,66]])"
      ],
      "execution_count": 0,
      "outputs": []
    },
    {
      "cell_type": "code",
      "metadata": {
        "id": "cYa8awfS3ciW",
        "colab_type": "code",
        "outputId": "69b6c037-964f-45a2-fecd-b84a8c386110",
        "colab": {
          "base_uri": "https://localhost:8080/",
          "height": 52
        }
      },
      "source": [
        "# code\n",
        "print(sampleArray.max())\n",
        "print(sampleArray.min())"
      ],
      "execution_count": 187,
      "outputs": [
        {
          "output_type": "stream",
          "text": [
            "94\n",
            "12\n"
          ],
          "name": "stdout"
        }
      ]
    },
    {
      "cell_type": "markdown",
      "metadata": {
        "id": "oC7xG-6h3ciZ",
        "colab_type": "text"
      },
      "source": [
        "Given the following array, remove the second column and replace it with the new column values using `delete` and `insert`. Print the intermediate results."
      ]
    },
    {
      "cell_type": "code",
      "metadata": {
        "id": "697418kM3ciZ",
        "colab_type": "code",
        "colab": {}
      },
      "source": [
        "import numpy\n",
        "sampleArray = numpy.array([[34,43,73],[82,22,12],[53,94,66]]) \n",
        "newColumn = numpy.array([[10,10,10]]) "
      ],
      "execution_count": 0,
      "outputs": []
    },
    {
      "cell_type": "code",
      "metadata": {
        "id": "d5NohQe93cic",
        "colab_type": "code",
        "outputId": "43ae4b8d-d034-4397-9c06-a25ce1c51d8c",
        "colab": {
          "base_uri": "https://localhost:8080/",
          "height": 225
        }
      },
      "source": [
        "# code\n",
        "print(\"Original array:\")\n",
        "print(sampleArray)\n",
        "a2 = np.delete(sampleArray, 1, axis=1)\n",
        "print(\"After removing 2d column:\")\n",
        "print(a2)\n",
        "print(\"Replacing with new column:\")\n",
        "a3 = np.insert(a2, 1, newColumn, axis=1)\n",
        "print(a3)"
      ],
      "execution_count": 195,
      "outputs": [
        {
          "output_type": "stream",
          "text": [
            "Original array:\n",
            "[[34 43 73]\n",
            " [82 22 12]\n",
            " [53 94 66]]\n",
            "After removing 2d column:\n",
            "[[34 73]\n",
            " [82 12]\n",
            " [53 66]]\n",
            "Replacing with new column:\n",
            "[[34 10 73]\n",
            " [82 10 12]\n",
            " [53 10 66]]\n"
          ],
          "name": "stdout"
        }
      ]
    },
    {
      "cell_type": "code",
      "metadata": {
        "id": "0pBXE0793cig",
        "colab_type": "code",
        "colab": {}
      },
      "source": [
        ""
      ],
      "execution_count": 0,
      "outputs": []
    }
  ]
}